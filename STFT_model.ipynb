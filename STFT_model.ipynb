{
 "cells": [
  {
   "cell_type": "code",
   "execution_count": 2,
   "id": "e53626a4",
   "metadata": {},
   "outputs": [],
   "source": [
    "import os\n",
    "import pathlib\n",
    "\n",
    "import matplotlib.pyplot as plt\n",
    "import numpy as np\n",
    "import seaborn as sns\n",
    "import tensorflow as tf\n",
    "\n",
    "from tensorflow.keras.layers.experimental import preprocessing\n",
    "from tensorflow.keras import layers\n",
    "from tensorflow.keras import models\n",
    "from tensorflow import keras\n",
    "from IPython import display\n",
    "\n",
    "\n",
    "import fnmatch\n",
    "\n",
    "# Set seed for experiment reproducibility\n",
    "seed = 42\n",
    "tf.random.set_seed(seed)\n",
    "np.random.seed(seed)"
   ]
  },
  {
   "cell_type": "code",
   "execution_count": 3,
   "id": "52722c88",
   "metadata": {},
   "outputs": [],
   "source": [
    "data_dir = pathlib.Path(r\"D:\\magistracy\\diplom\\records_cut\")\n",
    "filenames = []\n",
    "for root, dirs, files in os.walk(data_dir):\n",
    "    for file in files:\n",
    "        if(file.endswith(\".wav\")):\n",
    "            filenames.append(os.path.join(root,file))"
   ]
  },
  {
   "cell_type": "code",
   "execution_count": 4,
   "id": "16efde2c",
   "metadata": {},
   "outputs": [
    {
     "name": "stdout",
     "output_type": "stream",
     "text": [
      "Notes: ['A' 'A#' 'B' 'C' 'C#' 'D' 'D#' 'E' 'F' 'F#' 'G' 'G#']\n"
     ]
    }
   ],
   "source": [
    "notes = np.array(tf.io.gfile.listdir(str(data_dir)))\n",
    "print('Notes:', notes)"
   ]
  },
  {
   "cell_type": "code",
   "execution_count": 5,
   "id": "81def967",
   "metadata": {},
   "outputs": [
    {
     "data": {
      "text/plain": [
       "['D:\\\\magistracy\\\\diplom\\\\records_cut\\\\A\\\\arpeg-FMaj-060BPM-leg_12.wav',\n",
       " 'D:\\\\magistracy\\\\diplom\\\\records_cut\\\\A\\\\arpeg-FMaj-060BPM-leg_2.wav',\n",
       " 'D:\\\\magistracy\\\\diplom\\\\records_cut\\\\A\\\\arpeg-FMaj-060BPM-leg_5.wav',\n",
       " 'D:\\\\magistracy\\\\diplom\\\\records_cut\\\\A\\\\arpeg-FMaj-060BPM-leg_9.wav',\n",
       " 'D:\\\\magistracy\\\\diplom\\\\records_cut\\\\A\\\\arpeg-FMaj-090BPM-leg_12.wav',\n",
       " 'D:\\\\magistracy\\\\diplom\\\\records_cut\\\\A\\\\arpeg-FMaj-090BPM-leg_2.wav',\n",
       " 'D:\\\\magistracy\\\\diplom\\\\records_cut\\\\A\\\\arpeg-FMaj-090BPM-leg_5.wav',\n",
       " 'D:\\\\magistracy\\\\diplom\\\\records_cut\\\\A\\\\arpeg-FMaj-090BPM-leg_9.wav',\n",
       " 'D:\\\\magistracy\\\\diplom\\\\records_cut\\\\A\\\\arpeg-FMaj-120BPM-leg_12.wav',\n",
       " 'D:\\\\magistracy\\\\diplom\\\\records_cut\\\\A\\\\arpeg-FMaj-120BPM-leg_2.wav']"
      ]
     },
     "execution_count": 5,
     "metadata": {},
     "output_type": "execute_result"
    }
   ],
   "source": [
    "filenames[0:10]"
   ]
  },
  {
   "cell_type": "markdown",
   "id": "85d38257",
   "metadata": {},
   "source": [
    "#### Предварительная проверка файлов на соответствие размеру окна"
   ]
  },
  {
   "cell_type": "code",
   "execution_count": 6,
   "id": "81e67a07",
   "metadata": {},
   "outputs": [],
   "source": [
    "def decode_audio(audio_binary):\n",
    "    audio, _ = tf.audio.decode_wav(audio_binary) # возвращает WAV-кодированные как Тензор и частотой дискретизации.\n",
    "    return tf.squeeze(audio, axis=-1)\n",
    "\n",
    "def get_label(file_path):\n",
    "    parts = tf.strings.split(file_path, os.path.sep)\n",
    "    # Примечание. Здесь будет использоваться индексирование вместо распаковки кортежей, \n",
    "    # чтобы это работало на графике TensorFlow.\n",
    "    return parts[-2]\n",
    "\n",
    "def get_waveform_and_label_check(file_path):\n",
    "    label = get_label(file_path)\n",
    "    audio_binary = tf.io.read_file(file_path)\n",
    "    waveform = decode_audio(audio_binary)\n",
    "    return waveform, label, file_path\n"
   ]
  },
  {
   "cell_type": "code",
   "execution_count": 7,
   "id": "a5af0b0f",
   "metadata": {},
   "outputs": [],
   "source": [
    "AUTOTUNE = tf.data.experimental.AUTOTUNE"
   ]
  },
  {
   "cell_type": "code",
   "execution_count": 8,
   "id": "fcb11c69",
   "metadata": {},
   "outputs": [],
   "source": [
    "files_ds = tf.data.Dataset.from_tensor_slices(filenames)\n",
    "output_ds = files_ds.map(get_waveform_and_label_check, num_parallel_calls=AUTOTUNE)"
   ]
  },
  {
   "cell_type": "code",
   "execution_count": 9,
   "id": "d57feb0d",
   "metadata": {},
   "outputs": [],
   "source": [
    "data = []\n",
    "lengths = []\n",
    "for a,b,c in output_ds:\n",
    "    data.append((a.shape[0],b,c))\n",
    "    lengths.append(a.shape[0])"
   ]
  },
  {
   "cell_type": "code",
   "execution_count": 10,
   "id": "b93f6791",
   "metadata": {},
   "outputs": [
    {
     "name": "stdout",
     "output_type": "stream",
     "text": [
      "27310\n",
      "3518\n",
      "30828\n"
     ]
    }
   ],
   "source": [
    "idx_yes = [] #список индексов файлов с подходящими размерами\n",
    "idx_no = [] #список индексов файлов с неподходящими размерами \n",
    "for a in range(len(lengths)):\n",
    "    if lengths[a]<8192:\n",
    "        idx_no.append(a)\n",
    "    else:\n",
    "        idx_yes.append(a)\n",
    "            \n",
    "print(len(idx_yes))\n",
    "print(len(idx_no))\n",
    "print(len(idx_yes)+len(idx_no))"
   ]
  },
  {
   "cell_type": "code",
   "execution_count": 11,
   "id": "cd89cc19",
   "metadata": {},
   "outputs": [
    {
     "data": {
      "text/plain": [
       "27310"
      ]
     },
     "execution_count": 11,
     "metadata": {},
     "output_type": "execute_result"
    }
   ],
   "source": [
    "filenames_filtered = []\n",
    "for i in range(len(filenames)):\n",
    "    if i in idx_yes:\n",
    "        filenames_filtered.append(filenames[i])\n",
    "len(filenames_filtered)"
   ]
  },
  {
   "cell_type": "markdown",
   "id": "b31b7887",
   "metadata": {},
   "source": [
    "_______________________"
   ]
  },
  {
   "cell_type": "code",
   "execution_count": 12,
   "id": "5c9d88b0",
   "metadata": {},
   "outputs": [
    {
     "name": "stdout",
     "output_type": "stream",
     "text": [
      "Number of total examples: 27310\n",
      "Number of examples per label: 2318\n",
      "Example file tensor: tf.Tensor(b'D:\\\\magistracy\\\\diplom\\\\records_cut\\\\F\\\\kr033a_150.wav', shape=(), dtype=string)\n"
     ]
    }
   ],
   "source": [
    "filenames = tf.random.shuffle(filenames_filtered)\n",
    "num_samples = len(filenames)\n",
    "print('Number of total examples:', num_samples)\n",
    "print('Number of examples per label:',\n",
    "      len(tf.io.gfile.listdir(str(data_dir/notes[0]))))\n",
    "print('Example file tensor:', filenames[0])"
   ]
  },
  {
   "cell_type": "code",
   "execution_count": 13,
   "id": "f95658ff",
   "metadata": {},
   "outputs": [
    {
     "name": "stdout",
     "output_type": "stream",
     "text": [
      "Training set size 18900\n",
      "Validation set size 5400\n",
      "Test set size 2700\n"
     ]
    }
   ],
   "source": [
    "# Для удобства разбиения выборки на тренировочную, тестовую и валидационную возьмем только 27000 файлов, \n",
    "# которые разобьем в соотношении 70:20:10 \n",
    "\n",
    "filenames = filenames[:27000]\n",
    "\n",
    "train_files = filenames[:18900]\n",
    "val_files = filenames[18900: 18900 + 5400]\n",
    "test_files = filenames[-2700:]\n",
    "\n",
    "print('Training set size', len(train_files))\n",
    "print('Validation set size', len(val_files))\n",
    "print('Test set size', len(test_files))"
   ]
  },
  {
   "cell_type": "code",
   "execution_count": 14,
   "id": "e8402fa4",
   "metadata": {},
   "outputs": [
    {
     "data": {
      "text/plain": [
       "TensorShape([11507, 1])"
      ]
     },
     "execution_count": 14,
     "metadata": {},
     "output_type": "execute_result"
    }
   ],
   "source": [
    "# После разделения изначальных аудио-файлов на ноты все получившиеся записи стали моно-записями\n",
    "test_file = tf.io.read_file(filenames[0])\n",
    "test_audio, _ = tf.audio.decode_wav(contents=test_file)\n",
    "test_audio.shape"
   ]
  },
  {
   "cell_type": "code",
   "execution_count": 15,
   "id": "415093de",
   "metadata": {},
   "outputs": [],
   "source": [
    "def get_waveform_and_label(file_path):\n",
    "    label = get_label(file_path)\n",
    "    audio_binary = tf.io.read_file(file_path)\n",
    "    waveform = decode_audio(audio_binary)\n",
    "    return waveform, label"
   ]
  },
  {
   "cell_type": "code",
   "execution_count": 16,
   "id": "eb15ac8f",
   "metadata": {},
   "outputs": [],
   "source": [
    "def get_spectrogram(params):\n",
    "    waveform = params[0]\n",
    "    S = tf.convert_to_tensor(params[1])\n",
    "    K = 8192\n",
    "    waveform = tf.cast(waveform, tf.float32)\n",
    "    spectrogram = tf.signal.stft(waveform, frame_length=K, frame_step=S,fft_length=K,pad_end=True)/np.sqrt(K//2 + 1)\n",
    "    spectrogram = tf.abs(spectrogram)**2\n",
    "    return spectrogram\n"
   ]
  },
  {
   "cell_type": "code",
   "execution_count": 17,
   "id": "5c2b026f",
   "metadata": {},
   "outputs": [],
   "source": [
    "def plot_spectrogram(spectrogram, ax):\n",
    "    # Преобразуем в частоты для логарифмической шкалы и транспонируем так, чтобы время\n",
    "    # было представлено на оси x (столбцы). Эпсилон добавляется, чтобы избежать нуля.\n",
    "    log_spec = np.log(spectrogram.T+np.finfo(float).eps)\n",
    "    height = log_spec.shape[0]\n",
    "    width = log_spec.shape[1]\n",
    "    X = np.linspace(0, width-1, num=width, dtype=int)\n",
    "    Y = range(height)\n",
    "    ax.pcolormesh(X, Y, log_spec)"
   ]
  },
  {
   "cell_type": "code",
   "execution_count": 18,
   "id": "e1c000bf",
   "metadata": {},
   "outputs": [],
   "source": [
    "def get_spectrogram_and_label_id(audio, label, step):\n",
    "    spectrogram = get_spectrogram((audio,step))\n",
    "    #spectrogram = tf.expand_dims(spectrogram, -1)\n",
    "    label_id = tf.argmax(label == notes)\n",
    "    return spectrogram, label_id\n",
    "\n",
    "def get_spectrogram_and_label_id_lim(spectrogram, label_id, M):\n",
    "    spec_length = len(spectrogram)\n",
    "    if spec_length<M:\n",
    "        for k in range(M-spec_length):\n",
    "            spect_last = spectrogram[spec_length-1]\n",
    "            spect_last = tf.expand_dims(spect_last, 0)\n",
    "            spectrogram = tf.concat([spectrogram, spect_last], 0)\n",
    "    elif spec_length>M:\n",
    "        start = tf.random.uniform(shape=[], minval=0, maxval=spec_length-M, dtype=tf.int32)\n",
    "        spectrogram = spectrogram[start:start+M]\n",
    "    else:\n",
    "        spectrogram = spectrogram\n",
    "    return spectrogram, label_id"
   ]
  },
  {
   "cell_type": "code",
   "execution_count": 19,
   "id": "9103af5e",
   "metadata": {},
   "outputs": [],
   "source": [
    "def preprocess_dataset(files,s,f):\n",
    "    files_ds = tf.data.Dataset.from_tensor_slices(files)\n",
    "    output_ds = files_ds.map(get_waveform_and_label, num_parallel_calls=AUTOTUNE)\n",
    "    #output_ds = output_ds.filter(without_zero_len) \n",
    "    output_ds = output_ds.map(lambda x,y: get_spectrogram_and_label_id(x,y,s), num_parallel_calls=AUTOTUNE)\n",
    "    output_ds = output_ds.map(lambda x,y: get_spectrogram_and_label_id_lim(x,y,f))\n",
    "    return output_ds"
   ]
  },
  {
   "cell_type": "code",
   "execution_count": 20,
   "id": "62f29fcc",
   "metadata": {},
   "outputs": [],
   "source": [
    "def create_model(input_shape):\n",
    "    inputs = layers.Input(shape = input_shape, name = \"inputs\")\n",
    "    x = layers.Flatten()(inputs)\n",
    "    x = layers.Dense(512, activation = 'relu', name = \"relu_1\")(x)\n",
    "    x = layers.Dense(512, activation = 'relu', name = \"relu_2\")(x)\n",
    "    x = layers.Dense(512, activation = 'relu', name = \"relu_3\")(x)\n",
    "    outputs = layers.Dense(12,activation = 'softmax', name = \"dense_end\")(x)\n",
    "    model = tf.keras.Model(inputs = inputs, outputs = outputs)\n",
    "    model.compile(optimizer='adam',\n",
    "                  loss = 'sparse_categorical_crossentropy',\n",
    "                  metrics=['accuracy'])\n",
    "    return model"
   ]
  },
  {
   "cell_type": "code",
   "execution_count": 21,
   "id": "bfa9299c",
   "metadata": {
    "scrolled": true
   },
   "outputs": [
    {
     "name": "stdout",
     "output_type": "stream",
     "text": [
      "Количество вариантов step 6\n",
      "Количество вариантов num_frame 6\n",
      "Количество баз данных 36\n"
     ]
    }
   ],
   "source": [
    "K = 8192\n",
    "step = list(map(int,[K/32, K/16, K/8, K/4, K/2, K]))\n",
    "num_frame = [5,10,15,20,25,30]\n",
    "params_s_f = [] \n",
    "\n",
    "for s in step:\n",
    "    for f in num_frame:\n",
    "        params_s_f.append((s,f))\n",
    "print('Количество вариантов step', len(step))\n",
    "print('Количество вариантов num_frame', len(num_frame))\n",
    "print('Количество баз данных', len(params_s_f))"
   ]
  },
  {
   "cell_type": "code",
   "execution_count": 22,
   "id": "5ba1ee9a",
   "metadata": {},
   "outputs": [],
   "source": [
    "import time\n",
    "EPOCHS = 300\n",
    "models = []\n",
    "histories = []"
   ]
  },
  {
   "cell_type": "code",
   "execution_count": 23,
   "id": "e3bfdedc",
   "metadata": {},
   "outputs": [
    {
     "data": {
      "text/plain": [
       "36"
      ]
     },
     "execution_count": 23,
     "metadata": {},
     "output_type": "execute_result"
    }
   ],
   "source": [
    "spectrs = [preprocess_dataset(train_files,params_s_f[k][0],params_s_f[k][1]) for k in range(len(params_s_f))]\n",
    "\n",
    "train_=spectrs\n",
    "val_ = [preprocess_dataset(val_files,params_s_f[k][0],params_s_f[k][1]) for k in range(len(params_s_f))]\n",
    "test_ = [preprocess_dataset(test_files,params_s_f[k][0],params_s_f[k][1]) for k in range(len(params_s_f))]\n",
    "len(spectrs)"
   ]
  },
  {
   "cell_type": "code",
   "execution_count": 24,
   "id": "74e1d260",
   "metadata": {},
   "outputs": [
    {
     "name": "stdout",
     "output_type": "stream",
     "text": [
      "[TensorShape([5, 4097]), TensorShape([10, 4097]), TensorShape([15, 4097]), TensorShape([20, 4097]), TensorShape([25, 4097]), TensorShape([30, 4097]), TensorShape([5, 4097]), TensorShape([10, 4097]), TensorShape([15, 4097]), TensorShape([20, 4097]), TensorShape([25, 4097]), TensorShape([30, 4097]), TensorShape([5, 4097]), TensorShape([10, 4097]), TensorShape([15, 4097]), TensorShape([20, 4097]), TensorShape([25, 4097]), TensorShape([30, 4097]), TensorShape([5, 4097]), TensorShape([10, 4097]), TensorShape([15, 4097]), TensorShape([20, 4097]), TensorShape([25, 4097]), TensorShape([30, 4097]), TensorShape([5, 4097]), TensorShape([10, 4097]), TensorShape([15, 4097]), TensorShape([20, 4097]), TensorShape([25, 4097]), TensorShape([30, 4097]), TensorShape([5, 4097]), TensorShape([10, 4097]), TensorShape([15, 4097]), TensorShape([20, 4097]), TensorShape([25, 4097]), TensorShape([30, 4097])]\n"
     ]
    }
   ],
   "source": [
    "batch_size = 64\n",
    "\n",
    "train_ = [t.batch(batch_size) for t in train_]\n",
    "val_ = [v.batch(batch_size) for v in val_]\n",
    "train_ = [t.cache().prefetch(AUTOTUNE) for t in train_]\n",
    "val_ = [v.cache().prefetch(AUTOTUNE) for v in val_]\n",
    "\n",
    "\n",
    "test_audio_ = []\n",
    "test_labels_ = []\n",
    "\n",
    "for t_ds in test_:\n",
    "    test_audio = []\n",
    "    test_labels = []\n",
    "    for audio, label in t_ds:\n",
    "        test_audio.append(audio.numpy())\n",
    "        test_labels.append(label.numpy())\n",
    "    test_audio = np.array(test_audio)\n",
    "    test_labels = np.array(test_labels)\n",
    "    test_audio_.append(test_audio)\n",
    "    test_labels_.append(test_labels)\n",
    "\n",
    "input_shapes = []    \n",
    "for s_ds in spectrs:\n",
    "    for spectrogram, _ in s_ds.take(1):\n",
    "        input_shapes.append(spectrogram.shape)\n",
    "print(input_shapes)"
   ]
  },
  {
   "cell_type": "code",
   "execution_count": 25,
   "id": "bc4cdf6c",
   "metadata": {},
   "outputs": [
    {
     "name": "stdout",
     "output_type": "stream",
     "text": [
      "---------------------------------------------------------------------\n",
      "Шаг: 256 , количество спектрограмм:  5\n",
      "2022-06-08 13:06:14\n",
      "Epoch 1/100\n",
      "296/296 [==============================] - 104s 341ms/step - loss: 1.1908 - accuracy: 0.7070 - val_loss: 0.9792 - val_accuracy: 0.7335\n",
      "Epoch 2/100\n",
      "296/296 [==============================] - 10s 33ms/step - loss: 0.9048 - accuracy: 0.7422 - val_loss: 0.8875 - val_accuracy: 0.7324\n",
      "Epoch 3/100\n",
      "296/296 [==============================] - 10s 33ms/step - loss: 0.8008 - accuracy: 0.7604 - val_loss: 0.8691 - val_accuracy: 0.7424\n",
      "Epoch 4/100\n",
      "296/296 [==============================] - 10s 33ms/step - loss: 0.7691 - accuracy: 0.7718 - val_loss: 0.8653 - val_accuracy: 0.7470\n",
      "Epoch 5/100\n",
      "296/296 [==============================] - 10s 34ms/step - loss: 0.7007 - accuracy: 0.7835 - val_loss: 0.8658 - val_accuracy: 0.7544\n",
      "Epoch 6/100\n",
      "296/296 [==============================] - 10s 34ms/step - loss: 0.6749 - accuracy: 0.7919 - val_loss: 0.8682 - val_accuracy: 0.7544\n",
      "Epoch 7/100\n",
      "296/296 [==============================] - 10s 33ms/step - loss: 0.6383 - accuracy: 0.8029 - val_loss: 0.8606 - val_accuracy: 0.7641\n",
      "Epoch 8/100\n",
      "296/296 [==============================] - 10s 33ms/step - loss: 0.6125 - accuracy: 0.8105 - val_loss: 0.9075 - val_accuracy: 0.7530\n",
      "Epoch 9/100\n",
      "296/296 [==============================] - 10s 33ms/step - loss: 0.5920 - accuracy: 0.8170 - val_loss: 0.9118 - val_accuracy: 0.7600\n",
      "Epoch 10/100\n",
      "296/296 [==============================] - 10s 33ms/step - loss: 0.5686 - accuracy: 0.8234 - val_loss: 1.0562 - val_accuracy: 0.7656\n",
      "Epoch 11/100\n",
      "296/296 [==============================] - 10s 33ms/step - loss: 0.5569 - accuracy: 0.8283 - val_loss: 1.0679 - val_accuracy: 0.7672\n",
      "Epoch 12/100\n",
      "296/296 [==============================] - 10s 32ms/step - loss: 0.5717 - accuracy: 0.8263 - val_loss: 1.0555 - val_accuracy: 0.7652\n",
      "Epoch 13/100\n",
      "296/296 [==============================] - 10s 33ms/step - loss: 0.5302 - accuracy: 0.8382 - val_loss: 1.0712 - val_accuracy: 0.7702\n",
      "Epoch 14/100\n",
      "296/296 [==============================] - 10s 32ms/step - loss: 0.4933 - accuracy: 0.8441 - val_loss: 1.1154 - val_accuracy: 0.7676\n",
      "Epoch 15/100\n",
      "296/296 [==============================] - 10s 33ms/step - loss: 0.4536 - accuracy: 0.8531 - val_loss: 1.1719 - val_accuracy: 0.7700\n",
      "Epoch 16/100\n",
      "296/296 [==============================] - 10s 33ms/step - loss: 0.4450 - accuracy: 0.8549 - val_loss: 1.2178 - val_accuracy: 0.7663\n",
      "Epoch 17/100\n",
      "296/296 [==============================] - 10s 33ms/step - loss: 0.4312 - accuracy: 0.8603 - val_loss: 1.2994 - val_accuracy: 0.7667\n",
      "Epoch 18/100\n",
      "296/296 [==============================] - 10s 33ms/step - loss: 0.4283 - accuracy: 0.8622 - val_loss: 1.3557 - val_accuracy: 0.7711\n",
      "Epoch 19/100\n",
      "296/296 [==============================] - 10s 33ms/step - loss: 0.4095 - accuracy: 0.8653 - val_loss: 1.4651 - val_accuracy: 0.7702\n",
      "Epoch 20/100\n",
      "296/296 [==============================] - 10s 33ms/step - loss: 0.4185 - accuracy: 0.8688 - val_loss: 1.3958 - val_accuracy: 0.7685\n",
      "Epoch 21/100\n",
      "296/296 [==============================] - 10s 33ms/step - loss: 0.3857 - accuracy: 0.8744 - val_loss: 1.6147 - val_accuracy: 0.7637\n",
      "Epoch 22/100\n",
      "296/296 [==============================] - 10s 33ms/step - loss: 0.3733 - accuracy: 0.8770 - val_loss: 1.5571 - val_accuracy: 0.7622\n",
      "Epoch 23/100\n",
      "296/296 [==============================] - 10s 33ms/step - loss: 0.3976 - accuracy: 0.8734 - val_loss: 1.4928 - val_accuracy: 0.7676\n",
      "Epoch 24/100\n",
      "296/296 [==============================] - 10s 33ms/step - loss: 0.3782 - accuracy: 0.8770 - val_loss: 1.4843 - val_accuracy: 0.7681\n",
      "Epoch 25/100\n",
      "296/296 [==============================] - 10s 33ms/step - loss: 0.3615 - accuracy: 0.8837 - val_loss: 1.5449 - val_accuracy: 0.7674\n",
      "Epoch 26/100\n",
      "296/296 [==============================] - 10s 33ms/step - loss: 0.3373 - accuracy: 0.8895 - val_loss: 1.6346 - val_accuracy: 0.7659\n",
      "Epoch 27/100\n",
      "296/296 [==============================] - 10s 33ms/step - loss: 0.3617 - accuracy: 0.8893 - val_loss: 1.7763 - val_accuracy: 0.7722\n",
      "Epoch 28/100\n",
      "296/296 [==============================] - 10s 33ms/step - loss: 0.3111 - accuracy: 0.8958 - val_loss: 1.9157 - val_accuracy: 0.7683\n",
      "Epoch 29/100\n",
      "296/296 [==============================] - 10s 33ms/step - loss: 0.2959 - accuracy: 0.8997 - val_loss: 2.1212 - val_accuracy: 0.7676\n",
      "Epoch 30/100\n",
      "296/296 [==============================] - 10s 33ms/step - loss: 0.3001 - accuracy: 0.8995 - val_loss: 2.1685 - val_accuracy: 0.7665\n",
      "Epoch 31/100\n",
      "296/296 [==============================] - 10s 33ms/step - loss: 0.3059 - accuracy: 0.8993 - val_loss: 1.9749 - val_accuracy: 0.7635\n",
      "Epoch 32/100\n",
      "296/296 [==============================] - 10s 33ms/step - loss: 0.3008 - accuracy: 0.8992 - val_loss: 1.9522 - val_accuracy: 0.7696\n",
      "Epoch 33/100\n",
      "296/296 [==============================] - 10s 33ms/step - loss: 0.3060 - accuracy: 0.8975 - val_loss: 1.9756 - val_accuracy: 0.7617\n",
      "Epoch 34/100\n",
      "296/296 [==============================] - 10s 33ms/step - loss: 0.2987 - accuracy: 0.9011 - val_loss: 2.0114 - val_accuracy: 0.7681\n",
      "Epoch 35/100\n",
      "296/296 [==============================] - 10s 33ms/step - loss: 0.3014 - accuracy: 0.9048 - val_loss: 2.1119 - val_accuracy: 0.7744\n",
      "Epoch 36/100\n",
      "296/296 [==============================] - 10s 33ms/step - loss: 0.2760 - accuracy: 0.9089 - val_loss: 2.2970 - val_accuracy: 0.7681\n",
      "Epoch 37/100\n",
      "296/296 [==============================] - 10s 33ms/step - loss: 0.2602 - accuracy: 0.9148 - val_loss: 2.4048 - val_accuracy: 0.7678\n",
      "Epoch 38/100\n",
      "296/296 [==============================] - 10s 33ms/step - loss: 0.2446 - accuracy: 0.9148 - val_loss: 2.3745 - val_accuracy: 0.7676\n",
      "Epoch 39/100\n",
      "296/296 [==============================] - 10s 33ms/step - loss: 0.2707 - accuracy: 0.9108 - val_loss: 2.4917 - val_accuracy: 0.7552\n",
      "Epoch 40/100\n",
      "296/296 [==============================] - 10s 33ms/step - loss: 0.2891 - accuracy: 0.9085 - val_loss: 2.7643 - val_accuracy: 0.7619\n",
      "Epoch 41/100\n",
      "296/296 [==============================] - 10s 33ms/step - loss: 0.3324 - accuracy: 0.9095 - val_loss: 2.2637 - val_accuracy: 0.7676\n",
      "Epoch 42/100\n",
      "296/296 [==============================] - 10s 33ms/step - loss: 0.2613 - accuracy: 0.9172 - val_loss: 2.6903 - val_accuracy: 0.7665\n",
      "Epoch 43/100\n",
      "296/296 [==============================] - 10s 33ms/step - loss: 0.2480 - accuracy: 0.9198 - val_loss: 2.7766 - val_accuracy: 0.7644\n",
      "Epoch 44/100\n",
      "296/296 [==============================] - 10s 33ms/step - loss: 0.2506 - accuracy: 0.9218 - val_loss: 2.6119 - val_accuracy: 0.7635\n",
      "Epoch 45/100\n",
      "296/296 [==============================] - 10s 33ms/step - loss: 0.2327 - accuracy: 0.9237 - val_loss: 2.4884 - val_accuracy: 0.7639\n",
      "Epoch 46/100\n",
      "296/296 [==============================] - 10s 33ms/step - loss: 0.2414 - accuracy: 0.9229 - val_loss: 2.7921 - val_accuracy: 0.7700\n",
      "Epoch 47/100\n",
      "296/296 [==============================] - 10s 33ms/step - loss: 0.2515 - accuracy: 0.9184 - val_loss: 2.8140 - val_accuracy: 0.7622\n",
      "Epoch 48/100\n",
      "296/296 [==============================] - 10s 33ms/step - loss: 0.2535 - accuracy: 0.9239 - val_loss: 2.7541 - val_accuracy: 0.7683\n",
      "Epoch 49/100\n",
      "296/296 [==============================] - 10s 33ms/step - loss: 0.2359 - accuracy: 0.9250 - val_loss: 2.6672 - val_accuracy: 0.7680\n",
      "Epoch 50/100\n",
      "296/296 [==============================] - 10s 33ms/step - loss: 0.2174 - accuracy: 0.9279 - val_loss: 2.7147 - val_accuracy: 0.7628\n",
      "Epoch 51/100\n",
      "296/296 [==============================] - 10s 33ms/step - loss: 0.2214 - accuracy: 0.9261 - val_loss: 2.7330 - val_accuracy: 0.7681\n",
      "Epoch 52/100\n",
      "296/296 [==============================] - 10s 33ms/step - loss: 0.2100 - accuracy: 0.9296 - val_loss: 2.5877 - val_accuracy: 0.7646\n",
      "Epoch 53/100\n",
      "296/296 [==============================] - 10s 33ms/step - loss: 0.2158 - accuracy: 0.9274 - val_loss: 2.7171 - val_accuracy: 0.7672\n",
      "Epoch 54/100\n",
      "296/296 [==============================] - 10s 33ms/step - loss: 0.2330 - accuracy: 0.9309 - val_loss: 3.0916 - val_accuracy: 0.7744\n",
      "Epoch 55/100\n",
      "296/296 [==============================] - 10s 33ms/step - loss: 0.2745 - accuracy: 0.9256 - val_loss: 2.9969 - val_accuracy: 0.7685\n",
      "Epoch 56/100\n",
      "296/296 [==============================] - 10s 33ms/step - loss: 0.2241 - accuracy: 0.9304 - val_loss: 3.0898 - val_accuracy: 0.7631\n",
      "Epoch 57/100\n",
      "296/296 [==============================] - 10s 33ms/step - loss: 0.2090 - accuracy: 0.9297 - val_loss: 3.2192 - val_accuracy: 0.7685\n",
      "Epoch 58/100\n",
      "296/296 [==============================] - 10s 33ms/step - loss: 0.2128 - accuracy: 0.9322 - val_loss: 3.0491 - val_accuracy: 0.7641\n",
      "Epoch 59/100\n",
      "296/296 [==============================] - 10s 33ms/step - loss: 0.2018 - accuracy: 0.9341 - val_loss: 3.0584 - val_accuracy: 0.7680\n",
      "Epoch 60/100\n",
      "296/296 [==============================] - 10s 33ms/step - loss: 0.1970 - accuracy: 0.9359 - val_loss: 3.0615 - val_accuracy: 0.7719\n",
      "Epoch 61/100\n",
      "296/296 [==============================] - 10s 33ms/step - loss: 0.1975 - accuracy: 0.9332 - val_loss: 2.8183 - val_accuracy: 0.7652\n",
      "Epoch 62/100\n",
      "296/296 [==============================] - 10s 33ms/step - loss: 0.1938 - accuracy: 0.9348 - val_loss: 2.8469 - val_accuracy: 0.7639\n",
      "Epoch 63/100\n",
      "296/296 [==============================] - 10s 33ms/step - loss: 0.1931 - accuracy: 0.9347 - val_loss: 3.0580 - val_accuracy: 0.7694\n",
      "Epoch 64/100\n",
      "296/296 [==============================] - 10s 33ms/step - loss: 0.2004 - accuracy: 0.9338 - val_loss: 3.0704 - val_accuracy: 0.7624\n",
      "Epoch 65/100\n",
      "296/296 [==============================] - 10s 33ms/step - loss: 0.1905 - accuracy: 0.9379 - val_loss: 2.9136 - val_accuracy: 0.7681\n",
      "Epoch 66/100\n",
      "296/296 [==============================] - 10s 33ms/step - loss: 0.1867 - accuracy: 0.9395 - val_loss: 3.0169 - val_accuracy: 0.7593\n",
      "Epoch 67/100\n",
      "296/296 [==============================] - 10s 33ms/step - loss: 0.1816 - accuracy: 0.9394 - val_loss: 3.0057 - val_accuracy: 0.7663\n",
      "Epoch 68/100\n",
      "296/296 [==============================] - 10s 33ms/step - loss: 0.1840 - accuracy: 0.9399 - val_loss: 3.0105 - val_accuracy: 0.7661\n",
      "Epoch 69/100\n",
      "296/296 [==============================] - 10s 33ms/step - loss: 0.2154 - accuracy: 0.9313 - val_loss: 2.8309 - val_accuracy: 0.7648\n",
      "Epoch 70/100\n",
      "296/296 [==============================] - 10s 33ms/step - loss: 0.2047 - accuracy: 0.9357 - val_loss: 2.8970 - val_accuracy: 0.7702\n",
      "Epoch 71/100\n",
      "296/296 [==============================] - 10s 33ms/step - loss: 0.1981 - accuracy: 0.9375 - val_loss: 2.8101 - val_accuracy: 0.7633\n",
      "Epoch 72/100\n",
      "296/296 [==============================] - 10s 33ms/step - loss: 0.1890 - accuracy: 0.9379 - val_loss: 2.7888 - val_accuracy: 0.7685\n",
      "Epoch 73/100\n",
      "296/296 [==============================] - 10s 33ms/step - loss: 0.1735 - accuracy: 0.9430 - val_loss: 2.8512 - val_accuracy: 0.7722\n",
      "Epoch 74/100\n",
      "296/296 [==============================] - 10s 33ms/step - loss: 0.1712 - accuracy: 0.9434 - val_loss: 2.8733 - val_accuracy: 0.7661\n",
      "Epoch 75/100\n",
      "296/296 [==============================] - 10s 33ms/step - loss: 0.2306 - accuracy: 0.9430 - val_loss: 2.8657 - val_accuracy: 0.7685\n",
      "Epoch 76/100\n",
      "296/296 [==============================] - 10s 33ms/step - loss: 0.2410 - accuracy: 0.9368 - val_loss: 2.7328 - val_accuracy: 0.7678\n",
      "Epoch 77/100\n",
      "296/296 [==============================] - 10s 33ms/step - loss: 0.2285 - accuracy: 0.9353 - val_loss: 2.8470 - val_accuracy: 0.7670\n",
      "Epoch 78/100\n",
      "296/296 [==============================] - 10s 33ms/step - loss: 0.2053 - accuracy: 0.9357 - val_loss: 2.9232 - val_accuracy: 0.7687\n",
      "Epoch 79/100\n",
      "296/296 [==============================] - 10s 33ms/step - loss: 0.1561 - accuracy: 0.9469 - val_loss: 3.0343 - val_accuracy: 0.7676\n",
      "Epoch 80/100\n",
      "296/296 [==============================] - 10s 33ms/step - loss: 0.1476 - accuracy: 0.9497 - val_loss: 3.1336 - val_accuracy: 0.7680\n",
      "Epoch 81/100\n",
      "296/296 [==============================] - 10s 33ms/step - loss: 0.1622 - accuracy: 0.9461 - val_loss: 2.8643 - val_accuracy: 0.7681\n",
      "Epoch 82/100\n",
      "296/296 [==============================] - 10s 33ms/step - loss: 0.1544 - accuracy: 0.9469 - val_loss: 3.2459 - val_accuracy: 0.7691\n",
      "Epoch 83/100\n",
      "296/296 [==============================] - 10s 33ms/step - loss: 0.2072 - accuracy: 0.9406 - val_loss: 3.1864 - val_accuracy: 0.7619\n",
      "Epoch 84/100\n",
      "296/296 [==============================] - 10s 33ms/step - loss: 0.1865 - accuracy: 0.9409 - val_loss: 3.5306 - val_accuracy: 0.7678\n",
      "Epoch 85/100\n",
      "296/296 [==============================] - 10s 33ms/step - loss: 0.2392 - accuracy: 0.9424 - val_loss: 2.8731 - val_accuracy: 0.7669\n",
      "Epoch 86/100\n",
      "296/296 [==============================] - 10s 33ms/step - loss: 0.1685 - accuracy: 0.9445 - val_loss: 2.8925 - val_accuracy: 0.7633\n",
      "Epoch 87/100\n",
      "296/296 [==============================] - 10s 33ms/step - loss: 0.1595 - accuracy: 0.9471 - val_loss: 3.0979 - val_accuracy: 0.7717\n",
      "Epoch 88/100\n",
      "296/296 [==============================] - 10s 33ms/step - loss: 0.1629 - accuracy: 0.9472 - val_loss: 4.3541 - val_accuracy: 0.7715\n",
      "Epoch 89/100\n",
      "296/296 [==============================] - 10s 33ms/step - loss: 0.2986 - accuracy: 0.9423 - val_loss: 3.5703 - val_accuracy: 0.7774\n",
      "Epoch 90/100\n",
      "296/296 [==============================] - 10s 33ms/step - loss: 0.1781 - accuracy: 0.9429 - val_loss: 3.7113 - val_accuracy: 0.7704\n",
      "Epoch 91/100\n",
      "296/296 [==============================] - 10s 33ms/step - loss: 0.1667 - accuracy: 0.9468 - val_loss: 3.5588 - val_accuracy: 0.7711\n",
      "Epoch 92/100\n",
      "296/296 [==============================] - 10s 33ms/step - loss: 0.1552 - accuracy: 0.9475 - val_loss: 3.7320 - val_accuracy: 0.7763\n",
      "Epoch 93/100\n",
      "296/296 [==============================] - 10s 33ms/step - loss: 0.1522 - accuracy: 0.9483 - val_loss: 3.6934 - val_accuracy: 0.7726\n",
      "Epoch 94/100\n",
      "296/296 [==============================] - 10s 33ms/step - loss: 0.1543 - accuracy: 0.9497 - val_loss: 3.5644 - val_accuracy: 0.7748\n",
      "Epoch 95/100\n",
      "296/296 [==============================] - 10s 33ms/step - loss: 0.1514 - accuracy: 0.9504 - val_loss: 3.5344 - val_accuracy: 0.7730\n",
      "Epoch 96/100\n",
      "296/296 [==============================] - 10s 33ms/step - loss: 0.1552 - accuracy: 0.9477 - val_loss: 3.3793 - val_accuracy: 0.7739\n",
      "Epoch 97/100\n",
      "296/296 [==============================] - 10s 33ms/step - loss: 0.1493 - accuracy: 0.9506 - val_loss: 3.6269 - val_accuracy: 0.7774\n",
      "Epoch 98/100\n",
      "296/296 [==============================] - 10s 33ms/step - loss: 0.1570 - accuracy: 0.9525 - val_loss: 3.5450 - val_accuracy: 0.7687\n",
      "Epoch 99/100\n",
      "296/296 [==============================] - 10s 33ms/step - loss: 0.1888 - accuracy: 0.9501 - val_loss: 3.3605 - val_accuracy: 0.7707\n",
      "Epoch 100/100\n",
      "296/296 [==============================] - 10s 33ms/step - loss: 0.1646 - accuracy: 0.9494 - val_loss: 3.3387 - val_accuracy: 0.7715\n",
      "--- 17.0 минут 51.36458420753479 секунд ---\n",
      "85/85 [==============================] - 2s 21ms/step\n",
      "Шаг: 256 , количество спектрограмм:  5 , accuracy тестовой выборки:  76.37037037037037 %\n"
     ]
    },
    {
     "data": {
      "text/plain": [
       "[Text(0.5, 0, 'Номер эпохи'),\n",
       " Text(0, 0.5, 'Точность'),\n",
       " Text(0.5, 1.0, 'Точность тренировочная/проверочная')]"
      ]
     },
     "execution_count": 25,
     "metadata": {},
     "output_type": "execute_result"
    },
    {
     "data": {
      "image/png": "[encoded data removed]",
      "text/plain": [
       "<Figure size 432x432 with 2 Axes>"
      ]
     },
     "metadata": {
      "needs_background": "light"
     },
     "output_type": "display_data"
    }
   ],
   "source": [
    "from datetime import datetime\n",
    "\n",
    "k = 0\n",
    "print('---------------------------------------------------------------------')\n",
    "print('Шаг:', params_s_f[k][0], ', количество спектрограмм: ',params_s_f[k][1])\n",
    "print(datetime.now().strftime('%Y-%m-%d %H:%M:%S'))\n",
    "\n",
    "mymodel = create_model(input_shapes[k])\n",
    "\n",
    "start_time = time.time()\n",
    "myhistory = mymodel.fit(train_[k], validation_data=val_[k], epochs=EPOCHS, verbose=1)\n",
    "minutes, seconds = ((time.time() - start_time) - 3600 * ((time.time() - start_time) // 3600)) // 60, (time.time() - start_time) % 60\n",
    "print(f\"--- {minutes} минут {seconds} секунд ---\")\n",
    "\n",
    "metrics = myhistory.history\n",
    "y_pred = np.argmax(mymodel.predict(test_audio_[k]), axis=1)\n",
    "y_true = test_labels_[k]\n",
    "test_acc = sum(y_pred == y_true) / len(y_true) * 100\n",
    "\n",
    "print('Шаг:', params_s_f[k][0], ', количество спектрограмм: ',params_s_f[k][1], ', accuracy тестовой выборки: ', test_acc, '%')\n",
    "\n",
    "\n",
    "fig, axes = plt.subplots(2, 1, figsize=(6, 6), constrained_layout=True)\n",
    "axes[0].plot(myhistory.epoch, metrics['loss'], metrics['val_loss'])\n",
    "axes[0].legend(['loss', 'val_loss'])\n",
    "axes[0].set(xlabel='Номер эпохи', ylabel='Функция штрафа', title=f'Штраф тренировочный/проверочный')\n",
    "\n",
    "axes[1].plot(myhistory.epoch, metrics['accuracy'], metrics['val_accuracy'])\n",
    "axes[1].legend(['accuracy', 'val_accuracy'])\n",
    "axes[1].set(xlabel='Номер эпохи', ylabel='Точность', title=f'Точность тренировочная/проверочная')"
   ]
  },
  {
   "cell_type": "code",
   "execution_count": 26,
   "id": "53755196",
   "metadata": {},
   "outputs": [
    {
     "name": "stdout",
     "output_type": "stream",
     "text": [
      "---------------------------------------------------------------------\n",
      "Шаг: 256 , количество спектрограмм:  5\n",
      "2022-06-08 14:40:35\n",
      "--- 4.0 минут 31.456457376480103 секунд ---\n",
      "85/85 [==============================] - 2s 20ms/step\n",
      "Шаг: 256 , количество спектрограмм:  5 , accuracy тестовой выборки:  76.18518518518519 %\n",
      "---------------------------------------------------------------------\n",
      "Шаг: 256 , количество спектрограмм:  10\n",
      "2022-06-08 14:45:08\n",
      "--- 5.0 минут 39.818708419799805 секунд ---\n",
      "85/85 [==============================] - 5s 44ms/step\n",
      "Шаг: 256 , количество спектрограмм:  10 , accuracy тестовой выборки:  80.33333333333333 %\n",
      "---------------------------------------------------------------------\n",
      "Шаг: 256 , количество спектрограмм:  15\n",
      "2022-06-08 14:50:53\n",
      "--- 7.0 минут 45.644933462142944 секунд ---\n",
      "85/85 [==============================] - 9s 86ms/step\n",
      "Шаг: 256 , количество спектрограмм:  15 , accuracy тестовой выборки:  84.62962962962963 %\n",
      "---------------------------------------------------------------------\n",
      "Шаг: 256 , количество спектрограмм:  20\n",
      "2022-06-08 14:58:49\n",
      "--- 10.0 минут 25.072410106658936 секунд ---\n",
      "85/85 [==============================] - 10s 103ms/step\n",
      "Шаг: 256 , количество спектрограмм:  20 , accuracy тестовой выборки:  87.33333333333333 %\n",
      "---------------------------------------------------------------------\n",
      "Шаг: 256 , количество спектрограмм:  25\n",
      "2022-06-08 15:09:25\n"
     ]
    },
    {
     "ename": "ResourceExhaustedError",
     "evalue": "Graph execution error:\n\nOOM when allocating tensor with shape[259,8192] and type complex64 on /job:localhost/replica:0/task:0/device:CPU:0 by allocator cpu\n\t [[{{node stft/rfft}}]]\n\t [[IteratorGetNext]]\nHint: If you want to see a list of allocated tensors when OOM happens, add report_tensor_allocations_upon_oom to RunOptions for current allocation info. This isn't available when running in Eager mode.\n [Op:__inference_train_function_420466]",
     "output_type": "error",
     "traceback": [
      "\u001b[1;31m---------------------------------------------------------------------------\u001b[0m",
      "\u001b[1;31mResourceExhaustedError\u001b[0m                    Traceback (most recent call last)",
      "\u001b[1;32m~\\AppData\\Local\\Temp/ipykernel_1356/3193990158.py\u001b[0m in \u001b[0;36m<module>\u001b[1;34m\u001b[0m\n\u001b[0;32m     10\u001b[0m \u001b[1;33m\u001b[0m\u001b[0m\n\u001b[0;32m     11\u001b[0m     \u001b[0mstart_time\u001b[0m \u001b[1;33m=\u001b[0m \u001b[0mtime\u001b[0m\u001b[1;33m.\u001b[0m\u001b[0mtime\u001b[0m\u001b[1;33m(\u001b[0m\u001b[1;33m)\u001b[0m\u001b[1;33m\u001b[0m\u001b[1;33m\u001b[0m\u001b[0m\n\u001b[1;32m---> 12\u001b[1;33m     myhistory = mymodel.fit(train_[k], validation_data=val_[k], epochs=EPOCHS, verbose=0,\n\u001b[0m\u001b[0;32m     13\u001b[0m                            callbacks=tf.keras.callbacks.EarlyStopping(monitor='val_loss', patience=10))\n\u001b[0;32m     14\u001b[0m     \u001b[0mminutes\u001b[0m\u001b[1;33m,\u001b[0m \u001b[0mseconds\u001b[0m \u001b[1;33m=\u001b[0m \u001b[1;33m(\u001b[0m\u001b[1;33m(\u001b[0m\u001b[0mtime\u001b[0m\u001b[1;33m.\u001b[0m\u001b[0mtime\u001b[0m\u001b[1;33m(\u001b[0m\u001b[1;33m)\u001b[0m \u001b[1;33m-\u001b[0m \u001b[0mstart_time\u001b[0m\u001b[1;33m)\u001b[0m \u001b[1;33m-\u001b[0m \u001b[1;36m3600\u001b[0m \u001b[1;33m*\u001b[0m \u001b[1;33m(\u001b[0m\u001b[1;33m(\u001b[0m\u001b[0mtime\u001b[0m\u001b[1;33m.\u001b[0m\u001b[0mtime\u001b[0m\u001b[1;33m(\u001b[0m\u001b[1;33m)\u001b[0m \u001b[1;33m-\u001b[0m \u001b[0mstart_time\u001b[0m\u001b[1;33m)\u001b[0m \u001b[1;33m//\u001b[0m \u001b[1;36m3600\u001b[0m\u001b[1;33m)\u001b[0m\u001b[1;33m)\u001b[0m \u001b[1;33m//\u001b[0m \u001b[1;36m60\u001b[0m\u001b[1;33m,\u001b[0m \u001b[1;33m(\u001b[0m\u001b[0mtime\u001b[0m\u001b[1;33m.\u001b[0m\u001b[0mtime\u001b[0m\u001b[1;33m(\u001b[0m\u001b[1;33m)\u001b[0m \u001b[1;33m-\u001b[0m \u001b[0mstart_time\u001b[0m\u001b[1;33m)\u001b[0m \u001b[1;33m%\u001b[0m \u001b[1;36m60\u001b[0m\u001b[1;33m\u001b[0m\u001b[1;33m\u001b[0m\u001b[0m\n",
      "\u001b[1;32mD:\\anaconda3\\lib\\site-packages\\keras\\utils\\traceback_utils.py\u001b[0m in \u001b[0;36merror_handler\u001b[1;34m(*args, **kwargs)\u001b[0m\n\u001b[0;32m     65\u001b[0m     \u001b[1;32mexcept\u001b[0m \u001b[0mException\u001b[0m \u001b[1;32mas\u001b[0m \u001b[0me\u001b[0m\u001b[1;33m:\u001b[0m  \u001b[1;31m# pylint: disable=broad-except\u001b[0m\u001b[1;33m\u001b[0m\u001b[1;33m\u001b[0m\u001b[0m\n\u001b[0;32m     66\u001b[0m       \u001b[0mfiltered_tb\u001b[0m \u001b[1;33m=\u001b[0m \u001b[0m_process_traceback_frames\u001b[0m\u001b[1;33m(\u001b[0m\u001b[0me\u001b[0m\u001b[1;33m.\u001b[0m\u001b[0m__traceback__\u001b[0m\u001b[1;33m)\u001b[0m\u001b[1;33m\u001b[0m\u001b[1;33m\u001b[0m\u001b[0m\n\u001b[1;32m---> 67\u001b[1;33m       \u001b[1;32mraise\u001b[0m \u001b[0me\u001b[0m\u001b[1;33m.\u001b[0m\u001b[0mwith_traceback\u001b[0m\u001b[1;33m(\u001b[0m\u001b[0mfiltered_tb\u001b[0m\u001b[1;33m)\u001b[0m \u001b[1;32mfrom\u001b[0m \u001b[1;32mNone\u001b[0m\u001b[1;33m\u001b[0m\u001b[1;33m\u001b[0m\u001b[0m\n\u001b[0m\u001b[0;32m     68\u001b[0m     \u001b[1;32mfinally\u001b[0m\u001b[1;33m:\u001b[0m\u001b[1;33m\u001b[0m\u001b[1;33m\u001b[0m\u001b[0m\n\u001b[0;32m     69\u001b[0m       \u001b[1;32mdel\u001b[0m \u001b[0mfiltered_tb\u001b[0m\u001b[1;33m\u001b[0m\u001b[1;33m\u001b[0m\u001b[0m\n",
      "\u001b[1;32mD:\\anaconda3\\lib\\site-packages\\tensorflow\\python\\eager\\execute.py\u001b[0m in \u001b[0;36mquick_execute\u001b[1;34m(op_name, num_outputs, inputs, attrs, ctx, name)\u001b[0m\n\u001b[0;32m     52\u001b[0m   \u001b[1;32mtry\u001b[0m\u001b[1;33m:\u001b[0m\u001b[1;33m\u001b[0m\u001b[1;33m\u001b[0m\u001b[0m\n\u001b[0;32m     53\u001b[0m     \u001b[0mctx\u001b[0m\u001b[1;33m.\u001b[0m\u001b[0mensure_initialized\u001b[0m\u001b[1;33m(\u001b[0m\u001b[1;33m)\u001b[0m\u001b[1;33m\u001b[0m\u001b[1;33m\u001b[0m\u001b[0m\n\u001b[1;32m---> 54\u001b[1;33m     tensors = pywrap_tfe.TFE_Py_Execute(ctx._handle, device_name, op_name,\n\u001b[0m\u001b[0;32m     55\u001b[0m                                         inputs, attrs, num_outputs)\n\u001b[0;32m     56\u001b[0m   \u001b[1;32mexcept\u001b[0m \u001b[0mcore\u001b[0m\u001b[1;33m.\u001b[0m\u001b[0m_NotOkStatusException\u001b[0m \u001b[1;32mas\u001b[0m \u001b[0me\u001b[0m\u001b[1;33m:\u001b[0m\u001b[1;33m\u001b[0m\u001b[1;33m\u001b[0m\u001b[0m\n",
      "\u001b[1;31mResourceExhaustedError\u001b[0m: Graph execution error:\n\nOOM when allocating tensor with shape[259,8192] and type complex64 on /job:localhost/replica:0/task:0/device:CPU:0 by allocator cpu\n\t [[{{node stft/rfft}}]]\n\t [[IteratorGetNext]]\nHint: If you want to see a list of allocated tensors when OOM happens, add report_tensor_allocations_upon_oom to RunOptions for current allocation info. This isn't available when running in Eager mode.\n [Op:__inference_train_function_420466]"
     ]
    }
   ],
   "source": [
    "from datetime import datetime\n",
    "\n",
    "tests_acc = []\n",
    "for k in range(6):\n",
    "    print('---------------------------------------------------------------------')\n",
    "    print('Шаг:', params_s_f[k][0], ', количество спектрограмм: ',params_s_f[k][1])\n",
    "    print(datetime.now().strftime('%Y-%m-%d %H:%M:%S'))\n",
    "    \n",
    "    mymodel = create_model(input_shapes[k])\n",
    "    \n",
    "    start_time = time.time()\n",
    "    myhistory = mymodel.fit(train_[k], validation_data=val_[k], epochs=EPOCHS, verbose=0,\n",
    "                           callbacks=tf.keras.callbacks.EarlyStopping(monitor='val_loss', patience=10))\n",
    "    minutes, seconds = ((time.time() - start_time) - 3600 * ((time.time() - start_time) // 3600)) // 60, (time.time() - start_time) % 60\n",
    "    print(f\"--- {minutes} минут {seconds} секунд ---\")\n",
    "    \n",
    "    metrics = myhistory.history\n",
    "    y_pred = np.argmax(mymodel.predict(test_audio_[k]), axis=1)\n",
    "    y_true = test_labels_[k]\n",
    "    test_acc = sum(y_pred == y_true) / len(y_true) * 100\n",
    "    tests_acc.append(test_acc)\n",
    "    print('Шаг:', params_s_f[k][0], ', количество спектрограмм: ',params_s_f[k][1], ', accuracy тестовой выборки: ', test_acc, '%')\n",
    "    models.append(mymodel)\n",
    "    histories.append(myhistory)"
   ]
  },
  {
   "cell_type": "code",
   "execution_count": 30,
   "id": "285bf2f3",
   "metadata": {},
   "outputs": [
    {
     "name": "stdout",
     "output_type": "stream",
     "text": [
      "---------------------------------------------------------------------\n",
      "Шаг: 256 , количество спектрограмм:  30\n",
      "2022-06-08 15:16:46\n",
      "(30, 4097)\n"
     ]
    },
    {
     "ename": "ResourceExhaustedError",
     "evalue": "OOM when allocating tensor with shape[122910,512] and type float on /job:localhost/replica:0/task:0/device:CPU:0 by allocator cpu [Op:RandomUniform]",
     "output_type": "error",
     "traceback": [
      "\u001b[1;31m---------------------------------------------------------------------------\u001b[0m",
      "\u001b[1;31mResourceExhaustedError\u001b[0m                    Traceback (most recent call last)",
      "\u001b[1;32m~\\AppData\\Local\\Temp/ipykernel_1356/384614417.py\u001b[0m in \u001b[0;36m<module>\u001b[1;34m\u001b[0m\n\u001b[0;32m      4\u001b[0m \u001b[0mprint\u001b[0m\u001b[1;33m(\u001b[0m\u001b[0mdatetime\u001b[0m\u001b[1;33m.\u001b[0m\u001b[0mnow\u001b[0m\u001b[1;33m(\u001b[0m\u001b[1;33m)\u001b[0m\u001b[1;33m.\u001b[0m\u001b[0mstrftime\u001b[0m\u001b[1;33m(\u001b[0m\u001b[1;34m'%Y-%m-%d %H:%M:%S'\u001b[0m\u001b[1;33m)\u001b[0m\u001b[1;33m)\u001b[0m\u001b[1;33m\u001b[0m\u001b[1;33m\u001b[0m\u001b[0m\n\u001b[0;32m      5\u001b[0m \u001b[0mprint\u001b[0m\u001b[1;33m(\u001b[0m\u001b[0minput_shapes\u001b[0m\u001b[1;33m[\u001b[0m\u001b[0mk\u001b[0m\u001b[1;33m]\u001b[0m\u001b[1;33m)\u001b[0m\u001b[1;33m\u001b[0m\u001b[1;33m\u001b[0m\u001b[0m\n\u001b[1;32m----> 6\u001b[1;33m \u001b[0mmymodel\u001b[0m \u001b[1;33m=\u001b[0m \u001b[0mcreate_model\u001b[0m\u001b[1;33m(\u001b[0m\u001b[0minput_shapes\u001b[0m\u001b[1;33m[\u001b[0m\u001b[0mk\u001b[0m\u001b[1;33m]\u001b[0m\u001b[1;33m)\u001b[0m\u001b[1;33m\u001b[0m\u001b[1;33m\u001b[0m\u001b[0m\n\u001b[0m\u001b[0;32m      7\u001b[0m \u001b[1;33m\u001b[0m\u001b[0m\n\u001b[0;32m      8\u001b[0m \u001b[0mstart_time\u001b[0m \u001b[1;33m=\u001b[0m \u001b[0mtime\u001b[0m\u001b[1;33m.\u001b[0m\u001b[0mtime\u001b[0m\u001b[1;33m(\u001b[0m\u001b[1;33m)\u001b[0m\u001b[1;33m\u001b[0m\u001b[1;33m\u001b[0m\u001b[0m\n",
      "\u001b[1;32m~\\AppData\\Local\\Temp/ipykernel_1356/2588845456.py\u001b[0m in \u001b[0;36mcreate_model\u001b[1;34m(input_shape)\u001b[0m\n\u001b[0;32m      2\u001b[0m     \u001b[0minputs\u001b[0m \u001b[1;33m=\u001b[0m \u001b[0mlayers\u001b[0m\u001b[1;33m.\u001b[0m\u001b[0mInput\u001b[0m\u001b[1;33m(\u001b[0m\u001b[0mshape\u001b[0m \u001b[1;33m=\u001b[0m \u001b[0minput_shape\u001b[0m\u001b[1;33m,\u001b[0m \u001b[0mname\u001b[0m \u001b[1;33m=\u001b[0m \u001b[1;34m\"inputs\"\u001b[0m\u001b[1;33m)\u001b[0m\u001b[1;33m\u001b[0m\u001b[1;33m\u001b[0m\u001b[0m\n\u001b[0;32m      3\u001b[0m     \u001b[0mx\u001b[0m \u001b[1;33m=\u001b[0m \u001b[0mlayers\u001b[0m\u001b[1;33m.\u001b[0m\u001b[0mFlatten\u001b[0m\u001b[1;33m(\u001b[0m\u001b[1;33m)\u001b[0m\u001b[1;33m(\u001b[0m\u001b[0minputs\u001b[0m\u001b[1;33m)\u001b[0m\u001b[1;33m\u001b[0m\u001b[1;33m\u001b[0m\u001b[0m\n\u001b[1;32m----> 4\u001b[1;33m     \u001b[0mx\u001b[0m \u001b[1;33m=\u001b[0m \u001b[0mlayers\u001b[0m\u001b[1;33m.\u001b[0m\u001b[0mDense\u001b[0m\u001b[1;33m(\u001b[0m\u001b[1;36m512\u001b[0m\u001b[1;33m,\u001b[0m \u001b[0mactivation\u001b[0m \u001b[1;33m=\u001b[0m \u001b[1;34m'relu'\u001b[0m\u001b[1;33m,\u001b[0m \u001b[0mname\u001b[0m \u001b[1;33m=\u001b[0m \u001b[1;34m\"relu_1\"\u001b[0m\u001b[1;33m)\u001b[0m\u001b[1;33m(\u001b[0m\u001b[0mx\u001b[0m\u001b[1;33m)\u001b[0m\u001b[1;33m\u001b[0m\u001b[1;33m\u001b[0m\u001b[0m\n\u001b[0m\u001b[0;32m      5\u001b[0m     \u001b[0mx\u001b[0m \u001b[1;33m=\u001b[0m \u001b[0mlayers\u001b[0m\u001b[1;33m.\u001b[0m\u001b[0mDense\u001b[0m\u001b[1;33m(\u001b[0m\u001b[1;36m512\u001b[0m\u001b[1;33m,\u001b[0m \u001b[0mactivation\u001b[0m \u001b[1;33m=\u001b[0m \u001b[1;34m'relu'\u001b[0m\u001b[1;33m,\u001b[0m \u001b[0mname\u001b[0m \u001b[1;33m=\u001b[0m \u001b[1;34m\"relu_2\"\u001b[0m\u001b[1;33m)\u001b[0m\u001b[1;33m(\u001b[0m\u001b[0mx\u001b[0m\u001b[1;33m)\u001b[0m\u001b[1;33m\u001b[0m\u001b[1;33m\u001b[0m\u001b[0m\n\u001b[0;32m      6\u001b[0m     \u001b[0mx\u001b[0m \u001b[1;33m=\u001b[0m \u001b[0mlayers\u001b[0m\u001b[1;33m.\u001b[0m\u001b[0mDense\u001b[0m\u001b[1;33m(\u001b[0m\u001b[1;36m512\u001b[0m\u001b[1;33m,\u001b[0m \u001b[0mactivation\u001b[0m \u001b[1;33m=\u001b[0m \u001b[1;34m'relu'\u001b[0m\u001b[1;33m,\u001b[0m \u001b[0mname\u001b[0m \u001b[1;33m=\u001b[0m \u001b[1;34m\"relu_3\"\u001b[0m\u001b[1;33m)\u001b[0m\u001b[1;33m(\u001b[0m\u001b[0mx\u001b[0m\u001b[1;33m)\u001b[0m\u001b[1;33m\u001b[0m\u001b[1;33m\u001b[0m\u001b[0m\n",
      "\u001b[1;32mD:\\anaconda3\\lib\\site-packages\\keras\\utils\\traceback_utils.py\u001b[0m in \u001b[0;36merror_handler\u001b[1;34m(*args, **kwargs)\u001b[0m\n\u001b[0;32m     65\u001b[0m     \u001b[1;32mexcept\u001b[0m \u001b[0mException\u001b[0m \u001b[1;32mas\u001b[0m \u001b[0me\u001b[0m\u001b[1;33m:\u001b[0m  \u001b[1;31m# pylint: disable=broad-except\u001b[0m\u001b[1;33m\u001b[0m\u001b[1;33m\u001b[0m\u001b[0m\n\u001b[0;32m     66\u001b[0m       \u001b[0mfiltered_tb\u001b[0m \u001b[1;33m=\u001b[0m \u001b[0m_process_traceback_frames\u001b[0m\u001b[1;33m(\u001b[0m\u001b[0me\u001b[0m\u001b[1;33m.\u001b[0m\u001b[0m__traceback__\u001b[0m\u001b[1;33m)\u001b[0m\u001b[1;33m\u001b[0m\u001b[1;33m\u001b[0m\u001b[0m\n\u001b[1;32m---> 67\u001b[1;33m       \u001b[1;32mraise\u001b[0m \u001b[0me\u001b[0m\u001b[1;33m.\u001b[0m\u001b[0mwith_traceback\u001b[0m\u001b[1;33m(\u001b[0m\u001b[0mfiltered_tb\u001b[0m\u001b[1;33m)\u001b[0m \u001b[1;32mfrom\u001b[0m \u001b[1;32mNone\u001b[0m\u001b[1;33m\u001b[0m\u001b[1;33m\u001b[0m\u001b[0m\n\u001b[0m\u001b[0;32m     68\u001b[0m     \u001b[1;32mfinally\u001b[0m\u001b[1;33m:\u001b[0m\u001b[1;33m\u001b[0m\u001b[1;33m\u001b[0m\u001b[0m\n\u001b[0;32m     69\u001b[0m       \u001b[1;32mdel\u001b[0m \u001b[0mfiltered_tb\u001b[0m\u001b[1;33m\u001b[0m\u001b[1;33m\u001b[0m\u001b[0m\n",
      "\u001b[1;32mD:\\anaconda3\\lib\\site-packages\\keras\\backend.py\u001b[0m in \u001b[0;36mrandom_uniform\u001b[1;34m(self, shape, minval, maxval, dtype)\u001b[0m\n\u001b[0;32m   1918\u001b[0m       return self._generator.uniform(\n\u001b[0;32m   1919\u001b[0m           shape=shape, minval=minval, maxval=maxval, dtype=dtype)\n\u001b[1;32m-> 1920\u001b[1;33m     return tf.random.uniform(\n\u001b[0m\u001b[0;32m   1921\u001b[0m         \u001b[0mshape\u001b[0m\u001b[1;33m=\u001b[0m\u001b[0mshape\u001b[0m\u001b[1;33m,\u001b[0m \u001b[0mminval\u001b[0m\u001b[1;33m=\u001b[0m\u001b[0mminval\u001b[0m\u001b[1;33m,\u001b[0m \u001b[0mmaxval\u001b[0m\u001b[1;33m=\u001b[0m\u001b[0mmaxval\u001b[0m\u001b[1;33m,\u001b[0m \u001b[0mdtype\u001b[0m\u001b[1;33m=\u001b[0m\u001b[0mdtype\u001b[0m\u001b[1;33m,\u001b[0m\u001b[1;33m\u001b[0m\u001b[1;33m\u001b[0m\u001b[0m\n\u001b[0;32m   1922\u001b[0m         seed=self.make_legacy_seed())\n",
      "\u001b[1;31mResourceExhaustedError\u001b[0m: OOM when allocating tensor with shape[122910,512] and type float on /job:localhost/replica:0/task:0/device:CPU:0 by allocator cpu [Op:RandomUniform]"
     ]
    }
   ],
   "source": [
    "k = 5\n",
    "print('---------------------------------------------------------------------')\n",
    "print('Шаг:', params_s_f[k][0], ', количество спектрограмм: ',params_s_f[k][1])\n",
    "print(datetime.now().strftime('%Y-%m-%d %H:%M:%S'))\n",
    "print(input_shapes[k])\n",
    "mymodel = create_model(input_shapes[k])\n",
    "\n",
    "start_time = time.time()\n",
    "myhistory = mymodel.fit(train_[k], validation_data=val_[k], epochs=EPOCHS, verbose=0,\n",
    "                       callbacks=tf.keras.callbacks.EarlyStopping(monitor='val_loss', patience=10))\n",
    "minutes, seconds = ((time.time() - start_time) - 3600 * ((time.time() - start_time) // 3600)) // 60, (time.time() - start_time) % 60\n",
    "print(f\"--- {minutes} минут {seconds} секунд ---\")\n",
    "\n",
    "metrics = myhistory.history\n",
    "y_pred = np.argmax(mymodel.predict(test_audio_[k]), axis=1)\n",
    "y_true = test_labels_[k]\n",
    "test_acc = sum(y_pred == y_true) / len(y_true) * 100\n",
    "tests_acc.append(test_acc)\n",
    "print('Шаг:', params_s_f[k][0], ', количество спектрограмм: ',params_s_f[k][1], ', accuracy тестовой выборки: ', test_acc, '%')\n",
    "models.append(mymodel)\n",
    "histories.append(myhistory)"
   ]
  },
  {
   "cell_type": "code",
   "execution_count": null,
   "id": "4c28730b",
   "metadata": {},
   "outputs": [],
   "source": [
    "for k in range(6):\n",
    "#for k in range(2):\n",
    "    metrics = histories[k].history\n",
    "    fig, axes = plt.subplots(2, 1, figsize=(6, 6), constrained_layout=True)\n",
    "    axes[0].plot(histories[k].epoch, metrics['loss'], metrics['val_loss'])\n",
    "    axes[0].legend(['loss', 'val_loss'])\n",
    "    axes[0].set(xlabel='Номер эпохи', ylabel='Функция штрафа', title=f'Штраф тренировочный/проверочный для {num_frame[k]} спектрограмм')\n",
    "\n",
    "    axes[1].plot(histories[k].epoch, metrics['accuracy'], metrics['val_accuracy'])\n",
    "    axes[1].legend(['accuracy', 'val_accuracy'])\n",
    "    axes[1].set(xlabel='Номер эпохи', ylabel='Точность', title=f'Точность тренировочная/проверочная для {num_frame[k]} спектрограмм')"
   ]
  },
  {
   "cell_type": "code",
   "execution_count": null,
   "id": "f151f7b4",
   "metadata": {},
   "outputs": [],
   "source": [
    "\n",
    "for k in range(6,12):\n",
    "    print('---------------------------------------------------------------------')\n",
    "    print('Шаг:', params_s_f[k][0], ', количество спектрограмм: ',params_s_f[k][1])\n",
    "    print(datetime.now().strftime('%Y-%m-%d %H:%M:%S'))\n",
    "    \n",
    "    mymodel = create_model(input_shapes[k])\n",
    "    \n",
    "    start_time = time.time()\n",
    "    myhistory = mymodel.fit(train_[k], validation_data=val_[k], epochs=EPOCHS, verbose=0,\n",
    "                           callbacks=tf.keras.callbacks.EarlyStopping(monitor='val_loss', patience=10))\n",
    "    minutes, seconds = ((time.time() - start_time) - 3600 * ((time.time() - start_time) // 3600)) // 60, (time.time() - start_time) % 60\n",
    "    print(f\"--- {minutes} минут {seconds} секунд ---\")\n",
    "    \n",
    "    metrics = myhistory.history\n",
    "    y_pred = np.argmax(mymodel.predict(test_audio_[k]), axis=1)\n",
    "    y_true = test_labels_[k]\n",
    "    test_acc = sum(y_pred == y_true) / len(y_true) * 100\n",
    "    tests_acc.append(test_acc)\n",
    "    print('Шаг:', params_s_f[k][0], ', количество спектрограмм: ',params_s_f[k][1], ', accuracy тестовой выборки: ', test_acc, '%')\n",
    "    models.append(mymodel)\n",
    "    histories.append(myhistory)"
   ]
  },
  {
   "cell_type": "code",
   "execution_count": null,
   "id": "74fcfe11",
   "metadata": {},
   "outputs": [],
   "source": [
    "for k in range(6,12):\n",
    "#for k in range(2):\n",
    "    metrics = histories[k].history\n",
    "    fig, axes = plt.subplots(2, 1, figsize=(6, 6), constrained_layout=True)\n",
    "    axes[0].plot(histories[k].epoch, metrics['loss'], metrics['val_loss'])\n",
    "    axes[0].legend(['loss', 'val_loss'])\n",
    "    axes[0].set(xlabel='Номер эпохи', ylabel='Функция штрафа', title=f'Штраф тренировочный/проверочный для {num_frame[k]} спектрограмм')\n",
    "\n",
    "    axes[1].plot(histories[k].epoch, metrics['accuracy'], metrics['val_accuracy'])\n",
    "    axes[1].legend(['accuracy', 'val_accuracy'])\n",
    "    axes[1].set(xlabel='Номер эпохи', ylabel='Точность', title=f'Точность тренировочная/проверочная для {num_frame[k]} спектрограмм')"
   ]
  },
  {
   "cell_type": "code",
   "execution_count": null,
   "id": "178b9b29",
   "metadata": {},
   "outputs": [],
   "source": [
    "\n",
    "for k in range(12,18):\n",
    "    print('---------------------------------------------------------------------')\n",
    "    print('Шаг:', params_s_f[k][0], ', количество спектрограмм: ',params_s_f[k][1])\n",
    "    print(datetime.now().strftime('%Y-%m-%d %H:%M:%S'))\n",
    "    \n",
    "    mymodel = create_model(input_shapes[k])\n",
    "    \n",
    "    start_time = time.time()\n",
    "    myhistory = mymodel.fit(train_[k], validation_data=val_[k], epochs=EPOCHS, verbose=0,\n",
    "                           callbacks=tf.keras.callbacks.EarlyStopping(monitor='val_loss', patience=10))\n",
    "    minutes, seconds = ((time.time() - start_time) - 3600 * ((time.time() - start_time) // 3600)) // 60, (time.time() - start_time) % 60\n",
    "    print(f\"--- {minutes} минут {seconds} секунд ---\")\n",
    "    \n",
    "    metrics = myhistory.history\n",
    "    y_pred = np.argmax(mymodel.predict(test_audio_[k]), axis=1)\n",
    "    y_true = test_labels_[k]\n",
    "    test_acc = sum(y_pred == y_true) / len(y_true) * 100\n",
    "    tests_acc.append(test_acc)\n",
    "    print('Шаг:', params_s_f[k][0], ', количество спектрограмм: ',params_s_f[k][1], ', accuracy тестовой выборки: ', test_acc, '%')\n",
    "    models.append(mymodel)\n",
    "    histories.append(myhistory)"
   ]
  },
  {
   "cell_type": "code",
   "execution_count": null,
   "id": "d6d55835",
   "metadata": {},
   "outputs": [],
   "source": [
    "\n",
    "for k in range(18,24):\n",
    "    print('---------------------------------------------------------------------')\n",
    "    print('Шаг:', params_s_f[k][0], ', количество спектрограмм: ',params_s_f[k][1])\n",
    "    print(datetime.now().strftime('%Y-%m-%d %H:%M:%S'))\n",
    "    \n",
    "    mymodel = create_model(input_shapes[k])\n",
    "    \n",
    "    start_time = time.time()\n",
    "    myhistory = mymodel.fit(train_[k], validation_data=val_[k], epochs=EPOCHS, verbose=0,\n",
    "                           callbacks=tf.keras.callbacks.EarlyStopping(monitor='val_loss', patience=10))\n",
    "    minutes, seconds = ((time.time() - start_time) - 3600 * ((time.time() - start_time) // 3600)) // 60, (time.time() - start_time) % 60\n",
    "    print(f\"--- {minutes} минут {seconds} секунд ---\")\n",
    "    \n",
    "    metrics = myhistory.history\n",
    "    y_pred = np.argmax(mymodel.predict(test_audio_[k]), axis=1)\n",
    "    y_true = test_labels_[k]\n",
    "    test_acc = sum(y_pred == y_true) / len(y_true) * 100\n",
    "    tests_acc.append(test_acc)\n",
    "    print('Шаг:', params_s_f[k][0], ', количество спектрограмм: ',params_s_f[k][1], ', accuracy тестовой выборки: ', test_acc, '%')\n",
    "    models.append(mymodel)\n",
    "    histories.append(myhistory)"
   ]
  },
  {
   "cell_type": "code",
   "execution_count": null,
   "id": "21d65652",
   "metadata": {},
   "outputs": [],
   "source": [
    "\n",
    "for k in range(24,30):\n",
    "    print('---------------------------------------------------------------------')\n",
    "    print('Шаг:', params_s_f[k][0], ', количество спектрограмм: ',params_s_f[k][1])\n",
    "    print(datetime.now().strftime('%Y-%m-%d %H:%M:%S'))\n",
    "    \n",
    "    mymodel = create_model(input_shapes[k])\n",
    "    \n",
    "    start_time = time.time()\n",
    "    myhistory = mymodel.fit(train_[k], validation_data=val_[k], epochs=EPOCHS, verbose=0,\n",
    "                           callbacks=tf.keras.callbacks.EarlyStopping(monitor='val_loss', patience=10))\n",
    "    minutes, seconds = ((time.time() - start_time) - 3600 * ((time.time() - start_time) // 3600)) // 60, (time.time() - start_time) % 60\n",
    "    print(f\"--- {minutes} минут {seconds} секунд ---\")\n",
    "    \n",
    "    metrics = myhistory.history\n",
    "    y_pred = np.argmax(mymodel.predict(test_audio_[k]), axis=1)\n",
    "    y_true = test_labels_[k]\n",
    "    test_acc = sum(y_pred == y_true) / len(y_true) * 100\n",
    "    tests_acc.append(test_acc)\n",
    "    print('Шаг:', params_s_f[k][0], ', количество спектрограмм: ',params_s_f[k][1], ', accuracy тестовой выборки: ', test_acc, '%')\n",
    "    models.append(mymodel)\n",
    "    histories.append(myhistory)"
   ]
  },
  {
   "cell_type": "code",
   "execution_count": null,
   "id": "201255b7",
   "metadata": {},
   "outputs": [],
   "source": [
    "\n",
    "for k in range(30,36):\n",
    "    print('---------------------------------------------------------------------')\n",
    "    print('Шаг:', params_s_f[k][0], ', количество спектрограмм: ',params_s_f[k][1])\n",
    "    print(datetime.now().strftime('%Y-%m-%d %H:%M:%S'))\n",
    "    \n",
    "    mymodel = create_model(input_shapes[k])\n",
    "    \n",
    "    start_time = time.time()\n",
    "    myhistory = mymodel.fit(train_[k], validation_data=val_[k], epochs=EPOCHS, verbose=0,\n",
    "                           callbacks=tf.keras.callbacks.EarlyStopping(monitor='val_loss', patience=10))\n",
    "    minutes, seconds = ((time.time() - start_time) - 3600 * ((time.time() - start_time) // 3600)) // 60, (time.time() - start_time) % 60\n",
    "    print(f\"--- {minutes} минут {seconds} секунд ---\")\n",
    "    \n",
    "    metrics = myhistory.history\n",
    "    y_pred = np.argmax(mymodel.predict(test_audio_[k]), axis=1)\n",
    "    y_true = test_labels_[k]\n",
    "    test_acc = sum(y_pred == y_true) / len(y_true) * 100\n",
    "    tests_acc.append(test_acc)\n",
    "    print('Шаг:', params_s_f[k][0], ', количество спектрограмм: ',params_s_f[k][1], ', accuracy тестовой выборки: ', test_acc, '%')\n",
    "    models.append(mymodel)\n",
    "    histories.append(myhistory)"
   ]
  },
  {
   "cell_type": "code",
   "execution_count": null,
   "id": "b4475ebd",
   "metadata": {},
   "outputs": [],
   "source": [
    "for k in range(len(num_frame)):\n",
    "#for k in range(2):\n",
    "    metrics = histories[k].history\n",
    "    fig, axes = plt.subplots(2, 1, figsize=(6, 6), constrained_layout=True)\n",
    "    axes[0].plot(histories[k].epoch, metrics['loss'], metrics['val_loss'])\n",
    "    axes[0].legend(['loss', 'val_loss'])\n",
    "    axes[0].set(xlabel='Номер эпохи', ylabel='Функция штрафа', title=f'Штраф тренировочный/проверочный для {num_frame[k]} спектрограмм')\n",
    "\n",
    "    axes[1].plot(histories[k].epoch, metrics['accuracy'], metrics['val_accuracy'])\n",
    "    axes[1].legend(['accuracy', 'val_accuracy'])\n",
    "    axes[1].set(xlabel='Номер эпохи', ylabel='Точность', title=f'Точность тренировочная/проверочная для {num_frame[k]} спектрограмм')"
   ]
  },
  {
   "cell_type": "code",
   "execution_count": null,
   "id": "efb6acd8",
   "metadata": {},
   "outputs": [],
   "source": [
    "# ЗАПАСНОЙ ВЫХОД. БЕЗ НЕОБХОДИМОСТИ НЕ ЗАПУСКАТЬ (ОЧЕНЬ ДОЛГО!)\n",
    "\n",
    "tests_acc = []\n",
    "for k in range(len(params_s_f)):\n",
    "    print('---------------------------------------------------------------------')\n",
    "    print('Шаг:', params_s_f[k][0], ', количество спектрограмм: ',params_s_f[k][1])\n",
    "    train_ds = []\n",
    "    val_ds = []\n",
    "    test_ds = []\n",
    "    #spectrogram_ds = waveform_ds.map(lambda x,y: get_spectrogram_and_label_id(x,y,params_s_f[k][0]), num_parallel_calls=AUTOTUNE)\n",
    "    #spectrogram_ds = spectrogram_ds.map(lambda x, y: get_spectrogram_and_label_id_lim(x,y,params_s_f[k][1]))\n",
    "    spectrogram_ds = preprocess_dataset(train_files,params_s_f[k][0],params_s_f[k][1])\n",
    "    train_ds = spectrogram_ds\n",
    "    val_ds = preprocess_dataset(val_files,params_s_f[k][0],params_s_f[k][1])\n",
    "    test_ds = preprocess_dataset(test_files,params_s_f[k][0],params_s_f[k][1])\n",
    "    \n",
    "    batch_size = 64\n",
    "    \n",
    "    train_ds = train_ds.batch(batch_size)\n",
    "    val_ds = val_ds.batch(batch_size)\n",
    "    train_ds = train_ds.cache().prefetch(AUTOTUNE)\n",
    "    val_ds = val_ds.cache().prefetch(AUTOTUNE)\n",
    "    \n",
    "    test_audio = []\n",
    "    test_labels = []\n",
    "\n",
    "    for audio, label in test_ds:\n",
    "        test_audio.append(audio.numpy())\n",
    "        test_labels.append(label.numpy())\n",
    "\n",
    "    test_audio = np.array(test_audio)\n",
    "    test_labels = np.array(test_labels)\n",
    "\n",
    "    for spectrogram, _ in spectrogram_ds.take(1):\n",
    "        input_shape = spectrogram.shape\n",
    "        print('input_shape',input_shape)\n",
    "    \n",
    "    \n",
    "    mymodel = create_model(input_shape)\n",
    "    \n",
    "    start_time = time.time()\n",
    "    myhistory = mymodel.fit(train_ds, validation_data=val_ds, epochs=EPOCHS, verbose=0)\n",
    "    minutes, seconds = ((time.time() - start_time) - 3600 * ((time.time() - start_time) // 3600)) // 60, (time.time() - start_time) % 60\n",
    "    print(f\"--- {minutes} минут {seconds} секунд ---\")\n",
    "    \n",
    "    metrics = myhistory.history\n",
    "    y_pred = np.argmax(mymodel.predict(test_audio), axis=1)\n",
    "    y_true = test_labels\n",
    "    test_acc = sum(y_pred == y_true) / len(y_true) * 100\n",
    "    tests_acc.append(test_acc)\n",
    "    print('Шаг:', params_s_f[k][0], ', количество спектрограмм: ',params_s_f[k][1], ', accuracy тестовой выборки: ', test_acc, '%')\n",
    "    models.append(mymodel)\n",
    "    histories.append(myhistory)"
   ]
  },
  {
   "cell_type": "code",
   "execution_count": null,
   "id": "d0a9e283",
   "metadata": {},
   "outputs": [],
   "source": [
    "np.array(tests_acc)"
   ]
  },
  {
   "cell_type": "code",
   "execution_count": null,
   "id": "9465ab6b",
   "metadata": {},
   "outputs": [],
   "source": [
    "test_acc_mtx = np.zeros((len(step),len(num_frame)))\n",
    "p = 0\n",
    "for s in range(len(step)):\n",
    "    for f in range(len(num_frame)):\n",
    "        test_acc_mtx[s][f] = tests_acc[p]\n",
    "        p+=1\n",
    "plt.figure(figsize=(8, 10))\n",
    "sns.heatmap(test_acc_mtx, xticklabels=num_frame, yticklabels=step, \n",
    "            annot=True, fmt='g')\n",
    "plt.title('Точность при изменении шага и количества спектрограмм')\n",
    "plt.xlabel('Количество спектрограмм')\n",
    "plt.ylabel('Шаг')"
   ]
  },
  {
   "cell_type": "code",
   "execution_count": null,
   "id": "40c4c26d",
   "metadata": {},
   "outputs": [],
   "source": [
    "for k in range(len(params_s_f)):\n",
    "    print(k, params_s_f[k],tests_acc[k])"
   ]
  },
  {
   "cell_type": "code",
   "execution_count": null,
   "id": "e13e46f8",
   "metadata": {},
   "outputs": [],
   "source": [
    "k_max = np.argmax(np.array(tests_acc))\n",
    "k_max"
   ]
  },
  {
   "cell_type": "code",
   "execution_count": null,
   "id": "cb4c6e5d",
   "metadata": {},
   "outputs": [],
   "source": [
    "print('Лучшие параметры: ', params_s_f[k_max][0],params_s_f[k_max][1])"
   ]
  },
  {
   "cell_type": "code",
   "execution_count": null,
   "id": "fc434f71",
   "metadata": {},
   "outputs": [],
   "source": [
    "train_ds = []\n",
    "val_ds = []\n",
    "test_ds = []\n",
    "\n",
    "spectrogram_ds = preprocess_dataset(train_files,params_s_f[k_max][0],params_s_f[k_max][1])\n",
    "train_ds = spectrogram_ds\n",
    "val_ds = preprocess_dataset(val_files,params_s_f[k_max][0],params_s_f[k_max][1])\n",
    "test_ds = preprocess_dataset(test_files,params_s_f[k_max][0],params_s_f[k_max][1])\n",
    "\n",
    "batch_size = 64\n",
    "train_ds = train_ds.batch(batch_size)\n",
    "val_ds = val_ds.batch(batch_size)\n",
    "train_ds = train_ds.cache().prefetch(AUTOTUNE)\n",
    "val_ds = val_ds.cache().prefetch(AUTOTUNE)\n",
    "\n",
    "test_audio = []\n",
    "test_labels = []\n",
    "\n",
    "for audio, label in test_ds:\n",
    "    test_audio.append(audio.numpy())\n",
    "    test_labels.append(label.numpy())\n",
    "\n",
    "test_audio = np.array(test_audio)\n",
    "test_labels = np.array(test_labels)\n",
    "\n",
    "history_ = histories[k_max]\n",
    "model_ = models[k_max]\n",
    "metrics = history_.history\n",
    "\n",
    "y_pred = np.argmax(model_.predict(test_audio), axis=1)\n",
    "y_true = test_labels\n",
    "test_acc = sum(y_pred == y_true) / len(y_true) * 100\n",
    "test_acc"
   ]
  },
  {
   "cell_type": "code",
   "execution_count": null,
   "id": "d5ef64dc",
   "metadata": {},
   "outputs": [],
   "source": [
    "fig, axes = plt.subplots(2, 1, figsize=(6, 6), constrained_layout=True)\n",
    "axes[0].plot(history_.epoch, metrics['loss'], metrics['val_loss'])\n",
    "axes[0].legend(['loss', 'val_loss'])\n",
    "axes[0].set(xlabel='Номер эпохи', ylabel='Функция штрафа', title=f'Штраф тренировочный/проверочный')\n",
    "\n",
    "axes[1].plot(history_.epoch, metrics['accuracy'], metrics['val_accuracy'])\n",
    "axes[1].legend(['accuracy', 'val_accuracy'])\n",
    "axes[1].set(xlabel='Номер эпохи', ylabel='Точность', title=f'Точность тренировочная/проверочная')"
   ]
  },
  {
   "cell_type": "code",
   "execution_count": null,
   "id": "6fa2b183",
   "metadata": {},
   "outputs": [],
   "source": [
    "confusion_mtx = tf.math.confusion_matrix(y_true, y_pred) \n",
    "plt.figure(figsize=(10, 12))\n",
    "sns.heatmap(confusion_mtx, xticklabels=notes, yticklabels=notes, \n",
    "            annot=True, fmt='g')\n",
    "plt.xlabel('Предсказание')\n",
    "plt.ylabel('Метка')\n",
    "plt.title('Матрица ошибок')\n",
    "plt.show()"
   ]
  },
  {
   "cell_type": "code",
   "execution_count": null,
   "id": "6c5ac4e4",
   "metadata": {},
   "outputs": [],
   "source": [
    "sample_file = data_dir/'E/arpeg-CMaj-060BPM-leg_2.wav'\n",
    "print('Sample file:', sample_file)\n",
    "\n",
    "sample_ds = preprocess_dataset([str(sample_file)],params_s_f[k_max][0],params_s_f[k_max][1])\n",
    "count = 0 \n",
    "for spectrogram, label in sample_ds.batch(1):\n",
    "    count+=1\n",
    "    prediction = model_(spectrogram)\n",
    "    plt.bar(notes, prediction[0])\n",
    "    t = 'Предсказание для ноты \"'+ notes[label[0]]+'\"'\n",
    "    plt.title(t)\n",
    "    plt.show()\n",
    "print(count)"
   ]
  },
  {
   "cell_type": "code",
   "execution_count": null,
   "id": "bc58dbf5",
   "metadata": {},
   "outputs": [],
   "source": [
    "# Сохраняем модель\n",
    "model_.save(r\"D:\\magistracy\\diplom\\model\\model_stft.h5\")"
   ]
  },
  {
   "cell_type": "code",
   "execution_count": null,
   "id": "fd1351de",
   "metadata": {},
   "outputs": [],
   "source": [
    "rows = 3\n",
    "cols = 3\n",
    "n = rows*cols\n",
    "fig, axes = plt.subplots(rows, cols, figsize=(18, 18))\n",
    "for i, (spectrogram, label_id) in enumerate(spectrogram_ds.take(n)):\n",
    "    r = i // cols\n",
    "    c = i % cols\n",
    "    \n",
    "    plot_spectrogram(np.squeeze(spectrogram.numpy()), axes[r][c])\n",
    "    axes[r][c].set_title(notes[label_id.numpy()])\n",
    "    axes[r][c].set_ylabel('Номер отсчета')\n",
    "    axes[r][c].set_xlabel('Номер спектрограммы')\n",
    "\n",
    "\n",
    "plt.show()"
   ]
  },
  {
   "cell_type": "code",
   "execution_count": null,
   "id": "9777a8d6",
   "metadata": {},
   "outputs": [],
   "source": [
    "EPOCHS = [100,10,25,40,50,75]\n",
    "models1 = [model_]\n",
    "histories1 = [history_]\n",
    "tests_acc1 = [test_acc]\n",
    "\n",
    "for spectrogram, _ in spectrogram_ds.take(1):\n",
    "    input_shape = spectrogram.shape\n",
    "    print('input_shape',input_shape)"
   ]
  },
  {
   "cell_type": "code",
   "execution_count": null,
   "id": "effd7b9c",
   "metadata": {},
   "outputs": [],
   "source": [
    "for k in range(1,len(EPOCHS)):\n",
    "    print('---------------------------------------------------------------------')\n",
    "\n",
    "    mymodel = create_model(input_shape)\n",
    "\n",
    "    start_time = time.time()\n",
    "    myhistory = mymodel.fit(train_ds, validation_data=val_ds, epochs=EPOCHS[k], verbose=0)\n",
    "    minutes, seconds = ((time.time() - start_time) - 3600 * ((time.time() - start_time) // 3600)) // 60, (time.time() - start_time) % 60\n",
    "    print(f\"--- {minutes} минут {seconds} секунд ---\")\n",
    "\n",
    "    metrics = myhistory.history\n",
    "    y_pred = np.argmax(mymodel.predict(test_audio), axis=1)\n",
    "    y_true = test_labels\n",
    "    test_acc = sum(y_pred == y_true) / len(y_true) * 100\n",
    "    tests_acc1.append(test_acc)\n",
    "    print('Эпохи: ',EPOCHS[k], ', accuracy тестовой выборки: ', test_acc, '%')\n",
    "    models1.append(mymodel)\n",
    "    histories1.append(myhistory)"
   ]
  },
  {
   "cell_type": "code",
   "execution_count": null,
   "id": "961ec458",
   "metadata": {},
   "outputs": [],
   "source": [
    "tests_acc1"
   ]
  },
  {
   "cell_type": "code",
   "execution_count": null,
   "id": "ec450108",
   "metadata": {},
   "outputs": [],
   "source": [
    "k_max1 = np.argmax(np.array(tests_acc1))\n",
    "k_max1"
   ]
  },
  {
   "cell_type": "code",
   "execution_count": null,
   "id": "335a8fa4",
   "metadata": {},
   "outputs": [],
   "source": [
    "history_1 = histories1[k_max1]\n",
    "model_1 = models1[k_max1]\n",
    "metrics = history_.history\n",
    "\n",
    "y_pred = np.argmax(model_1.predict(test_audio), axis=1)\n",
    "y_true = test_labels\n",
    "test_acc = sum(y_pred == y_true) / len(y_true) * 100\n",
    "test_acc"
   ]
  },
  {
   "cell_type": "code",
   "execution_count": null,
   "id": "0b3b7da1",
   "metadata": {},
   "outputs": [],
   "source": [
    "fig, axes = plt.subplots(2, 1, figsize=(6, 6), constrained_layout=True)\n",
    "axes[0].plot(history_1.epoch, metrics['loss'], metrics['val_loss'])\n",
    "axes[0].legend(['loss', 'val_loss'])\n",
    "axes[0].set(xlabel='Номер эпохи', ylabel='Функция штрафа', title=f'Штраф тренировочный/проверочный')\n",
    "\n",
    "axes[1].plot(history_1.epoch, metrics['accuracy'], metrics['val_accuracy'])\n",
    "axes[1].legend(['accuracy', 'val_accuracy'])\n",
    "axes[1].set(xlabel='Номер эпохи', ylabel='Точность', title=f'Точность тренировочная/проверочная')"
   ]
  },
  {
   "cell_type": "code",
   "execution_count": null,
   "id": "b5b5e9dc",
   "metadata": {},
   "outputs": [],
   "source": [
    "confusion_mtx = tf.math.confusion_matrix(y_true, y_pred) \n",
    "plt.figure(figsize=(10, 12))\n",
    "sns.heatmap(confusion_mtx, xticklabels=notes, yticklabels=notes, \n",
    "            annot=True, fmt='g')\n",
    "plt.xlabel('Предсказание')\n",
    "plt.ylabel('Метка')\n",
    "plt.title('Матрица ошибок')\n",
    "plt.show()"
   ]
  },
  {
   "cell_type": "code",
   "execution_count": null,
   "id": "a44d9169",
   "metadata": {},
   "outputs": [],
   "source": [
    "sample_file = data_dir/'E/arpeg-CMaj-060BPM-leg_2.wav'\n",
    "print('Sample file:', sample_file)\n",
    "\n",
    "sample_ds = preprocess_dataset([str(sample_file)],params_s_f[k_max1][0],params_s_f[k_max1][1])\n",
    "count = 0 \n",
    "for spectrogram, label in sample_ds.batch(1):\n",
    "    count+=1\n",
    "    prediction = mymodel(spectrogram)\n",
    "    plt.bar(notes, prediction[0])\n",
    "    t = 'Предсказание для ноты \"'+ notes[label[0]]+'\"'\n",
    "    plt.title(t)\n",
    "    plt.show()\n",
    "print(count)"
   ]
  },
  {
   "cell_type": "code",
   "execution_count": null,
   "id": "799f30d2",
   "metadata": {},
   "outputs": [],
   "source": [
    "# Сохраняем модель\n",
    "model_1.save(r\"D:\\magistracy\\diplom\\model\\model_stft.h5\")"
   ]
  },
  {
   "cell_type": "code",
   "execution_count": null,
   "id": "abeb7796",
   "metadata": {},
   "outputs": [],
   "source": [
    "model_1.summary()"
   ]
  },
  {
   "cell_type": "code",
   "execution_count": null,
   "id": "dd56427c",
   "metadata": {},
   "outputs": [],
   "source": []
  }
 ],
 "metadata": {
  "kernelspec": {
   "display_name": "Python 3 (ipykernel)",
   "language": "python",
   "name": "python3"
  },
  "language_info": {
   "codemirror_mode": {
    "name": "ipython",
    "version": 3
   },
   "file_extension": ".py",
   "mimetype": "text/x-python",
   "name": "python",
   "nbconvert_exporter": "python",
   "pygments_lexer": "ipython3",
   "version": "3.9.7"
  }
 },
 "nbformat": 4,
 "nbformat_minor": 5
}
