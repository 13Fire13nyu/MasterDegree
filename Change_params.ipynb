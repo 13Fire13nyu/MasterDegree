{
 "cells": [
  {
   "cell_type": "code",
   "execution_count": 2,
   "id": "9cce9a50",
   "metadata": {},
   "outputs": [],
   "source": [
    "import os\n",
    "import pathlib\n",
    "\n",
    "import matplotlib.pyplot as plt\n",
    "import numpy as np\n",
    "import seaborn as sns\n",
    "import tensorflow as tf\n",
    "\n",
    "from tensorflow.keras.layers.experimental import preprocessing\n",
    "from tensorflow.keras import layers\n",
    "from tensorflow.keras import models\n",
    "from tensorflow import keras\n",
    "from IPython import display\n",
    "\n",
    "\n",
    "import fnmatch\n",
    "\n",
    "# Set seed for experiment reproducibility\n",
    "seed = 42\n",
    "tf.random.set_seed(seed)\n",
    "np.random.seed(seed)"
   ]
  },
  {
   "cell_type": "code",
   "execution_count": 30,
   "id": "ebfb032e",
   "metadata": {},
   "outputs": [],
   "source": [
    "data_dir = pathlib.Path(r\"D:\\magistracy\\diplom\\records_cut\")\n",
    "filenames = []\n",
    "for root, dirs, files in os.walk(data_dir):\n",
    "    for file in files:\n",
    "        if(file.endswith(\".wav\")):\n",
    "            filenames.append(os.path.join(root,file))"
   ]
  },
  {
   "cell_type": "code",
   "execution_count": 31,
   "id": "7ac7cea8",
   "metadata": {},
   "outputs": [
    {
     "name": "stdout",
     "output_type": "stream",
     "text": [
      "Notes: ['A' 'G#' 'G' 'F#' 'F' 'E' 'D#' 'D' 'C#' 'C' 'B' 'A#']\n"
     ]
    }
   ],
   "source": [
    "notes = np.array(['A','G#','G','F#','F','E','D#','D','C#','C','B','A#'])\n",
    "print('Notes:', notes)"
   ]
  },
  {
   "cell_type": "code",
   "execution_count": 32,
   "id": "0ac0169a",
   "metadata": {},
   "outputs": [
    {
     "name": "stdout",
     "output_type": "stream",
     "text": [
      "Number of total examples: 30828\n",
      "Number of examples per label: 2318\n",
      "Example file tensor: tf.Tensor(b'D:\\\\magistracy\\\\diplom\\\\records_cut\\\\D#\\\\en027a_55.wav', shape=(), dtype=string)\n"
     ]
    }
   ],
   "source": [
    "filenames = tf.random.shuffle(filenames)\n",
    "num_samples = len(filenames)\n",
    "print('Number of total examples:', num_samples)\n",
    "print('Number of examples per label:',\n",
    "      len(tf.io.gfile.listdir(str(data_dir/notes[0]))))\n",
    "print('Example file tensor:', filenames[0])"
   ]
  },
  {
   "cell_type": "code",
   "execution_count": 33,
   "id": "7e1359a2",
   "metadata": {},
   "outputs": [
    {
     "name": "stdout",
     "output_type": "stream",
     "text": [
      "Размер обучающего набора 19600\n",
      "Размер проверочного набора 5600\n",
      "Размер тестового набора 2800\n"
     ]
    }
   ],
   "source": [
    "filenames = filenames[:28000]\n",
    "\n",
    "train_files = filenames[:19600]\n",
    "val_files = filenames[19600: 19600 + 5600]\n",
    "test_files = filenames[-2800:]\n",
    "\n",
    "print('Размер обучающего набора', len(train_files))\n",
    "print('Размер проверочного набора', len(val_files))\n",
    "print('Размер тестового набора', len(test_files))"
   ]
  },
  {
   "cell_type": "code",
   "execution_count": 34,
   "id": "11f1036e",
   "metadata": {},
   "outputs": [
    {
     "data": {
      "text/plain": [
       "TensorShape([11506, 1])"
      ]
     },
     "execution_count": 34,
     "metadata": {},
     "output_type": "execute_result"
    }
   ],
   "source": [
    "# После разделения изначальных аудио-файлов на ноты все получившиеся записи стали моно-записями\n",
    "test_file = tf.io.read_file(filenames[0])\n",
    "test_audio, _ = tf.audio.decode_wav(contents=test_file)\n",
    "test_audio.shape"
   ]
  },
  {
   "cell_type": "code",
   "execution_count": 35,
   "id": "0f6c6182",
   "metadata": {},
   "outputs": [],
   "source": [
    "def decode_audio(audio_binary):\n",
    "    audio, _ = tf.audio.decode_wav(audio_binary) # возвращает WAV-кодированные как Тензор и частотой дискретизации.\n",
    "    return tf.squeeze(audio, axis=-1)\n",
    "\n",
    "def get_label(file_path):\n",
    "    parts = tf.strings.split(file_path, os.path.sep)\n",
    "    # Примечание. Здесь будет использоваться индексирование вместо распаковки кортежей, \n",
    "    # чтобы это работало на графике TensorFlow.\n",
    "    return parts[-2]\n",
    "\n",
    "def get_waveform_and_label(file_path):\n",
    "    label = get_label(file_path)\n",
    "    audio_binary = tf.io.read_file(file_path)\n",
    "    waveform = decode_audio(audio_binary)\n",
    "    return waveform, label\n",
    "\n",
    "def without_zero_len(waveform, label):\n",
    "    if len(waveform)!=0:  \n",
    "        return True\n",
    "    return False"
   ]
  },
  {
   "cell_type": "code",
   "execution_count": 36,
   "id": "557772c8",
   "metadata": {},
   "outputs": [
    {
     "name": "stdout",
     "output_type": "stream",
     "text": [
      "1171 tf.Tensor(b'D:\\\\magistracy\\\\diplom\\\\records_cut\\\\G\\\\en045a_5.wav', shape=(), dtype=string)\n",
      "2199 tf.Tensor(b'D:\\\\magistracy\\\\diplom\\\\records_cut\\\\G\\\\en022b_76.wav', shape=(), dtype=string)\n",
      "4355 tf.Tensor(b'D:\\\\magistracy\\\\diplom\\\\records_cut\\\\F#\\\\en049a_84.wav', shape=(), dtype=string)\n",
      "4425 tf.Tensor(b'D:\\\\magistracy\\\\diplom\\\\records_cut\\\\E\\\\kr021b_42.wav', shape=(), dtype=string)\n",
      "8201 tf.Tensor(b'D:\\\\magistracy\\\\diplom\\\\records_cut\\\\F#\\\\kr002b_204.wav', shape=(), dtype=string)\n",
      "9690 tf.Tensor(b'D:\\\\magistracy\\\\diplom\\\\records_cut\\\\D#\\\\kr038b_134.wav', shape=(), dtype=string)\n",
      "12707 tf.Tensor(b'D:\\\\magistracy\\\\diplom\\\\records_cut\\\\D\\\\kr019a_8.wav', shape=(), dtype=string)\n",
      "14965 tf.Tensor(b'D:\\\\magistracy\\\\diplom\\\\records_cut\\\\F#\\\\en012b_80.wav', shape=(), dtype=string)\n",
      "17485 tf.Tensor(b'D:\\\\magistracy\\\\diplom\\\\records_cut\\\\C#\\\\kr005b_65.wav', shape=(), dtype=string)\n",
      "19349 tf.Tensor(b'D:\\\\magistracy\\\\diplom\\\\records_cut\\\\G\\\\en031a_54.wav', shape=(), dtype=string)\n"
     ]
    }
   ],
   "source": [
    "AUTOTUNE = tf.data.experimental.AUTOTUNE\n",
    "files_ds = tf.data.Dataset.from_tensor_slices(train_files)\n",
    "waveform_ds = files_ds.map(get_waveform_and_label, num_parallel_calls=AUTOTUNE)\n",
    "count = 0\n",
    "for a,_ in waveform_ds:\n",
    "    count+=1\n",
    "    if a.shape[0]==0:\n",
    "        print(count, filenames[count])\n",
    "waveform_ds = waveform_ds.filter(without_zero_len) # Удаляем сигналы нулевой длины"
   ]
  },
  {
   "cell_type": "code",
   "execution_count": 37,
   "id": "22c45700",
   "metadata": {},
   "outputs": [
    {
     "name": "stdout",
     "output_type": "stream",
     "text": [
      "(1025, 40)\n"
     ]
    }
   ],
   "source": [
    "# Загружаем триангулярные фильтры\n",
    "with open('filters.npy', 'rb') as f:\n",
    "    fbank = np.load(f)\n",
    "    \n",
    "fbank = tf.convert_to_tensor(fbank.T, dtype=tf.float32)   \n",
    "print(fbank.shape)"
   ]
  },
  {
   "cell_type": "code",
   "execution_count": 107,
   "id": "97bf6d92",
   "metadata": {},
   "outputs": [],
   "source": [
    "def get_spectrogram(params):\n",
    "    waveform = params[0]\n",
    "    S = tf.convert_to_tensor(params[1])\n",
    "    NFFT = 2048\n",
    "    waveform = tf.cast(waveform, tf.float32)\n",
    "    spectrogram = tf.signal.stft(waveform, frame_length=NFFT, frame_step=S,pad_end=True)\n",
    "    spectrogram = tf.abs(spectrogram)\n",
    "    #pow_frames = ((1.0 / NFFT) * ((spectrogram) ** 2))\n",
    "    spectrogram = tf.tensordot(spectrogram, fbank, axes = [[1],[0]])\n",
    "    #filter_banks = tf.where(filter_banks == 0, tf.keras.backend.epsilon(), filter_banks)  # Численная стабильность \n",
    "    # tf.keras.backend.epsilon() - машинный ноль)\n",
    "    #spectrogram = tf.math.log(filter_banks)  # Логарифмические энергии набора фильтров\n",
    "\n",
    "    return spectrogram"
   ]
  },
  {
   "cell_type": "code",
   "execution_count": 77,
   "id": "db570b6a",
   "metadata": {},
   "outputs": [
    {
     "name": "stdout",
     "output_type": "stream",
     "text": [
      "Label: D#\n",
      "Waveform shape: (11506,)\n",
      "Spectrogram shape: (23, 40)\n",
      "Audio playback\n"
     ]
    },
    {
     "data": {
      "text/html": [
       "\n",
       "                <audio  controls=\"controls\" >\n",
       "                    <source src=\"data:audio/wav;base64,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\" type=\"audio/wav\" />\n",
       "                    Your browser does not support the audio element.\n",
       "                </audio>\n",
       "              "
      ],
      "text/plain": [
       "<IPython.lib.display.Audio object>"
      ]
     },
     "metadata": {},
     "output_type": "display_data"
    }
   ],
   "source": [
    "for waveform, label in waveform_ds.take(1):\n",
    "    label = label.numpy().decode('utf-8')\n",
    "    spectrogram = get_spectrogram((waveform,512))\n",
    "\n",
    "\n",
    "print('Label:', label)\n",
    "print('Waveform shape:', waveform.shape)\n",
    "print('Spectrogram shape:', spectrogram.shape)\n",
    "print('Audio playback')\n",
    "display.display(display.Audio(waveform, rate=44100))"
   ]
  },
  {
   "cell_type": "code",
   "execution_count": 78,
   "id": "3f57bca5",
   "metadata": {},
   "outputs": [],
   "source": [
    "def get_spectrogram_and_label_id(audio, label, step):\n",
    "    spectrogram = get_spectrogram((audio,step))\n",
    "    #spectrogram = tf.expand_dims(spectrogram, -1)\n",
    "    label_id = tf.argmax(label == notes)\n",
    "    return spectrogram, label_id\n",
    "\n",
    "def get_spectrogram_and_label_id_lim(spectrogram, label_id, M):\n",
    "    spec_length = len(spectrogram)\n",
    "    if spec_length<M:\n",
    "        for k in range(M-spec_length):\n",
    "            spect_last = spectrogram[spec_length-1]\n",
    "            spect_last = tf.expand_dims(spect_last, 0)\n",
    "            spectrogram = tf.concat([spectrogram, spect_last], 0)\n",
    "    elif spec_length>M:\n",
    "        start = tf.random.uniform(shape=[], minval=0, maxval=spec_length-M, dtype=tf.int32)\n",
    "        spectrogram = spectrogram[start:start+M]\n",
    "    else:\n",
    "        spectrogram = spectrogram\n",
    "    return spectrogram, label_id"
   ]
  },
  {
   "cell_type": "code",
   "execution_count": 79,
   "id": "baf28643",
   "metadata": {},
   "outputs": [
    {
     "name": "stdout",
     "output_type": "stream",
     "text": [
      "Количество вариантов step 6\n",
      "Количество вариантов num_frame 6\n",
      "Количество баз данных 36\n"
     ]
    }
   ],
   "source": [
    "step = list(map(int,[2048/32, 2048/16, 2048/8, 2048/4, 2048/2, 2048]))\n",
    "num_frame = [5,10,15,20,25,30]\n",
    "params_s_f = [] \n",
    "\n",
    "for s in step:\n",
    "    for f in num_frame:\n",
    "        params_s_f.append((s,f))\n",
    "print('Количество вариантов step', len(step))\n",
    "print('Количество вариантов num_frame', len(num_frame))\n",
    "print('Количество баз данных', len(params_s_f))"
   ]
  },
  {
   "cell_type": "code",
   "execution_count": 80,
   "id": "45f1a327",
   "metadata": {},
   "outputs": [
    {
     "data": {
      "text/plain": [
       "[(64, 5),\n",
       " (64, 10),\n",
       " (64, 15),\n",
       " (64, 20),\n",
       " (64, 25),\n",
       " (64, 30),\n",
       " (128, 5),\n",
       " (128, 10),\n",
       " (128, 15),\n",
       " (128, 20),\n",
       " (128, 25),\n",
       " (128, 30),\n",
       " (256, 5),\n",
       " (256, 10),\n",
       " (256, 15),\n",
       " (256, 20),\n",
       " (256, 25),\n",
       " (256, 30),\n",
       " (512, 5),\n",
       " (512, 10),\n",
       " (512, 15),\n",
       " (512, 20),\n",
       " (512, 25),\n",
       " (512, 30),\n",
       " (1024, 5),\n",
       " (1024, 10),\n",
       " (1024, 15),\n",
       " (1024, 20),\n",
       " (1024, 25),\n",
       " (1024, 30),\n",
       " (2048, 5),\n",
       " (2048, 10),\n",
       " (2048, 15),\n",
       " (2048, 20),\n",
       " (2048, 25),\n",
       " (2048, 30)]"
      ]
     },
     "execution_count": 80,
     "metadata": {},
     "output_type": "execute_result"
    }
   ],
   "source": [
    "params_s_f"
   ]
  },
  {
   "cell_type": "code",
   "execution_count": 81,
   "id": "912ffc12",
   "metadata": {},
   "outputs": [],
   "source": [
    "def preprocess_dataset(files,s,f):\n",
    "    files_ds = tf.data.Dataset.from_tensor_slices(files)\n",
    "    output_ds = files_ds.map(get_waveform_and_label, num_parallel_calls=AUTOTUNE)\n",
    "    output_ds = output_ds.filter(without_zero_len) \n",
    "    output_ds = output_ds.map(lambda x,y: get_spectrogram_and_label_id(x,y,s), num_parallel_calls=AUTOTUNE)\n",
    "    output_ds = output_ds.map(lambda x,y: get_spectrogram_and_label_id_lim(x,y,f))\n",
    "    return output_ds"
   ]
  },
  {
   "cell_type": "code",
   "execution_count": 82,
   "id": "858d270b",
   "metadata": {},
   "outputs": [],
   "source": [
    "def create_model(input_shape):\n",
    "    inputs = layers.Input(shape = input_shape, name = \"inputs\")\n",
    "    x = layers.Flatten()(inputs)\n",
    "    x = layers.Dense(512, activation = 'relu', name = \"relu_1\")(x)\n",
    "    x = layers.Dense(512, activation = 'relu', name = \"relu_2\")(x)\n",
    "    x = layers.Dense(512, activation = 'relu', name = \"relu_3\")(x)\n",
    "    outputs = layers.Dense(12,activation = 'softmax', name = \"dense_end\")(x)\n",
    "    model = tf.keras.Model(inputs = inputs, outputs = outputs)\n",
    "    model.compile(optimizer='adam',\n",
    "                  loss = 'sparse_categorical_crossentropy',\n",
    "                  metrics=['accuracy'])\n",
    "    return model"
   ]
  },
  {
   "cell_type": "markdown",
   "id": "ca0ad05b",
   "metadata": {},
   "source": [
    "_______________________________________________"
   ]
  },
  {
   "cell_type": "code",
   "execution_count": 83,
   "id": "ca65e057",
   "metadata": {},
   "outputs": [],
   "source": [
    "import time\n",
    "EPOCHS = 100\n",
    "models = []\n",
    "histories = []"
   ]
  },
  {
   "cell_type": "code",
   "execution_count": 84,
   "id": "348873f2",
   "metadata": {},
   "outputs": [
    {
     "name": "stdout",
     "output_type": "stream",
     "text": [
      "---------------------------------------------------------------------\n",
      "Шаг: 64 , количество спектрограмм:  5\n",
      "input_shape (5, 40)\n",
      "--- 3.0 минут 29.629629611968994 секунд ---\n",
      "Шаг: 64 , количество спектрограмм:  5 , accuracy тестовой выборки:  71.82695745441544 %\n",
      "---------------------------------------------------------------------\n",
      "Шаг: 64 , количество спектрограмм:  10\n",
      "input_shape (10, 40)\n",
      "--- 3.0 минут 41.73186659812927 секунд ---\n",
      "Шаг: 64 , количество спектрограмм:  10 , accuracy тестовой выборки:  72.86378262424026 %\n",
      "---------------------------------------------------------------------\n",
      "Шаг: 64 , количество спектрограмм:  15\n",
      "input_shape (15, 40)\n",
      "--- 6.0 минут 13.947469234466553 секунд ---\n",
      "Шаг: 64 , количество спектрограмм:  15 , accuracy тестовой выборки:  73.54308187343582 %\n",
      "---------------------------------------------------------------------\n",
      "Шаг: 64 , количество спектрограмм:  20\n",
      "input_shape (20, 40)\n",
      "--- 6.0 минут 25.46107006072998 секунд ---\n",
      "Шаг: 64 , количество спектрограмм:  20 , accuracy тестовой выборки:  74.79442259563818 %\n",
      "---------------------------------------------------------------------\n",
      "Шаг: 64 , количество спектрограмм:  25\n",
      "input_shape (25, 40)\n",
      "--- 6.0 минут 2.6288869380950928 секунд ---\n",
      "Шаг: 64 , количество спектрограмм:  25 , accuracy тестовой выборки:  77.97640328923848 %\n",
      "---------------------------------------------------------------------\n",
      "Шаг: 64 , количество спектрограмм:  30\n",
      "input_shape (30, 40)\n",
      "--- 5.0 минут 33.20526671409607 секунд ---\n",
      "Шаг: 64 , количество спектрограмм:  30 , accuracy тестовой выборки:  76.97533071147659 %\n",
      "---------------------------------------------------------------------\n",
      "Шаг: 128 , количество спектрограмм:  5\n",
      "input_shape (5, 40)\n",
      "--- 4.0 минут 4.611648321151733 секунд ---\n",
      "Шаг: 128 , количество спектрограмм:  5 , accuracy тестовой выборки:  71.71969967822666 %\n",
      "---------------------------------------------------------------------\n",
      "Шаг: 128 , количество спектрограмм:  10\n",
      "input_shape (10, 40)\n",
      "--- 4.0 минут 18.702799081802368 секунд ---\n",
      "Шаг: 128 , количество спектрограмм:  10 , accuracy тестовой выборки:  74.75867000357526 %\n",
      "---------------------------------------------------------------------\n",
      "Шаг: 128 , количество спектрограмм:  15\n",
      "input_shape (15, 40)\n",
      "--- 4.0 минут 32.81756567955017 секунд ---\n",
      "Шаг: 128 , количество спектрограмм:  15 , accuracy тестовой выборки:  78.11941365749017 %\n",
      "---------------------------------------------------------------------\n",
      "Шаг: 128 , количество спектрограмм:  20\n",
      "input_shape (20, 40)\n",
      "--- 4.0 минут 32.683977365493774 секунд ---\n",
      "Шаг: 128 , количество спектрограмм:  20 , accuracy тестовой выборки:  80.33607436539148 %\n",
      "---------------------------------------------------------------------\n",
      "Шаг: 128 , количество спектрограмм:  25\n",
      "input_shape (25, 40)\n",
      "--- 4.0 минут 30.799878120422363 секунд ---\n",
      "Шаг: 128 , количество спектрограмм:  25 , accuracy тестовой выборки:  81.26564175902753 %\n",
      "---------------------------------------------------------------------\n",
      "Шаг: 128 , количество спектрограмм:  30\n",
      "input_shape (30, 40)\n",
      "--- 4.0 минут 54.27468395233154 секунд ---\n",
      "Шаг: 128 , количество спектрограмм:  30 , accuracy тестовой выборки:  82.87450840185913 %\n",
      "---------------------------------------------------------------------\n",
      "Шаг: 256 , количество спектрограмм:  5\n",
      "input_shape (5, 40)\n",
      "--- 3.0 минут 31.93863534927368 секунд ---\n",
      "Шаг: 256 , количество спектрограмм:  5 , accuracy тестовой выборки:  74.72291741151234 %\n",
      "---------------------------------------------------------------------\n",
      "Шаг: 256 , количество спектрограмм:  10\n",
      "input_shape (10, 40)\n",
      "--- 4.0 минут 15.587577104568481 секунд ---\n",
      "Шаг: 256 , количество спектрограмм:  10 , accuracy тестовой выборки:  80.51483732570611 %\n",
      "---------------------------------------------------------------------\n",
      "Шаг: 256 , количество спектрограмм:  15\n",
      "input_shape (15, 40)\n",
      "--- 4.0 минут 36.10530185699463 секунд ---\n",
      "Шаг: 256 , количество спектрограмм:  15 , accuracy тестовой выборки:  85.0196639256346 %\n",
      "---------------------------------------------------------------------\n",
      "Шаг: 256 , количество спектрограмм:  20\n",
      "input_shape (20, 40)\n",
      "--- 4.0 минут 32.673545837402344 секунд ---\n",
      "Шаг: 256 , количество спектрограмм:  20 , accuracy тестовой выборки:  87.45084018591348 %\n",
      "---------------------------------------------------------------------\n",
      "Шаг: 256 , количество спектрограмм:  25\n",
      "input_shape (25, 40)\n",
      "--- 4.0 минут 48.23917007446289 секунд ---\n",
      "Шаг: 256 , количество спектрограмм:  25 , accuracy тестовой выборки:  89.02395423668216 %\n",
      "---------------------------------------------------------------------\n",
      "Шаг: 256 , количество спектрограмм:  30\n",
      "input_shape (30, 40)\n",
      "--- 5.0 минут 6.282361745834351 секунд ---\n",
      "Шаг: 256 , количество спектрограмм:  30 , accuracy тестовой выборки:  91.31212012870932 %\n",
      "---------------------------------------------------------------------\n",
      "Шаг: 512 , количество спектрограмм:  5\n",
      "input_shape (5, 40)\n",
      "--- 3.0 минут 35.69809937477112 секунд ---\n",
      "Шаг: 512 , количество спектрограмм:  5 , accuracy тестовой выборки:  82.15945656060065 %\n",
      "---------------------------------------------------------------------\n",
      "Шаг: 512 , количество спектрограмм:  10\n",
      "input_shape (10, 40)\n",
      "--- 4.0 минут 27.08467745780945 секунд ---\n",
      "Шаг: 512 , количество спектрограмм:  10 , accuracy тестовой выборки:  88.27314980336074 %\n",
      "---------------------------------------------------------------------\n",
      "Шаг: 512 , количество спектрограмм:  15\n",
      "input_shape (15, 40)\n",
      "--- 4.0 минут 23.1719651222229 секунд ---\n",
      "Шаг: 512 , количество спектрограмм:  15 , accuracy тестовой выборки:  91.20486235252055 %\n",
      "---------------------------------------------------------------------\n",
      "Шаг: 512 , количество спектрограмм:  20\n",
      "input_shape (20, 40)\n",
      "--- 4.0 минут 48.59269404411316 секунд ---\n",
      "Шаг: 512 , количество спектрограмм:  20 , accuracy тестовой выборки:  92.70647121916339 %\n",
      "---------------------------------------------------------------------\n",
      "Шаг: 512 , количество спектрограмм:  25\n",
      "input_shape (25, 40)\n",
      "--- 5.0 минут 1.7837636470794678 секунд ---\n",
      "Шаг: 512 , количество спектрограмм:  25 , accuracy тестовой выборки:  93.63603861279944 %\n",
      "---------------------------------------------------------------------\n",
      "Шаг: 512 , количество спектрограмм:  30\n",
      "input_shape (30, 40)\n",
      "--- 4.0 минут 33.23756957054138 секунд ---\n",
      "Шаг: 512 , количество спектрограмм:  30 , accuracy тестовой выборки:  94.06506971755452 %\n",
      "---------------------------------------------------------------------\n",
      "Шаг: 1024 , количество спектрограмм:  5\n",
      "input_shape (5, 40)\n",
      "--- 3.0 минут 16.534969806671143 секунд ---\n",
      "Шаг: 1024 , количество спектрограмм:  5 , accuracy тестовой выборки:  87.84411869860564 %\n",
      "---------------------------------------------------------------------\n",
      "Шаг: 1024 , количество спектрограмм:  10\n",
      "input_shape (10, 40)\n",
      "--- 4.0 минут 8.160864353179932 секунд ---\n",
      "Шаг: 1024 , количество спектрограмм:  10 , accuracy тестовой выборки:  93.24276010010726 %\n",
      "---------------------------------------------------------------------\n",
      "Шаг: 1024 , количество спектрограмм:  15\n",
      "input_shape (15, 40)\n",
      "--- 4.0 минут 19.570852041244507 секунд ---\n",
      "Шаг: 1024 , количество спектрограмм:  15 , accuracy тестовой выборки:  94.06506971755452 %\n",
      "---------------------------------------------------------------------\n",
      "Шаг: 1024 , количество спектрограмм:  20\n",
      "input_shape (20, 40)\n",
      "--- 4.0 минут 46.20026922225952 секунд ---\n",
      "Шаг: 1024 , количество спектрограмм:  20 , accuracy тестовой выборки:  94.56560600643546 %\n",
      "---------------------------------------------------------------------\n",
      "Шаг: 1024 , количество спектрограмм:  25\n",
      "input_shape (25, 40)\n",
      "--- 4.0 минут 15.28819751739502 секунд ---\n",
      "Шаг: 1024 , количество спектрограмм:  25 , accuracy тестовой выборки:  93.74329638898821 %\n",
      "---------------------------------------------------------------------\n",
      "Шаг: 1024 , количество спектрограмм:  30\n",
      "input_shape (30, 40)\n",
      "--- 4.0 минут 11.484861850738525 секунд ---\n",
      "Шаг: 1024 , количество спектрограмм:  30 , accuracy тестовой выборки:  93.35001787629604 %\n",
      "---------------------------------------------------------------------\n",
      "Шаг: 2048 , количество спектрограмм:  5\n",
      "input_shape (5, 40)\n",
      "--- 3.0 минут 2.9732043743133545 секунд ---\n",
      "Шаг: 2048 , количество спектрограмм:  5 , accuracy тестовой выборки:  92.81372899535216 %\n",
      "---------------------------------------------------------------------\n",
      "Шаг: 2048 , количество спектрограмм:  10\n"
     ]
    },
    {
     "name": "stdout",
     "output_type": "stream",
     "text": [
      "input_shape (10, 40)\n",
      "--- 3.0 минут 48.91870975494385 секунд ---\n",
      "Шаг: 2048 , количество спектрограмм:  10 , accuracy тестовой выборки:  92.88523417947802 %\n",
      "---------------------------------------------------------------------\n",
      "Шаг: 2048 , количество спектрограмм:  15\n",
      "input_shape (15, 40)\n",
      "--- 3.0 минут 44.66574835777283 секунд ---\n",
      "Шаг: 2048 , количество спектрограмм:  15 , accuracy тестовой выборки:  92.49195566678584 %\n",
      "---------------------------------------------------------------------\n",
      "Шаг: 2048 , количество спектрограмм:  20\n",
      "input_shape (20, 40)\n",
      "--- 3.0 минут 57.61667442321777 секунд ---\n",
      "Шаг: 2048 , количество спектрограмм:  20 , accuracy тестовой выборки:  92.81372899535216 %\n",
      "---------------------------------------------------------------------\n",
      "Шаг: 2048 , количество спектрограмм:  25\n",
      "input_shape (25, 40)\n",
      "--- 4.0 минут 24.519577264785767 секунд ---\n",
      "Шаг: 2048 , количество спектрограмм:  25 , accuracy тестовой выборки:  91.77690382552736 %\n",
      "---------------------------------------------------------------------\n",
      "Шаг: 2048 , количество спектрограмм:  30\n",
      "input_shape (30, 40)\n",
      "--- 4.0 минут 32.995872497558594 секунд ---\n",
      "Шаг: 2048 , количество спектрограмм:  30 , accuracy тестовой выборки:  90.0965319985699 %\n",
      "--- 42.0 минут 54.95643496513367 секунд ---\n"
     ]
    }
   ],
   "source": [
    "start_time0 = time.time()\n",
    "tests_acc = []\n",
    "for k in range(len(params_s_f)):\n",
    "    print('---------------------------------------------------------------------')\n",
    "    print('Шаг:', params_s_f[k][0], ', количество спектрограмм: ',params_s_f[k][1])\n",
    "    train_ds = []\n",
    "    val_ds = []\n",
    "    test_ds = []\n",
    "    spectrogram_ds = waveform_ds.map(lambda x,y: get_spectrogram_and_label_id(x,y,params_s_f[k][0]), num_parallel_calls=AUTOTUNE)\n",
    "    spectrogram_ds = spectrogram_ds.map(lambda x, y: get_spectrogram_and_label_id_lim(x,y,params_s_f[k][1]))\n",
    "    train_ds = spectrogram_ds\n",
    "    val_ds = preprocess_dataset(val_files,params_s_f[k][0],params_s_f[k][1])\n",
    "    test_ds = preprocess_dataset(test_files,params_s_f[k][0],params_s_f[k][1])\n",
    "    \n",
    "    batch_size = 64\n",
    "    train_ds = train_ds.batch(batch_size)\n",
    "    val_ds = val_ds.batch(batch_size)\n",
    "    train_ds = train_ds.cache().prefetch(AUTOTUNE)\n",
    "    val_ds = val_ds.cache().prefetch(AUTOTUNE)\n",
    "    \n",
    "    test_audio = []\n",
    "    test_labels = []\n",
    "\n",
    "    for audio, label in test_ds:\n",
    "        test_audio.append(audio.numpy())\n",
    "        test_labels.append(label.numpy())\n",
    "\n",
    "    test_audio = np.array(test_audio)\n",
    "    test_labels = np.array(test_labels)\n",
    "\n",
    "    for spectrogram, _ in spectrogram_ds.take(1):\n",
    "        input_shape = spectrogram.shape\n",
    "        print('input_shape',input_shape)\n",
    "    \n",
    "    \n",
    "    mymodel = create_model(input_shape)\n",
    "    \n",
    "    start_time = time.time()\n",
    "    myhistory = mymodel.fit(train_ds, validation_data=val_ds, epochs=EPOCHS, verbose=0)\n",
    "    minutes, seconds = ((time.time() - start_time) - 3600 * ((time.time() - start_time) // 3600)) // 60, (time.time() - start_time) % 60\n",
    "    print(f\"--- {minutes} минут {seconds} секунд ---\")\n",
    "    \n",
    "    metrics = myhistory.history\n",
    "    y_pred = np.argmax(mymodel.predict(test_audio), axis=1)\n",
    "    y_true = test_labels\n",
    "    test_acc = sum(y_pred == y_true) / len(y_true) * 100\n",
    "    tests_acc.append(test_acc)\n",
    "    print('Шаг:', params_s_f[k][0], ', количество спектрограмм: ',params_s_f[k][1], ', accuracy тестовой выборки: ', test_acc, '%')\n",
    "    models.append(mymodel)\n",
    "    histories.append(myhistory)\n",
    "    \n",
    "    \n",
    "minutes, seconds = ((time.time() - start_time0) - 3600 * ((time.time() - start_time0) // 3600)) // 60, (time.time() - start_time0) % 60    \n",
    "print(f\"--- {minutes} минут {seconds} секунд ---\")"
   ]
  },
  {
   "cell_type": "code",
   "execution_count": 85,
   "id": "78fa69db",
   "metadata": {},
   "outputs": [
    {
     "name": "stdout",
     "output_type": "stream",
     "text": [
      "0 64\n",
      "Model: \"model_7\"\n",
      "_________________________________________________________________\n",
      " Layer (type)                Output Shape              Param #   \n",
      "=================================================================\n",
      " inputs (InputLayer)         [(None, 5, 40)]           0         \n",
      "                                                                 \n",
      " flatten_7 (Flatten)         (None, 200)               0         \n",
      "                                                                 \n",
      " relu_1 (Dense)              (None, 512)               102912    \n",
      "                                                                 \n",
      " relu_2 (Dense)              (None, 512)               262656    \n",
      "                                                                 \n",
      " relu_3 (Dense)              (None, 512)               262656    \n",
      "                                                                 \n",
      " dense_end (Dense)           (None, 12)                6156      \n",
      "                                                                 \n",
      "=================================================================\n",
      "Total params: 634,380\n",
      "Trainable params: 634,380\n",
      "Non-trainable params: 0\n",
      "_________________________________________________________________\n",
      "1 64\n",
      "Model: \"model_8\"\n",
      "_________________________________________________________________\n",
      " Layer (type)                Output Shape              Param #   \n",
      "=================================================================\n",
      " inputs (InputLayer)         [(None, 10, 40)]          0         \n",
      "                                                                 \n",
      " flatten_8 (Flatten)         (None, 400)               0         \n",
      "                                                                 \n",
      " relu_1 (Dense)              (None, 512)               205312    \n",
      "                                                                 \n",
      " relu_2 (Dense)              (None, 512)               262656    \n",
      "                                                                 \n",
      " relu_3 (Dense)              (None, 512)               262656    \n",
      "                                                                 \n",
      " dense_end (Dense)           (None, 12)                6156      \n",
      "                                                                 \n",
      "=================================================================\n",
      "Total params: 736,780\n",
      "Trainable params: 736,780\n",
      "Non-trainable params: 0\n",
      "_________________________________________________________________\n",
      "2 64\n",
      "Model: \"model_9\"\n",
      "_________________________________________________________________\n",
      " Layer (type)                Output Shape              Param #   \n",
      "=================================================================\n",
      " inputs (InputLayer)         [(None, 15, 40)]          0         \n",
      "                                                                 \n",
      " flatten_9 (Flatten)         (None, 600)               0         \n",
      "                                                                 \n",
      " relu_1 (Dense)              (None, 512)               307712    \n",
      "                                                                 \n",
      " relu_2 (Dense)              (None, 512)               262656    \n",
      "                                                                 \n",
      " relu_3 (Dense)              (None, 512)               262656    \n",
      "                                                                 \n",
      " dense_end (Dense)           (None, 12)                6156      \n",
      "                                                                 \n",
      "=================================================================\n",
      "Total params: 839,180\n",
      "Trainable params: 839,180\n",
      "Non-trainable params: 0\n",
      "_________________________________________________________________\n",
      "3 64\n",
      "Model: \"model_10\"\n",
      "_________________________________________________________________\n",
      " Layer (type)                Output Shape              Param #   \n",
      "=================================================================\n",
      " inputs (InputLayer)         [(None, 20, 40)]          0         \n",
      "                                                                 \n",
      " flatten_10 (Flatten)        (None, 800)               0         \n",
      "                                                                 \n",
      " relu_1 (Dense)              (None, 512)               410112    \n",
      "                                                                 \n",
      " relu_2 (Dense)              (None, 512)               262656    \n",
      "                                                                 \n",
      " relu_3 (Dense)              (None, 512)               262656    \n",
      "                                                                 \n",
      " dense_end (Dense)           (None, 12)                6156      \n",
      "                                                                 \n",
      "=================================================================\n",
      "Total params: 941,580\n",
      "Trainable params: 941,580\n",
      "Non-trainable params: 0\n",
      "_________________________________________________________________\n",
      "4 64\n",
      "Model: \"model_11\"\n",
      "_________________________________________________________________\n",
      " Layer (type)                Output Shape              Param #   \n",
      "=================================================================\n",
      " inputs (InputLayer)         [(None, 25, 40)]          0         \n",
      "                                                                 \n",
      " flatten_11 (Flatten)        (None, 1000)              0         \n",
      "                                                                 \n",
      " relu_1 (Dense)              (None, 512)               512512    \n",
      "                                                                 \n",
      " relu_2 (Dense)              (None, 512)               262656    \n",
      "                                                                 \n",
      " relu_3 (Dense)              (None, 512)               262656    \n",
      "                                                                 \n",
      " dense_end (Dense)           (None, 12)                6156      \n",
      "                                                                 \n",
      "=================================================================\n",
      "Total params: 1,043,980\n",
      "Trainable params: 1,043,980\n",
      "Non-trainable params: 0\n",
      "_________________________________________________________________\n",
      "5 64\n",
      "Model: \"model_12\"\n",
      "_________________________________________________________________\n",
      " Layer (type)                Output Shape              Param #   \n",
      "=================================================================\n",
      " inputs (InputLayer)         [(None, 30, 40)]          0         \n",
      "                                                                 \n",
      " flatten_12 (Flatten)        (None, 1200)              0         \n",
      "                                                                 \n",
      " relu_1 (Dense)              (None, 512)               614912    \n",
      "                                                                 \n",
      " relu_2 (Dense)              (None, 512)               262656    \n",
      "                                                                 \n",
      " relu_3 (Dense)              (None, 512)               262656    \n",
      "                                                                 \n",
      " dense_end (Dense)           (None, 12)                6156      \n",
      "                                                                 \n",
      "=================================================================\n",
      "Total params: 1,146,380\n",
      "Trainable params: 1,146,380\n",
      "Non-trainable params: 0\n",
      "_________________________________________________________________\n",
      "6 128\n",
      "Model: \"model_13\"\n",
      "_________________________________________________________________\n",
      " Layer (type)                Output Shape              Param #   \n",
      "=================================================================\n",
      " inputs (InputLayer)         [(None, 5, 40)]           0         \n",
      "                                                                 \n",
      " flatten_13 (Flatten)        (None, 200)               0         \n",
      "                                                                 \n",
      " relu_1 (Dense)              (None, 512)               102912    \n",
      "                                                                 \n",
      " relu_2 (Dense)              (None, 512)               262656    \n",
      "                                                                 \n",
      " relu_3 (Dense)              (None, 512)               262656    \n",
      "                                                                 \n",
      " dense_end (Dense)           (None, 12)                6156      \n"
     ]
    },
    {
     "name": "stdout",
     "output_type": "stream",
     "text": [
      "                                                                 \n",
      "=================================================================\n",
      "Total params: 634,380\n",
      "Trainable params: 634,380\n",
      "Non-trainable params: 0\n",
      "_________________________________________________________________\n",
      "7 128\n",
      "Model: \"model_14\"\n",
      "_________________________________________________________________\n",
      " Layer (type)                Output Shape              Param #   \n",
      "=================================================================\n",
      " inputs (InputLayer)         [(None, 10, 40)]          0         \n",
      "                                                                 \n",
      " flatten_14 (Flatten)        (None, 400)               0         \n",
      "                                                                 \n",
      " relu_1 (Dense)              (None, 512)               205312    \n",
      "                                                                 \n",
      " relu_2 (Dense)              (None, 512)               262656    \n",
      "                                                                 \n",
      " relu_3 (Dense)              (None, 512)               262656    \n",
      "                                                                 \n",
      " dense_end (Dense)           (None, 12)                6156      \n",
      "                                                                 \n",
      "=================================================================\n",
      "Total params: 736,780\n",
      "Trainable params: 736,780\n",
      "Non-trainable params: 0\n",
      "_________________________________________________________________\n",
      "8 128\n",
      "Model: \"model_15\"\n",
      "_________________________________________________________________\n",
      " Layer (type)                Output Shape              Param #   \n",
      "=================================================================\n",
      " inputs (InputLayer)         [(None, 15, 40)]          0         \n",
      "                                                                 \n",
      " flatten_15 (Flatten)        (None, 600)               0         \n",
      "                                                                 \n",
      " relu_1 (Dense)              (None, 512)               307712    \n",
      "                                                                 \n",
      " relu_2 (Dense)              (None, 512)               262656    \n",
      "                                                                 \n",
      " relu_3 (Dense)              (None, 512)               262656    \n",
      "                                                                 \n",
      " dense_end (Dense)           (None, 12)                6156      \n",
      "                                                                 \n",
      "=================================================================\n",
      "Total params: 839,180\n",
      "Trainable params: 839,180\n",
      "Non-trainable params: 0\n",
      "_________________________________________________________________\n",
      "9 128\n",
      "Model: \"model_16\"\n",
      "_________________________________________________________________\n",
      " Layer (type)                Output Shape              Param #   \n",
      "=================================================================\n",
      " inputs (InputLayer)         [(None, 20, 40)]          0         \n",
      "                                                                 \n",
      " flatten_16 (Flatten)        (None, 800)               0         \n",
      "                                                                 \n",
      " relu_1 (Dense)              (None, 512)               410112    \n",
      "                                                                 \n",
      " relu_2 (Dense)              (None, 512)               262656    \n",
      "                                                                 \n",
      " relu_3 (Dense)              (None, 512)               262656    \n",
      "                                                                 \n",
      " dense_end (Dense)           (None, 12)                6156      \n",
      "                                                                 \n",
      "=================================================================\n",
      "Total params: 941,580\n",
      "Trainable params: 941,580\n",
      "Non-trainable params: 0\n",
      "_________________________________________________________________\n",
      "10 128\n",
      "Model: \"model_17\"\n",
      "_________________________________________________________________\n",
      " Layer (type)                Output Shape              Param #   \n",
      "=================================================================\n",
      " inputs (InputLayer)         [(None, 25, 40)]          0         \n",
      "                                                                 \n",
      " flatten_17 (Flatten)        (None, 1000)              0         \n",
      "                                                                 \n",
      " relu_1 (Dense)              (None, 512)               512512    \n",
      "                                                                 \n",
      " relu_2 (Dense)              (None, 512)               262656    \n",
      "                                                                 \n",
      " relu_3 (Dense)              (None, 512)               262656    \n",
      "                                                                 \n",
      " dense_end (Dense)           (None, 12)                6156      \n",
      "                                                                 \n",
      "=================================================================\n",
      "Total params: 1,043,980\n",
      "Trainable params: 1,043,980\n",
      "Non-trainable params: 0\n",
      "_________________________________________________________________\n",
      "11 128\n",
      "Model: \"model_18\"\n",
      "_________________________________________________________________\n",
      " Layer (type)                Output Shape              Param #   \n",
      "=================================================================\n",
      " inputs (InputLayer)         [(None, 30, 40)]          0         \n",
      "                                                                 \n",
      " flatten_18 (Flatten)        (None, 1200)              0         \n",
      "                                                                 \n",
      " relu_1 (Dense)              (None, 512)               614912    \n",
      "                                                                 \n",
      " relu_2 (Dense)              (None, 512)               262656    \n",
      "                                                                 \n",
      " relu_3 (Dense)              (None, 512)               262656    \n",
      "                                                                 \n",
      " dense_end (Dense)           (None, 12)                6156      \n",
      "                                                                 \n",
      "=================================================================\n",
      "Total params: 1,146,380\n",
      "Trainable params: 1,146,380\n",
      "Non-trainable params: 0\n",
      "_________________________________________________________________\n",
      "12 256\n",
      "Model: \"model_19\"\n",
      "_________________________________________________________________\n",
      " Layer (type)                Output Shape              Param #   \n",
      "=================================================================\n",
      " inputs (InputLayer)         [(None, 5, 40)]           0         \n",
      "                                                                 \n",
      " flatten_19 (Flatten)        (None, 200)               0         \n",
      "                                                                 \n",
      " relu_1 (Dense)              (None, 512)               102912    \n",
      "                                                                 \n",
      " relu_2 (Dense)              (None, 512)               262656    \n",
      "                                                                 \n",
      " relu_3 (Dense)              (None, 512)               262656    \n",
      "                                                                 \n",
      " dense_end (Dense)           (None, 12)                6156      \n",
      "                                                                 \n",
      "=================================================================\n",
      "Total params: 634,380\n",
      "Trainable params: 634,380\n",
      "Non-trainable params: 0\n",
      "_________________________________________________________________\n",
      "13 256\n",
      "Model: \"model_20\"\n",
      "_________________________________________________________________\n",
      " Layer (type)                Output Shape              Param #   \n",
      "=================================================================\n",
      " inputs (InputLayer)         [(None, 10, 40)]          0         \n",
      "                                                                 \n",
      " flatten_20 (Flatten)        (None, 400)               0         \n",
      "                                                                 \n",
      " relu_1 (Dense)              (None, 512)               205312    \n",
      "                                                                 \n"
     ]
    },
    {
     "name": "stdout",
     "output_type": "stream",
     "text": [
      " relu_2 (Dense)              (None, 512)               262656    \n",
      "                                                                 \n",
      " relu_3 (Dense)              (None, 512)               262656    \n",
      "                                                                 \n",
      " dense_end (Dense)           (None, 12)                6156      \n",
      "                                                                 \n",
      "=================================================================\n",
      "Total params: 736,780\n",
      "Trainable params: 736,780\n",
      "Non-trainable params: 0\n",
      "_________________________________________________________________\n",
      "14 256\n",
      "Model: \"model_21\"\n",
      "_________________________________________________________________\n",
      " Layer (type)                Output Shape              Param #   \n",
      "=================================================================\n",
      " inputs (InputLayer)         [(None, 15, 40)]          0         \n",
      "                                                                 \n",
      " flatten_21 (Flatten)        (None, 600)               0         \n",
      "                                                                 \n",
      " relu_1 (Dense)              (None, 512)               307712    \n",
      "                                                                 \n",
      " relu_2 (Dense)              (None, 512)               262656    \n",
      "                                                                 \n",
      " relu_3 (Dense)              (None, 512)               262656    \n",
      "                                                                 \n",
      " dense_end (Dense)           (None, 12)                6156      \n",
      "                                                                 \n",
      "=================================================================\n",
      "Total params: 839,180\n",
      "Trainable params: 839,180\n",
      "Non-trainable params: 0\n",
      "_________________________________________________________________\n",
      "15 256\n",
      "Model: \"model_22\"\n",
      "_________________________________________________________________\n",
      " Layer (type)                Output Shape              Param #   \n",
      "=================================================================\n",
      " inputs (InputLayer)         [(None, 20, 40)]          0         \n",
      "                                                                 \n",
      " flatten_22 (Flatten)        (None, 800)               0         \n",
      "                                                                 \n",
      " relu_1 (Dense)              (None, 512)               410112    \n",
      "                                                                 \n",
      " relu_2 (Dense)              (None, 512)               262656    \n",
      "                                                                 \n",
      " relu_3 (Dense)              (None, 512)               262656    \n",
      "                                                                 \n",
      " dense_end (Dense)           (None, 12)                6156      \n",
      "                                                                 \n",
      "=================================================================\n",
      "Total params: 941,580\n",
      "Trainable params: 941,580\n",
      "Non-trainable params: 0\n",
      "_________________________________________________________________\n",
      "16 256\n",
      "Model: \"model_23\"\n",
      "_________________________________________________________________\n",
      " Layer (type)                Output Shape              Param #   \n",
      "=================================================================\n",
      " inputs (InputLayer)         [(None, 25, 40)]          0         \n",
      "                                                                 \n",
      " flatten_23 (Flatten)        (None, 1000)              0         \n",
      "                                                                 \n",
      " relu_1 (Dense)              (None, 512)               512512    \n",
      "                                                                 \n",
      " relu_2 (Dense)              (None, 512)               262656    \n",
      "                                                                 \n",
      " relu_3 (Dense)              (None, 512)               262656    \n",
      "                                                                 \n",
      " dense_end (Dense)           (None, 12)                6156      \n",
      "                                                                 \n",
      "=================================================================\n",
      "Total params: 1,043,980\n",
      "Trainable params: 1,043,980\n",
      "Non-trainable params: 0\n",
      "_________________________________________________________________\n",
      "17 256\n",
      "Model: \"model_24\"\n",
      "_________________________________________________________________\n",
      " Layer (type)                Output Shape              Param #   \n",
      "=================================================================\n",
      " inputs (InputLayer)         [(None, 30, 40)]          0         \n",
      "                                                                 \n",
      " flatten_24 (Flatten)        (None, 1200)              0         \n",
      "                                                                 \n",
      " relu_1 (Dense)              (None, 512)               614912    \n",
      "                                                                 \n",
      " relu_2 (Dense)              (None, 512)               262656    \n",
      "                                                                 \n",
      " relu_3 (Dense)              (None, 512)               262656    \n",
      "                                                                 \n",
      " dense_end (Dense)           (None, 12)                6156      \n",
      "                                                                 \n",
      "=================================================================\n",
      "Total params: 1,146,380\n",
      "Trainable params: 1,146,380\n",
      "Non-trainable params: 0\n",
      "_________________________________________________________________\n",
      "18 512\n",
      "Model: \"model_25\"\n",
      "_________________________________________________________________\n",
      " Layer (type)                Output Shape              Param #   \n",
      "=================================================================\n",
      " inputs (InputLayer)         [(None, 5, 40)]           0         \n",
      "                                                                 \n",
      " flatten_25 (Flatten)        (None, 200)               0         \n",
      "                                                                 \n",
      " relu_1 (Dense)              (None, 512)               102912    \n",
      "                                                                 \n",
      " relu_2 (Dense)              (None, 512)               262656    \n",
      "                                                                 \n",
      " relu_3 (Dense)              (None, 512)               262656    \n",
      "                                                                 \n",
      " dense_end (Dense)           (None, 12)                6156      \n",
      "                                                                 \n",
      "=================================================================\n",
      "Total params: 634,380\n",
      "Trainable params: 634,380\n",
      "Non-trainable params: 0\n",
      "_________________________________________________________________\n",
      "19 512\n",
      "Model: \"model_26\"\n",
      "_________________________________________________________________\n",
      " Layer (type)                Output Shape              Param #   \n",
      "=================================================================\n",
      " inputs (InputLayer)         [(None, 10, 40)]          0         \n",
      "                                                                 \n",
      " flatten_26 (Flatten)        (None, 400)               0         \n",
      "                                                                 \n",
      " relu_1 (Dense)              (None, 512)               205312    \n",
      "                                                                 \n",
      " relu_2 (Dense)              (None, 512)               262656    \n",
      "                                                                 \n",
      " relu_3 (Dense)              (None, 512)               262656    \n",
      "                                                                 \n",
      " dense_end (Dense)           (None, 12)                6156      \n",
      "                                                                 \n",
      "=================================================================\n",
      "Total params: 736,780\n",
      "Trainable params: 736,780\n",
      "Non-trainable params: 0\n",
      "_________________________________________________________________\n",
      "20 512\n",
      "Model: \"model_27\"\n",
      "_________________________________________________________________\n",
      " Layer (type)                Output Shape              Param #   \n",
      "=================================================================\n",
      " inputs (InputLayer)         [(None, 15, 40)]          0         \n"
     ]
    },
    {
     "name": "stdout",
     "output_type": "stream",
     "text": [
      "                                                                 \n",
      " flatten_27 (Flatten)        (None, 600)               0         \n",
      "                                                                 \n",
      " relu_1 (Dense)              (None, 512)               307712    \n",
      "                                                                 \n",
      " relu_2 (Dense)              (None, 512)               262656    \n",
      "                                                                 \n",
      " relu_3 (Dense)              (None, 512)               262656    \n",
      "                                                                 \n",
      " dense_end (Dense)           (None, 12)                6156      \n",
      "                                                                 \n",
      "=================================================================\n",
      "Total params: 839,180\n",
      "Trainable params: 839,180\n",
      "Non-trainable params: 0\n",
      "_________________________________________________________________\n",
      "21 512\n",
      "Model: \"model_28\"\n",
      "_________________________________________________________________\n",
      " Layer (type)                Output Shape              Param #   \n",
      "=================================================================\n",
      " inputs (InputLayer)         [(None, 20, 40)]          0         \n",
      "                                                                 \n",
      " flatten_28 (Flatten)        (None, 800)               0         \n",
      "                                                                 \n",
      " relu_1 (Dense)              (None, 512)               410112    \n",
      "                                                                 \n",
      " relu_2 (Dense)              (None, 512)               262656    \n",
      "                                                                 \n",
      " relu_3 (Dense)              (None, 512)               262656    \n",
      "                                                                 \n",
      " dense_end (Dense)           (None, 12)                6156      \n",
      "                                                                 \n",
      "=================================================================\n",
      "Total params: 941,580\n",
      "Trainable params: 941,580\n",
      "Non-trainable params: 0\n",
      "_________________________________________________________________\n",
      "22 512\n",
      "Model: \"model_29\"\n",
      "_________________________________________________________________\n",
      " Layer (type)                Output Shape              Param #   \n",
      "=================================================================\n",
      " inputs (InputLayer)         [(None, 25, 40)]          0         \n",
      "                                                                 \n",
      " flatten_29 (Flatten)        (None, 1000)              0         \n",
      "                                                                 \n",
      " relu_1 (Dense)              (None, 512)               512512    \n",
      "                                                                 \n",
      " relu_2 (Dense)              (None, 512)               262656    \n",
      "                                                                 \n",
      " relu_3 (Dense)              (None, 512)               262656    \n",
      "                                                                 \n",
      " dense_end (Dense)           (None, 12)                6156      \n",
      "                                                                 \n",
      "=================================================================\n",
      "Total params: 1,043,980\n",
      "Trainable params: 1,043,980\n",
      "Non-trainable params: 0\n",
      "_________________________________________________________________\n",
      "23 512\n",
      "Model: \"model_30\"\n",
      "_________________________________________________________________\n",
      " Layer (type)                Output Shape              Param #   \n",
      "=================================================================\n",
      " inputs (InputLayer)         [(None, 30, 40)]          0         \n",
      "                                                                 \n",
      " flatten_30 (Flatten)        (None, 1200)              0         \n",
      "                                                                 \n",
      " relu_1 (Dense)              (None, 512)               614912    \n",
      "                                                                 \n",
      " relu_2 (Dense)              (None, 512)               262656    \n",
      "                                                                 \n",
      " relu_3 (Dense)              (None, 512)               262656    \n",
      "                                                                 \n",
      " dense_end (Dense)           (None, 12)                6156      \n",
      "                                                                 \n",
      "=================================================================\n",
      "Total params: 1,146,380\n",
      "Trainable params: 1,146,380\n",
      "Non-trainable params: 0\n",
      "_________________________________________________________________\n",
      "24 1024\n",
      "Model: \"model_31\"\n",
      "_________________________________________________________________\n",
      " Layer (type)                Output Shape              Param #   \n",
      "=================================================================\n",
      " inputs (InputLayer)         [(None, 5, 40)]           0         \n",
      "                                                                 \n",
      " flatten_31 (Flatten)        (None, 200)               0         \n",
      "                                                                 \n",
      " relu_1 (Dense)              (None, 512)               102912    \n",
      "                                                                 \n",
      " relu_2 (Dense)              (None, 512)               262656    \n",
      "                                                                 \n",
      " relu_3 (Dense)              (None, 512)               262656    \n",
      "                                                                 \n",
      " dense_end (Dense)           (None, 12)                6156      \n",
      "                                                                 \n",
      "=================================================================\n",
      "Total params: 634,380\n",
      "Trainable params: 634,380\n",
      "Non-trainable params: 0\n",
      "_________________________________________________________________\n",
      "25 1024\n",
      "Model: \"model_32\"\n",
      "_________________________________________________________________\n",
      " Layer (type)                Output Shape              Param #   \n",
      "=================================================================\n",
      " inputs (InputLayer)         [(None, 10, 40)]          0         \n",
      "                                                                 \n",
      " flatten_32 (Flatten)        (None, 400)               0         \n",
      "                                                                 \n",
      " relu_1 (Dense)              (None, 512)               205312    \n",
      "                                                                 \n",
      " relu_2 (Dense)              (None, 512)               262656    \n",
      "                                                                 \n",
      " relu_3 (Dense)              (None, 512)               262656    \n",
      "                                                                 \n",
      " dense_end (Dense)           (None, 12)                6156      \n",
      "                                                                 \n",
      "=================================================================\n",
      "Total params: 736,780\n",
      "Trainable params: 736,780\n",
      "Non-trainable params: 0\n",
      "_________________________________________________________________\n",
      "26 1024\n",
      "Model: \"model_33\"\n",
      "_________________________________________________________________\n",
      " Layer (type)                Output Shape              Param #   \n",
      "=================================================================\n",
      " inputs (InputLayer)         [(None, 15, 40)]          0         \n",
      "                                                                 \n",
      " flatten_33 (Flatten)        (None, 600)               0         \n",
      "                                                                 \n",
      " relu_1 (Dense)              (None, 512)               307712    \n",
      "                                                                 \n",
      " relu_2 (Dense)              (None, 512)               262656    \n",
      "                                                                 \n",
      " relu_3 (Dense)              (None, 512)               262656    \n",
      "                                                                 \n",
      " dense_end (Dense)           (None, 12)                6156      \n",
      "                                                                 \n",
      "=================================================================\n",
      "Total params: 839,180\n",
      "Trainable params: 839,180\n",
      "Non-trainable params: 0\n",
      "_________________________________________________________________\n"
     ]
    },
    {
     "name": "stdout",
     "output_type": "stream",
     "text": [
      "27 1024\n",
      "Model: \"model_34\"\n",
      "_________________________________________________________________\n",
      " Layer (type)                Output Shape              Param #   \n",
      "=================================================================\n",
      " inputs (InputLayer)         [(None, 20, 40)]          0         \n",
      "                                                                 \n",
      " flatten_34 (Flatten)        (None, 800)               0         \n",
      "                                                                 \n",
      " relu_1 (Dense)              (None, 512)               410112    \n",
      "                                                                 \n",
      " relu_2 (Dense)              (None, 512)               262656    \n",
      "                                                                 \n",
      " relu_3 (Dense)              (None, 512)               262656    \n",
      "                                                                 \n",
      " dense_end (Dense)           (None, 12)                6156      \n",
      "                                                                 \n",
      "=================================================================\n",
      "Total params: 941,580\n",
      "Trainable params: 941,580\n",
      "Non-trainable params: 0\n",
      "_________________________________________________________________\n",
      "28 1024\n",
      "Model: \"model_35\"\n",
      "_________________________________________________________________\n",
      " Layer (type)                Output Shape              Param #   \n",
      "=================================================================\n",
      " inputs (InputLayer)         [(None, 25, 40)]          0         \n",
      "                                                                 \n",
      " flatten_35 (Flatten)        (None, 1000)              0         \n",
      "                                                                 \n",
      " relu_1 (Dense)              (None, 512)               512512    \n",
      "                                                                 \n",
      " relu_2 (Dense)              (None, 512)               262656    \n",
      "                                                                 \n",
      " relu_3 (Dense)              (None, 512)               262656    \n",
      "                                                                 \n",
      " dense_end (Dense)           (None, 12)                6156      \n",
      "                                                                 \n",
      "=================================================================\n",
      "Total params: 1,043,980\n",
      "Trainable params: 1,043,980\n",
      "Non-trainable params: 0\n",
      "_________________________________________________________________\n",
      "29 1024\n",
      "Model: \"model_36\"\n",
      "_________________________________________________________________\n",
      " Layer (type)                Output Shape              Param #   \n",
      "=================================================================\n",
      " inputs (InputLayer)         [(None, 30, 40)]          0         \n",
      "                                                                 \n",
      " flatten_36 (Flatten)        (None, 1200)              0         \n",
      "                                                                 \n",
      " relu_1 (Dense)              (None, 512)               614912    \n",
      "                                                                 \n",
      " relu_2 (Dense)              (None, 512)               262656    \n",
      "                                                                 \n",
      " relu_3 (Dense)              (None, 512)               262656    \n",
      "                                                                 \n",
      " dense_end (Dense)           (None, 12)                6156      \n",
      "                                                                 \n",
      "=================================================================\n",
      "Total params: 1,146,380\n",
      "Trainable params: 1,146,380\n",
      "Non-trainable params: 0\n",
      "_________________________________________________________________\n",
      "30 2048\n",
      "Model: \"model_37\"\n",
      "_________________________________________________________________\n",
      " Layer (type)                Output Shape              Param #   \n",
      "=================================================================\n",
      " inputs (InputLayer)         [(None, 5, 40)]           0         \n",
      "                                                                 \n",
      " flatten_37 (Flatten)        (None, 200)               0         \n",
      "                                                                 \n",
      " relu_1 (Dense)              (None, 512)               102912    \n",
      "                                                                 \n",
      " relu_2 (Dense)              (None, 512)               262656    \n",
      "                                                                 \n",
      " relu_3 (Dense)              (None, 512)               262656    \n",
      "                                                                 \n",
      " dense_end (Dense)           (None, 12)                6156      \n",
      "                                                                 \n",
      "=================================================================\n",
      "Total params: 634,380\n",
      "Trainable params: 634,380\n",
      "Non-trainable params: 0\n",
      "_________________________________________________________________\n",
      "31 2048\n",
      "Model: \"model_38\"\n",
      "_________________________________________________________________\n",
      " Layer (type)                Output Shape              Param #   \n",
      "=================================================================\n",
      " inputs (InputLayer)         [(None, 10, 40)]          0         \n",
      "                                                                 \n",
      " flatten_38 (Flatten)        (None, 400)               0         \n",
      "                                                                 \n",
      " relu_1 (Dense)              (None, 512)               205312    \n",
      "                                                                 \n",
      " relu_2 (Dense)              (None, 512)               262656    \n",
      "                                                                 \n",
      " relu_3 (Dense)              (None, 512)               262656    \n",
      "                                                                 \n",
      " dense_end (Dense)           (None, 12)                6156      \n",
      "                                                                 \n",
      "=================================================================\n",
      "Total params: 736,780\n",
      "Trainable params: 736,780\n",
      "Non-trainable params: 0\n",
      "_________________________________________________________________\n",
      "32 2048\n",
      "Model: \"model_39\"\n",
      "_________________________________________________________________\n",
      " Layer (type)                Output Shape              Param #   \n",
      "=================================================================\n",
      " inputs (InputLayer)         [(None, 15, 40)]          0         \n",
      "                                                                 \n",
      " flatten_39 (Flatten)        (None, 600)               0         \n",
      "                                                                 \n",
      " relu_1 (Dense)              (None, 512)               307712    \n",
      "                                                                 \n",
      " relu_2 (Dense)              (None, 512)               262656    \n",
      "                                                                 \n",
      " relu_3 (Dense)              (None, 512)               262656    \n",
      "                                                                 \n",
      " dense_end (Dense)           (None, 12)                6156      \n",
      "                                                                 \n",
      "=================================================================\n",
      "Total params: 839,180\n",
      "Trainable params: 839,180\n",
      "Non-trainable params: 0\n",
      "_________________________________________________________________\n",
      "33 2048\n",
      "Model: \"model_40\"\n",
      "_________________________________________________________________\n",
      " Layer (type)                Output Shape              Param #   \n",
      "=================================================================\n",
      " inputs (InputLayer)         [(None, 20, 40)]          0         \n",
      "                                                                 \n",
      " flatten_40 (Flatten)        (None, 800)               0         \n",
      "                                                                 \n",
      " relu_1 (Dense)              (None, 512)               410112    \n",
      "                                                                 \n",
      " relu_2 (Dense)              (None, 512)               262656    \n",
      "                                                                 \n",
      " relu_3 (Dense)              (None, 512)               262656    \n",
      "                                                                 \n"
     ]
    },
    {
     "name": "stdout",
     "output_type": "stream",
     "text": [
      " dense_end (Dense)           (None, 12)                6156      \n",
      "                                                                 \n",
      "=================================================================\n",
      "Total params: 941,580\n",
      "Trainable params: 941,580\n",
      "Non-trainable params: 0\n",
      "_________________________________________________________________\n",
      "34 2048\n",
      "Model: \"model_41\"\n",
      "_________________________________________________________________\n",
      " Layer (type)                Output Shape              Param #   \n",
      "=================================================================\n",
      " inputs (InputLayer)         [(None, 25, 40)]          0         \n",
      "                                                                 \n",
      " flatten_41 (Flatten)        (None, 1000)              0         \n",
      "                                                                 \n",
      " relu_1 (Dense)              (None, 512)               512512    \n",
      "                                                                 \n",
      " relu_2 (Dense)              (None, 512)               262656    \n",
      "                                                                 \n",
      " relu_3 (Dense)              (None, 512)               262656    \n",
      "                                                                 \n",
      " dense_end (Dense)           (None, 12)                6156      \n",
      "                                                                 \n",
      "=================================================================\n",
      "Total params: 1,043,980\n",
      "Trainable params: 1,043,980\n",
      "Non-trainable params: 0\n",
      "_________________________________________________________________\n",
      "35 2048\n",
      "Model: \"model_42\"\n",
      "_________________________________________________________________\n",
      " Layer (type)                Output Shape              Param #   \n",
      "=================================================================\n",
      " inputs (InputLayer)         [(None, 30, 40)]          0         \n",
      "                                                                 \n",
      " flatten_42 (Flatten)        (None, 1200)              0         \n",
      "                                                                 \n",
      " relu_1 (Dense)              (None, 512)               614912    \n",
      "                                                                 \n",
      " relu_2 (Dense)              (None, 512)               262656    \n",
      "                                                                 \n",
      " relu_3 (Dense)              (None, 512)               262656    \n",
      "                                                                 \n",
      " dense_end (Dense)           (None, 12)                6156      \n",
      "                                                                 \n",
      "=================================================================\n",
      "Total params: 1,146,380\n",
      "Trainable params: 1,146,380\n",
      "Non-trainable params: 0\n",
      "_________________________________________________________________\n"
     ]
    }
   ],
   "source": [
    "for k in range(len(models)):\n",
    "    print(k, params_s_f[k][0])\n",
    "    models[k].summary()"
   ]
  },
  {
   "cell_type": "code",
   "execution_count": 86,
   "id": "83257fe2",
   "metadata": {},
   "outputs": [
    {
     "data": {
      "text/plain": [
       "array([71.82695745, 72.86378262, 73.54308187, 74.7944226 , 77.97640329,\n",
       "       76.97533071, 71.71969968, 74.75867   , 78.11941366, 80.33607437,\n",
       "       81.26564176, 82.8745084 , 74.72291741, 80.51483733, 85.01966393,\n",
       "       87.45084019, 89.02395424, 91.31212013, 82.15945656, 88.2731498 ,\n",
       "       91.20486235, 92.70647122, 93.63603861, 94.06506972, 87.8441187 ,\n",
       "       93.2427601 , 94.06506972, 94.56560601, 93.74329639, 93.35001788,\n",
       "       92.813729  , 92.88523418, 92.49195567, 92.813729  , 91.77690383,\n",
       "       90.096532  ])"
      ]
     },
     "execution_count": 86,
     "metadata": {},
     "output_type": "execute_result"
    }
   ],
   "source": [
    "np.array(tests_acc)"
   ]
  },
  {
   "cell_type": "code",
   "execution_count": 87,
   "id": "d969fa5f",
   "metadata": {},
   "outputs": [
    {
     "data": {
      "text/plain": [
       "Text(51.0, 0.5, 'Шаг')"
      ]
     },
     "execution_count": 87,
     "metadata": {},
     "output_type": "execute_result"
    },
    {
     "data": {
      "image/png": "[encoded data removed]",
      "text/plain": [
       "<Figure size 576x720 with 2 Axes>"
      ]
     },
     "metadata": {
      "needs_background": "light"
     },
     "output_type": "display_data"
    }
   ],
   "source": [
    "test_acc_mtx = np.zeros((len(step),len(num_frame)))\n",
    "p = 0\n",
    "for s in range(len(step)):\n",
    "    for f in range(len(num_frame)):\n",
    "        test_acc_mtx[s][f] = tests_acc[p]\n",
    "        p+=1\n",
    "plt.figure(figsize=(8, 10))\n",
    "sns.heatmap(test_acc_mtx, xticklabels=num_frame, yticklabels=step, \n",
    "            annot=True, fmt='g')\n",
    "plt.title('Точность при изменении шага и количества спектрограмм')\n",
    "plt.xlabel('Количество спектрограмм')\n",
    "plt.ylabel('Шаг')"
   ]
  },
  {
   "cell_type": "markdown",
   "id": "793e997a",
   "metadata": {},
   "source": [
    "Лучшая точность $(94.5656 \\%)$ соответствует $20$ спектрограммам и шагу $1024$."
   ]
  },
  {
   "cell_type": "code",
   "execution_count": 88,
   "id": "30f7bc2f",
   "metadata": {},
   "outputs": [
    {
     "name": "stdout",
     "output_type": "stream",
     "text": [
      "0 (64, 5) 71.82695745441544\n",
      "1 (64, 10) 72.86378262424026\n",
      "2 (64, 15) 73.54308187343582\n",
      "3 (64, 20) 74.79442259563818\n",
      "4 (64, 25) 77.97640328923848\n",
      "5 (64, 30) 76.97533071147659\n",
      "6 (128, 5) 71.71969967822666\n",
      "7 (128, 10) 74.75867000357526\n",
      "8 (128, 15) 78.11941365749017\n",
      "9 (128, 20) 80.33607436539148\n",
      "10 (128, 25) 81.26564175902753\n",
      "11 (128, 30) 82.87450840185913\n",
      "12 (256, 5) 74.72291741151234\n",
      "13 (256, 10) 80.51483732570611\n",
      "14 (256, 15) 85.0196639256346\n",
      "15 (256, 20) 87.45084018591348\n",
      "16 (256, 25) 89.02395423668216\n",
      "17 (256, 30) 91.31212012870932\n",
      "18 (512, 5) 82.15945656060065\n",
      "19 (512, 10) 88.27314980336074\n",
      "20 (512, 15) 91.20486235252055\n",
      "21 (512, 20) 92.70647121916339\n",
      "22 (512, 25) 93.63603861279944\n",
      "23 (512, 30) 94.06506971755452\n",
      "24 (1024, 5) 87.84411869860564\n",
      "25 (1024, 10) 93.24276010010726\n",
      "26 (1024, 15) 94.06506971755452\n",
      "27 (1024, 20) 94.56560600643546\n",
      "28 (1024, 25) 93.74329638898821\n",
      "29 (1024, 30) 93.35001787629604\n",
      "30 (2048, 5) 92.81372899535216\n",
      "31 (2048, 10) 92.88523417947802\n",
      "32 (2048, 15) 92.49195566678584\n",
      "33 (2048, 20) 92.81372899535216\n",
      "34 (2048, 25) 91.77690382552736\n",
      "35 (2048, 30) 90.0965319985699\n"
     ]
    }
   ],
   "source": [
    "for k in range(len(params_s_f)):\n",
    "    print(k, params_s_f[k],tests_acc[k])"
   ]
  },
  {
   "cell_type": "code",
   "execution_count": 89,
   "id": "9ef543b5",
   "metadata": {},
   "outputs": [
    {
     "data": {
      "text/plain": [
       "27"
      ]
     },
     "execution_count": 89,
     "metadata": {},
     "output_type": "execute_result"
    }
   ],
   "source": [
    "k_max = np.argmax(np.array(tests_acc))\n",
    "k_max"
   ]
  },
  {
   "cell_type": "code",
   "execution_count": 90,
   "id": "702ac724",
   "metadata": {},
   "outputs": [
    {
     "data": {
      "text/plain": [
       "(1024, 20)"
      ]
     },
     "execution_count": 90,
     "metadata": {},
     "output_type": "execute_result"
    }
   ],
   "source": [
    "params_s_f[k_max][0],params_s_f[k_max][1]"
   ]
  },
  {
   "cell_type": "code",
   "execution_count": 91,
   "id": "7acebb1b",
   "metadata": {},
   "outputs": [],
   "source": [
    "train_ds = []\n",
    "val_ds = []\n",
    "test_ds = []\n",
    "\n",
    "spectrogram_ds = waveform_ds.map(lambda x,y: get_spectrogram_and_label_id(x,y,params_s_f[k_max][0]), num_parallel_calls=AUTOTUNE)\n",
    "spectrogram_ds = spectrogram_ds.map(lambda x, y: get_spectrogram_and_label_id_lim(x,y,params_s_f[k_max][1]))\n",
    "train_ds = spectrogram_ds\n",
    "val_ds = preprocess_dataset(val_files,params_s_f[k_max][0],params_s_f[k_max][1])\n",
    "test_ds = preprocess_dataset(test_files,params_s_f[k_max][0],params_s_f[k_max][1])\n",
    "\n",
    "batch_size = 64\n",
    "train_ds = train_ds.batch(batch_size)\n",
    "val_ds = val_ds.batch(batch_size)\n",
    "train_ds = train_ds.cache().prefetch(AUTOTUNE)\n",
    "val_ds = val_ds.cache().prefetch(AUTOTUNE)"
   ]
  },
  {
   "cell_type": "code",
   "execution_count": 92,
   "id": "c082608b",
   "metadata": {},
   "outputs": [],
   "source": [
    "test_audio = []\n",
    "test_labels = []\n",
    "for audio, label in test_ds:\n",
    "    test_audio.append(audio.numpy())\n",
    "    test_labels.append(label.numpy())\n",
    "\n",
    "test_audio = np.array(test_audio)\n",
    "test_labels = np.array(test_labels)"
   ]
  },
  {
   "cell_type": "code",
   "execution_count": 93,
   "id": "40d8a359",
   "metadata": {},
   "outputs": [
    {
     "data": {
      "text/plain": [
       "94.56560600643546"
      ]
     },
     "execution_count": 93,
     "metadata": {},
     "output_type": "execute_result"
    }
   ],
   "source": [
    "history_ = histories[k_max]\n",
    "model_ = models[k_max]\n",
    "metrics = history_.history\n",
    "\n",
    "y_pred = np.argmax(model_.predict(test_audio), axis=1)\n",
    "y_true = test_labels\n",
    "test_acc = sum(y_pred == y_true) / len(y_true) * 100\n",
    "test_acc"
   ]
  },
  {
   "cell_type": "code",
   "execution_count": 94,
   "id": "f4bc5757",
   "metadata": {},
   "outputs": [
    {
     "data": {
      "text/plain": [
       "[Text(0.5, 0, 'Номер эпохи'),\n",
       " Text(0, 0.5, 'Точность'),\n",
       " Text(0.5, 1.0, 'Точность тренировочная/проверочная')]"
      ]
     },
     "execution_count": 94,
     "metadata": {},
     "output_type": "execute_result"
    },
    {
     "data": {
      "image/png": "[encoded data removed]",
      "text/plain": [
       "<Figure size 432x432 with 2 Axes>"
      ]
     },
     "metadata": {
      "needs_background": "light"
     },
     "output_type": "display_data"
    }
   ],
   "source": [
    "fig, axes = plt.subplots(2, 1, figsize=(6, 6), constrained_layout=True)\n",
    "axes[0].plot(history_.epoch, metrics['loss'], metrics['val_loss'])\n",
    "axes[0].legend(['loss', 'val_loss'])\n",
    "axes[0].set(xlabel='Номер эпохи', ylabel='Функция штрафа', title=f'Штраф тренировочный/проверочный')\n",
    "\n",
    "axes[1].plot(history_.epoch, metrics['accuracy'], metrics['val_accuracy'])\n",
    "axes[1].legend(['accuracy', 'val_accuracy'])\n",
    "axes[1].set(xlabel='Номер эпохи', ylabel='Точность', title=f'Точность тренировочная/проверочная')"
   ]
  },
  {
   "cell_type": "markdown",
   "id": "9ab868d2",
   "metadata": {},
   "source": [
    "График val_loss постепенно идет вверх, поэтому переобучения есть."
   ]
  },
  {
   "cell_type": "code",
   "execution_count": 95,
   "id": "42f8d53f",
   "metadata": {},
   "outputs": [],
   "source": [
    "y_pred = np.argmax(model_.predict(test_audio), axis=1)\n",
    "y_true = test_labels"
   ]
  },
  {
   "cell_type": "code",
   "execution_count": 96,
   "id": "42629b29",
   "metadata": {},
   "outputs": [
    {
     "data": {
      "text/plain": [
       "(2797,)"
      ]
     },
     "execution_count": 96,
     "metadata": {},
     "output_type": "execute_result"
    }
   ],
   "source": [
    "y_true.shape"
   ]
  },
  {
   "cell_type": "code",
   "execution_count": 97,
   "id": "6f99da5d",
   "metadata": {},
   "outputs": [
    {
     "data": {
      "image/png": "[encoded data removed]",
      "text/plain": [
       "<Figure size 720x864 with 2 Axes>"
      ]
     },
     "metadata": {
      "needs_background": "light"
     },
     "output_type": "display_data"
    }
   ],
   "source": [
    "confusion_mtx = tf.math.confusion_matrix(y_true, y_pred) \n",
    "plt.figure(figsize=(10, 12))\n",
    "sns.heatmap(confusion_mtx, xticklabels=notes, yticklabels=notes, \n",
    "            annot=True, fmt='g')\n",
    "plt.xlabel('Предсказание')\n",
    "plt.ylabel('Метка')\n",
    "plt.title('Матрица ошибок')\n",
    "plt.show()"
   ]
  },
  {
   "cell_type": "code",
   "execution_count": 98,
   "id": "439e5224",
   "metadata": {},
   "outputs": [
    {
     "name": "stdout",
     "output_type": "stream",
     "text": [
      "Sample file: D:\\magistracy\\diplom\\records_cut\\E\\arpeg-CMaj-060BPM-leg_2.wav\n"
     ]
    }
   ],
   "source": [
    "sample_file = data_dir/'E/arpeg-CMaj-060BPM-leg_2.wav'\n",
    "print('Sample file:', sample_file)\n",
    "files_ds = tf.data.Dataset.from_tensor_slices([str(sample_file)])\n",
    "output_ds = files_ds.map(get_waveform_and_label, num_parallel_calls=AUTOTUNE)\n",
    "output_ds = output_ds.filter(without_zero_len) \n",
    "output_ds = output_ds.map(lambda x,y: get_spectrogram_and_label_id(x,y,params_s_f[k_max][0]), num_parallel_calls=AUTOTUNE)\n",
    "sample_ds = output_ds.map(lambda x,y: get_spectrogram_and_label_id_lim(x,y,params_s_f[k_max][1]))"
   ]
  },
  {
   "cell_type": "code",
   "execution_count": 99,
   "id": "5e605bf0",
   "metadata": {},
   "outputs": [
    {
     "data": {
      "image/png": "[encoded data removed]",
      "text/plain": [
       "<Figure size 432x288 with 1 Axes>"
      ]
     },
     "metadata": {
      "needs_background": "light"
     },
     "output_type": "display_data"
    }
   ],
   "source": [
    "for spectrogram, label in sample_ds.batch(1):\n",
    "    prediction = model_(spectrogram)\n",
    "    plt.bar(notes, prediction[0])\n",
    "    t = 'Предсказание для ноты \"'+ notes[label[0]]+'\"'\n",
    "    plt.title(t)\n",
    "    plt.show()\n"
   ]
  },
  {
   "cell_type": "code",
   "execution_count": 100,
   "id": "77407156",
   "metadata": {},
   "outputs": [],
   "source": [
    "# Сохраняем модель\n",
    "model_.save(r\"D:\\magistracy\\diplom\\model\\model_3.h5\")"
   ]
  },
  {
   "cell_type": "code",
   "execution_count": 101,
   "id": "f4a93c88",
   "metadata": {},
   "outputs": [],
   "source": [
    "def get_spectrogram(params):\n",
    "    waveform = params[0]\n",
    "    S = tf.convert_to_tensor(params[1])\n",
    "    M = tf.convert_to_tensor(params[2])\n",
    "    NFFT = 2048\n",
    "    waveform = tf.cast(waveform, tf.float32)\n",
    "    spectrogram = tf.signal.stft(waveform, frame_length=NFFT, frame_step=S,pad_end=True)\n",
    "    spectrogram = tf.abs(spectrogram)\n",
    "    pow_frames = ((1.0 / NFFT) * ((spectrogram) ** 2))\n",
    "    filter_banks = tf.tensordot(pow_frames, fbank, axes = [[1], [0]])\n",
    "    filter_banks = tf.where(filter_banks == 0, tf.keras.backend.epsilon(), filter_banks)  # Численная стабильность \n",
    "    # tf.keras.backend.epsilon() - машинный ноль)\n",
    "    spectrogram = tf.math.log(filter_banks)  # Логарифмические энергии набора фильтров\n",
    "    \n",
    "    spec_length = len(spectrogram)\n",
    "    if spec_length<M:\n",
    "        for k in range(M-spec_length):\n",
    "            spect_last = spectrogram[spec_length-1]\n",
    "            spect_last = tf.expand_dims(spect_last, 0)\n",
    "            spectrogram = tf.concat([spectrogram, spect_last], 0)\n",
    "    elif spec_length>M:\n",
    "        start = tf.random.uniform(shape=[], minval=0, maxval=spec_length-M, dtype=tf.int32)\n",
    "        spectrogram = spectrogram[start:start+M]\n",
    "    else:\n",
    "        spectrogram = spectrogram\n",
    "        \n",
    "    return spectrogram"
   ]
  },
  {
   "cell_type": "code",
   "execution_count": 102,
   "id": "9c44bfd1",
   "metadata": {},
   "outputs": [
    {
     "name": "stdout",
     "output_type": "stream",
     "text": [
      "Label: D#\n",
      "Waveform shape: (11506,)\n",
      "Spectrogram shape: (25, 40)\n",
      "Audio playback\n"
     ]
    },
    {
     "data": {
      "text/html": [
       "\n",
       "                <audio  controls=\"controls\" >\n",
       "                    <source src=\"data:audio/wav;base64,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\" type=\"audio/wav\" />\n",
       "                    Your browser does not support the audio element.\n",
       "                </audio>\n",
       "              "
      ],
      "text/plain": [
       "<IPython.lib.display.Audio object>"
      ]
     },
     "metadata": {},
     "output_type": "display_data"
    }
   ],
   "source": [
    "for waveform, label in waveform_ds.take(1):\n",
    "    label = label.numpy().decode('utf-8')\n",
    "    spectrogram = get_spectrogram((waveform,512,25))\n",
    "\n",
    "\n",
    "print('Label:', label)\n",
    "print('Waveform shape:', waveform.shape)\n",
    "print('Spectrogram shape:', spectrogram.shape)\n",
    "print('Audio playback')\n",
    "display.display(display.Audio(waveform, rate=44100))"
   ]
  },
  {
   "cell_type": "code",
   "execution_count": 103,
   "id": "6cf8b1e3",
   "metadata": {},
   "outputs": [],
   "source": [
    "def plot_spectrogram(spectrogram, ax):\n",
    "    # Преобразуем в частоты для логарифмической шкалы и транспонируем так, чтобы время\n",
    "    # было представлено на оси x (столбцы). Эпсилон добавляется, чтобы избежать нуля.\n",
    "    height = spectrogram.shape[1]\n",
    "    width = spectrogram.shape[0]\n",
    "    #X = np.linspace(0, np.size(spectrogram), num=width, dtype=int)\n",
    "    X = np.array(range(width))\n",
    "    Y = np.array(range(height))\n",
    "    ax.pcolormesh(X, Y, spectrogram.T)"
   ]
  },
  {
   "cell_type": "code",
   "execution_count": 104,
   "id": "fac8ff1e",
   "metadata": {},
   "outputs": [
    {
     "name": "stderr",
     "output_type": "stream",
     "text": [
      "C:\\Users\\belas\\AppData\\Local\\Temp/ipykernel_548/3168724974.py:9: MatplotlibDeprecationWarning: shading='flat' when X and Y have the same dimensions as C is deprecated since 3.3.  Either specify the corners of the quadrilaterals with X and Y, or pass shading='auto', 'nearest' or 'gouraud', or set rcParams['pcolor.shading'].  This will become an error two minor releases later.\n",
      "  ax.pcolormesh(X, Y, spectrogram.T)\n"
     ]
    },
    {
     "data": {
      "image/png": "[encoded data removed]",
      "text/plain": [
       "<Figure size 1296x1296 with 9 Axes>"
      ]
     },
     "metadata": {
      "needs_background": "light"
     },
     "output_type": "display_data"
    }
   ],
   "source": [
    "rows = 3\n",
    "cols = 3\n",
    "n = rows*cols\n",
    "fig, axes = plt.subplots(rows, cols, figsize=(18, 18))\n",
    "for i, (spectrogram, label_id) in enumerate(spectrogram_ds.take(n)):\n",
    "    r = i // cols\n",
    "    c = i % cols\n",
    "    \n",
    "    plot_spectrogram(np.squeeze(spectrogram.numpy()), axes[r][c])\n",
    "    axes[r][c].set_title(notes[label_id.numpy()])\n",
    "    axes[r][c].set_xlabel('Номер спектрограммы')\n",
    "    axes[r][c].set_ylabel('Номер фильтра')\n",
    "\n",
    "\n",
    "plt.show()"
   ]
  },
  {
   "cell_type": "code",
   "execution_count": null,
   "id": "83a123c7",
   "metadata": {},
   "outputs": [],
   "source": []
  },
  {
   "cell_type": "markdown",
   "id": "c91536b3",
   "metadata": {},
   "source": [
    "__________________________________"
   ]
  },
  {
   "cell_type": "code",
   "execution_count": 110,
   "id": "8f75bdf7",
   "metadata": {},
   "outputs": [
    {
     "name": "stdout",
     "output_type": "stream",
     "text": [
      "input_shape (20, 40)\n"
     ]
    }
   ],
   "source": [
    "EPOCHS = [100,10,50,75,300,500]\n",
    "models = [model_]\n",
    "histories = [history_]\n",
    "tests_acc = [test_acc]\n",
    "\n",
    "train_ds = []\n",
    "val_ds = []\n",
    "test_ds = []\n",
    "spectrogram_ds = waveform_ds.map(lambda x,y: get_spectrogram_and_label_id(x,y,params_s_f[k_max][0]), num_parallel_calls=AUTOTUNE)\n",
    "spectrogram_ds = spectrogram_ds.map(lambda x, y: get_spectrogram_and_label_id_lim(x,y,params_s_f[k_max][1]))\n",
    "train_ds = spectrogram_ds\n",
    "val_ds = preprocess_dataset(val_files,params_s_f[k_max][0],params_s_f[k_max][1])\n",
    "test_ds = preprocess_dataset(test_files,params_s_f[k_max][0],params_s_f[k_max][1])\n",
    "\n",
    "batch_size = 64\n",
    "train_ds = train_ds.batch(batch_size)\n",
    "val_ds = val_ds.batch(batch_size)\n",
    "train_ds = train_ds.cache().prefetch(AUTOTUNE)\n",
    "val_ds = val_ds.cache().prefetch(AUTOTUNE)\n",
    "\n",
    "test_audio = []\n",
    "test_labels = []\n",
    "\n",
    "for audio, label in test_ds:\n",
    "    test_audio.append(audio.numpy())\n",
    "    test_labels.append(label.numpy())\n",
    "\n",
    "test_audio = np.array(test_audio)\n",
    "test_labels = np.array(test_labels)\n",
    "\n",
    "for spectrogram, _ in spectrogram_ds.take(1):\n",
    "    input_shape = spectrogram.shape\n",
    "    print('input_shape',input_shape)\n",
    "\n"
   ]
  },
  {
   "cell_type": "code",
   "execution_count": 111,
   "id": "91c9f5e7",
   "metadata": {},
   "outputs": [
    {
     "name": "stdout",
     "output_type": "stream",
     "text": [
      "---------------------------------------------------------------------\n",
      "--- 1.0 минут 7.5402562618255615 секунд ---\n",
      "Эпохи:  10 , accuracy тестовой выборки:  92.45620307472292 %\n",
      "---------------------------------------------------------------------\n",
      "--- 3.0 минут 29.809393405914307 секунд ---\n",
      "Эпохи:  50 , accuracy тестовой выборки:  93.92205934930283 %\n",
      "---------------------------------------------------------------------\n",
      "--- 5.0 минут 12.501590013504028 секунд ---\n",
      "Эпохи:  75 , accuracy тестовой выборки:  94.35109045405792 %\n",
      "---------------------------------------------------------------------\n",
      "--- 20.0 минут 55.821805477142334 секунд ---\n",
      "Эпохи:  300 , accuracy тестовой выборки:  94.0293171254916 %\n",
      "---------------------------------------------------------------------\n",
      "--- 34.0 минут 1.2298903465270996 секунд ---\n",
      "Эпохи:  500 , accuracy тестовой выборки:  93.88630675723991 %\n"
     ]
    }
   ],
   "source": [
    "for k in range(1,len(EPOCHS)):\n",
    "    print('---------------------------------------------------------------------')\n",
    "\n",
    "    mymodel = create_model(input_shape)\n",
    "\n",
    "    start_time = time.time()\n",
    "    myhistory = mymodel.fit(train_ds, validation_data=val_ds, epochs=EPOCHS[k], verbose=0)\n",
    "    minutes, seconds = ((time.time() - start_time) - 3600 * ((time.time() - start_time) // 3600)) // 60, (time.time() - start_time) % 60\n",
    "    print(f\"--- {minutes} минут {seconds} секунд ---\")\n",
    "\n",
    "    metrics = myhistory.history\n",
    "    y_pred = np.argmax(mymodel.predict(test_audio), axis=1)\n",
    "    y_true = test_labels\n",
    "    test_acc = sum(y_pred == y_true) / len(y_true) * 100\n",
    "    tests_acc.append(test_acc)\n",
    "    print('Эпохи: ',EPOCHS[k], ', accuracy тестовой выборки: ', test_acc, '%')\n",
    "    models.append(mymodel)\n",
    "    histories.append(myhistory)"
   ]
  },
  {
   "cell_type": "code",
   "execution_count": 112,
   "id": "b838f590",
   "metadata": {},
   "outputs": [
    {
     "data": {
      "text/plain": [
       "0"
      ]
     },
     "execution_count": 112,
     "metadata": {},
     "output_type": "execute_result"
    }
   ],
   "source": [
    "k_max = np.argmax(np.array(tests_acc))\n",
    "k_max"
   ]
  },
  {
   "cell_type": "code",
   "execution_count": 113,
   "id": "0fd33728",
   "metadata": {},
   "outputs": [
    {
     "data": {
      "text/plain": [
       "94.56560600643546"
      ]
     },
     "execution_count": 113,
     "metadata": {},
     "output_type": "execute_result"
    }
   ],
   "source": [
    "history_ = histories[k_max]\n",
    "model_ = models[k_max]\n",
    "metrics = history_.history\n",
    "\n",
    "y_pred = np.argmax(model_.predict(test_audio), axis=1)\n",
    "y_true = test_labels\n",
    "test_acc = sum(y_pred == y_true) / len(y_true) * 100\n",
    "test_acc"
   ]
  },
  {
   "cell_type": "code",
   "execution_count": null,
   "id": "62069eef",
   "metadata": {},
   "outputs": [],
   "source": [
    "confusion_mtx = tf.math.confusion_matrix(y_true, y_pred) \n",
    "plt.figure(figsize=(10, 12))\n",
    "sns.heatmap(confusion_mtx, xticklabels=notes, yticklabels=notes, \n",
    "            annot=True, fmt='g')\n",
    "plt.xlabel('Предсказание')\n",
    "plt.ylabel('Метка')\n",
    "plt.title('Матрица ошибок')\n",
    "plt.show()"
   ]
  },
  {
   "cell_type": "code",
   "execution_count": null,
   "id": "ea771ec5",
   "metadata": {},
   "outputs": [],
   "source": [
    "sample_file = data_dir/'E/arpeg-CMaj-060BPM-leg_2.wav'\n",
    "print('Sample file:', sample_file)\n",
    "files_ds = tf.data.Dataset.from_tensor_slices([str(sample_file)])\n",
    "output_ds = files_ds.map(get_waveform_and_label, num_parallel_calls=AUTOTUNE)\n",
    "output_ds = output_ds.filter(without_zero_len) \n",
    "output_ds = output_ds.map(lambda x,y: get_spectrogram_and_label_id(x,y,512), num_parallel_calls=AUTOTUNE)\n",
    "sample_ds = output_ds.map(lambda x,y: get_spectrogram_and_label_id_lim(x,y,30))"
   ]
  },
  {
   "cell_type": "code",
   "execution_count": null,
   "id": "4eee2ed1",
   "metadata": {},
   "outputs": [],
   "source": [
    "for spectrogram, label in sample_ds.batch(1):\n",
    "    prediction = model_(spectrogram)\n",
    "    plt.bar(notes, prediction[0])\n",
    "    t = 'Предсказание для ноты \"'+ notes[label[0]]+'\"'\n",
    "    plt.title(t)\n",
    "    plt.show()"
   ]
  },
  {
   "cell_type": "code",
   "execution_count": null,
   "id": "76f2ee39",
   "metadata": {},
   "outputs": [],
   "source": [
    "fig, axes = plt.subplots(2, 1, figsize=(6, 6), constrained_layout=True)\n",
    "axes[0].plot(history_.epoch, metrics['loss'], metrics['val_loss'])\n",
    "axes[0].legend(['loss', 'val_loss'])\n",
    "axes[0].set(xlabel='Номер эпохи', ylabel='Функция штрафа', title=f'Штраф тренировочный/проверочный')\n",
    "\n",
    "axes[1].plot(history_.epoch, metrics['accuracy'], metrics['val_accuracy'])\n",
    "axes[1].legend(['accuracy', 'val_accuracy'])\n",
    "axes[1].set(xlabel='Номер эпохи', ylabel='Точность', title=f'Точность тренировочная/проверочная')"
   ]
  },
  {
   "cell_type": "code",
   "execution_count": 114,
   "id": "d3a885cb",
   "metadata": {},
   "outputs": [],
   "source": [
    "# Сохраняем модель\n",
    "model_.save(r\"D:\\magistracy\\diplom\\model\\model_3.h5\")"
   ]
  },
  {
   "cell_type": "code",
   "execution_count": 115,
   "id": "5a99a727",
   "metadata": {},
   "outputs": [
    {
     "name": "stdout",
     "output_type": "stream",
     "text": [
      "Model: \"model_34\"\n",
      "_________________________________________________________________\n",
      " Layer (type)                Output Shape              Param #   \n",
      "=================================================================\n",
      " inputs (InputLayer)         [(None, 20, 40)]          0         \n",
      "                                                                 \n",
      " flatten_34 (Flatten)        (None, 800)               0         \n",
      "                                                                 \n",
      " relu_1 (Dense)              (None, 512)               410112    \n",
      "                                                                 \n",
      " relu_2 (Dense)              (None, 512)               262656    \n",
      "                                                                 \n",
      " relu_3 (Dense)              (None, 512)               262656    \n",
      "                                                                 \n",
      " dense_end (Dense)           (None, 12)                6156      \n",
      "                                                                 \n",
      "=================================================================\n",
      "Total params: 941,580\n",
      "Trainable params: 941,580\n",
      "Non-trainable params: 0\n",
      "_________________________________________________________________\n"
     ]
    }
   ],
   "source": [
    "model_.summary()"
   ]
  },
  {
   "cell_type": "code",
   "execution_count": null,
   "id": "655a9707",
   "metadata": {},
   "outputs": [],
   "source": []
  }
 ],
 "metadata": {
  "kernelspec": {
   "display_name": "Python 3 (ipykernel)",
   "language": "python",
   "name": "python3"
  },
  "language_info": {
   "codemirror_mode": {
    "name": "ipython",
    "version": 3
   },
   "file_extension": ".py",
   "mimetype": "text/x-python",
   "name": "python",
   "nbconvert_exporter": "python",
   "pygments_lexer": "ipython3",
   "version": "3.9.7"
  }
 },
 "nbformat": 4,
 "nbformat_minor": 5
}
