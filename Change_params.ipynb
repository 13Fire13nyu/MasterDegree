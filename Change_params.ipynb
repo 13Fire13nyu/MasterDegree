{
 "cells": [
  {
   "cell_type": "code",
   "execution_count": 54,
   "id": "9cce9a50",
   "metadata": {},
   "outputs": [],
   "source": [
    "import os\n",
    "import pathlib\n",
    "\n",
    "import matplotlib.pyplot as plt\n",
    "import numpy as np\n",
    "import seaborn as sns\n",
    "import tensorflow as tf\n",
    "\n",
    "from tensorflow.keras.layers.experimental import preprocessing\n",
    "from tensorflow.keras import layers\n",
    "from tensorflow.keras import models\n",
    "from tensorflow import keras\n",
    "from IPython import display\n",
    "\n",
    "\n",
    "import fnmatch\n",
    "\n",
    "# Set seed for experiment reproducibility\n",
    "seed = 42\n",
    "tf.random.set_seed(seed)\n",
    "np.random.seed(seed)"
   ]
  },
  {
   "cell_type": "code",
   "execution_count": 55,
   "id": "ebfb032e",
   "metadata": {},
   "outputs": [],
   "source": [
    "data_dir = pathlib.Path(r\"D:\\magistracy\\diplom\\records_cut\")\n",
    "filenames = []\n",
    "for root, dirs, files in os.walk(data_dir):\n",
    "    for file in files:\n",
    "        if(file.endswith(\".wav\")):\n",
    "            filenames.append(os.path.join(root,file))"
   ]
  },
  {
   "cell_type": "code",
   "execution_count": 56,
   "id": "7ac7cea8",
   "metadata": {},
   "outputs": [
    {
     "name": "stdout",
     "output_type": "stream",
     "text": [
      "Notes: ['A' 'G#' 'G' 'F#' 'F' 'E' 'D#' 'D' 'C#' 'C' 'B' 'A#']\n"
     ]
    }
   ],
   "source": [
    "notes = np.array(['A','G#','G','F#','F','E','D#','D','C#','C','B','A#'])\n",
    "print('Notes:', notes)"
   ]
  },
  {
   "cell_type": "code",
   "execution_count": 57,
   "id": "0ac0169a",
   "metadata": {},
   "outputs": [
    {
     "name": "stdout",
     "output_type": "stream",
     "text": [
      "Number of total examples: 30828\n",
      "Number of examples per label: 2318\n",
      "Example file tensor: tf.Tensor(b'D:\\\\magistracy\\\\diplom\\\\records_cut\\\\D#\\\\en027a_55.wav', shape=(), dtype=string)\n"
     ]
    }
   ],
   "source": [
    "filenames = tf.random.shuffle(filenames)\n",
    "num_samples = len(filenames)\n",
    "print('Number of total examples:', num_samples)\n",
    "print('Number of examples per label:',\n",
    "      len(tf.io.gfile.listdir(str(data_dir/notes[0]))))\n",
    "print('Example file tensor:', filenames[0])"
   ]
  },
  {
   "cell_type": "code",
   "execution_count": 105,
   "id": "7e1359a2",
   "metadata": {},
   "outputs": [
    {
     "name": "stdout",
     "output_type": "stream",
     "text": [
      "Размер обучающего набора 19600\n",
      "Размер проверочного набора 5600\n",
      "Размер тестового набора 2800\n"
     ]
    }
   ],
   "source": [
    "filenames = filenames[:28000]\n",
    "\n",
    "train_files = filenames[:19600]\n",
    "val_files = filenames[19600: 19600 + 5600]\n",
    "test_files = filenames[-2800:]\n",
    "\n",
    "print('Размер обучающего набора', len(train_files))\n",
    "print('Размер проверочного набора', len(val_files))\n",
    "print('Размер тестового набора', len(test_files))"
   ]
  },
  {
   "cell_type": "code",
   "execution_count": 106,
   "id": "11f1036e",
   "metadata": {},
   "outputs": [
    {
     "data": {
      "text/plain": [
       "TensorShape([11506, 1])"
      ]
     },
     "execution_count": 106,
     "metadata": {},
     "output_type": "execute_result"
    }
   ],
   "source": [
    "# После разделения изначальных аудио-файлов на ноты все получившиеся записи стали моно-записями\n",
    "test_file = tf.io.read_file(filenames[0])\n",
    "test_audio, _ = tf.audio.decode_wav(contents=test_file)\n",
    "test_audio.shape"
   ]
  },
  {
   "cell_type": "code",
   "execution_count": 107,
   "id": "0f6c6182",
   "metadata": {},
   "outputs": [],
   "source": [
    "def decode_audio(audio_binary):\n",
    "    audio, _ = tf.audio.decode_wav(audio_binary) # возвращает WAV-кодированные как Тензор и частотой дискретизации.\n",
    "    return tf.squeeze(audio, axis=-1)\n",
    "\n",
    "def get_label(file_path):\n",
    "    parts = tf.strings.split(file_path, os.path.sep)\n",
    "    # Примечание. Здесь будет использоваться индексирование вместо распаковки кортежей, \n",
    "    # чтобы это работало на графике TensorFlow.\n",
    "    return parts[-2]\n",
    "\n",
    "def get_waveform_and_label(file_path):\n",
    "    label = get_label(file_path)\n",
    "    audio_binary = tf.io.read_file(file_path)\n",
    "    waveform = decode_audio(audio_binary)\n",
    "    return waveform, label\n",
    "\n",
    "def without_zero_len(waveform, label):\n",
    "    if len(waveform)!=0:  \n",
    "        return True\n",
    "    return False"
   ]
  },
  {
   "cell_type": "code",
   "execution_count": 61,
   "id": "557772c8",
   "metadata": {},
   "outputs": [
    {
     "name": "stdout",
     "output_type": "stream",
     "text": [
      "1171 tf.Tensor(b'D:\\\\magistracy\\\\diplom\\\\records_cut\\\\G\\\\en045a_5.wav', shape=(), dtype=string)\n",
      "2199 tf.Tensor(b'D:\\\\magistracy\\\\diplom\\\\records_cut\\\\G\\\\en022b_76.wav', shape=(), dtype=string)\n",
      "4355 tf.Tensor(b'D:\\\\magistracy\\\\diplom\\\\records_cut\\\\F#\\\\en049a_84.wav', shape=(), dtype=string)\n",
      "4425 tf.Tensor(b'D:\\\\magistracy\\\\diplom\\\\records_cut\\\\E\\\\kr021b_42.wav', shape=(), dtype=string)\n",
      "8201 tf.Tensor(b'D:\\\\magistracy\\\\diplom\\\\records_cut\\\\F#\\\\kr002b_204.wav', shape=(), dtype=string)\n",
      "9690 tf.Tensor(b'D:\\\\magistracy\\\\diplom\\\\records_cut\\\\D#\\\\kr038b_134.wav', shape=(), dtype=string)\n",
      "12707 tf.Tensor(b'D:\\\\magistracy\\\\diplom\\\\records_cut\\\\D\\\\kr019a_8.wav', shape=(), dtype=string)\n",
      "14965 tf.Tensor(b'D:\\\\magistracy\\\\diplom\\\\records_cut\\\\F#\\\\en012b_80.wav', shape=(), dtype=string)\n",
      "17485 tf.Tensor(b'D:\\\\magistracy\\\\diplom\\\\records_cut\\\\C#\\\\kr005b_65.wav', shape=(), dtype=string)\n",
      "19349 tf.Tensor(b'D:\\\\magistracy\\\\diplom\\\\records_cut\\\\G\\\\en031a_54.wav', shape=(), dtype=string)\n"
     ]
    }
   ],
   "source": [
    "AUTOTUNE = tf.data.experimental.AUTOTUNE\n",
    "files_ds = tf.data.Dataset.from_tensor_slices(train_files)\n",
    "waveform_ds = files_ds.map(get_waveform_and_label, num_parallel_calls=AUTOTUNE)\n",
    "count = 0\n",
    "for a,_ in waveform_ds:\n",
    "    count+=1\n",
    "    if a.shape[0]==0:\n",
    "        print(count, filenames[count])\n",
    "waveform_ds = waveform_ds.filter(without_zero_len) # Удаляем сигналы нулевой длины"
   ]
  },
  {
   "cell_type": "code",
   "execution_count": 62,
   "id": "22c45700",
   "metadata": {},
   "outputs": [
    {
     "name": "stdout",
     "output_type": "stream",
     "text": [
      "(1025, 40)\n"
     ]
    }
   ],
   "source": [
    "# Загружаем триангулярные фильтры\n",
    "with open('filters.npy', 'rb') as f:\n",
    "    fbank = np.load(f)\n",
    "    \n",
    "fbank = tf.convert_to_tensor(fbank.T, dtype=tf.float32)   \n",
    "print(fbank.shape)"
   ]
  },
  {
   "cell_type": "code",
   "execution_count": 91,
   "id": "97bf6d92",
   "metadata": {},
   "outputs": [],
   "source": [
    "def get_spectrogram(params):\n",
    "    waveform = params[0]\n",
    "    S = tf.convert_to_tensor(params[1])\n",
    "    NFFT = 2048\n",
    "    waveform = tf.cast(waveform, tf.float32)\n",
    "    spectrogram = tf.signal.stft(waveform, frame_length=NFFT, frame_step=S,pad_end=True)\n",
    "    spectrogram = tf.abs(spectrogram)\n",
    "    pow_frames = ((1.0 / NFFT) * ((spectrogram) ** 2))\n",
    "    filter_banks = tf.tensordot(pow_frames, fbank, axes = [[1], [0]])\n",
    "    filter_banks = tf.where(filter_banks == 0, tf.keras.backend.epsilon(), filter_banks)  # Численная стабильность \n",
    "    # tf.keras.backend.epsilon() - машинный ноль)\n",
    "    spectrogram = tf.math.log(filter_banks)  # Логарифмические энергии набора фильтров\n",
    "\n",
    "    return spectrogram"
   ]
  },
  {
   "cell_type": "code",
   "execution_count": 64,
   "id": "3f57bca5",
   "metadata": {},
   "outputs": [],
   "source": [
    "def get_spectrogram_and_label_id(audio, label, step):\n",
    "    spectrogram = get_spectrogram((audio,step))\n",
    "    #spectrogram = tf.expand_dims(spectrogram, -1)\n",
    "    label_id = tf.argmax(label == notes)\n",
    "    return spectrogram, label_id\n",
    "\n",
    "def get_spectrogram_and_label_id_lim(spectrogram, label_id, M):\n",
    "    spec_length = len(spectrogram)\n",
    "    if spec_length<M:\n",
    "        for k in range(M-spec_length):\n",
    "            spect_last = spectrogram[spec_length-1]\n",
    "            spect_last = tf.expand_dims(spect_last, 0)\n",
    "            spectrogram = tf.concat([spectrogram, spect_last], 0)\n",
    "    elif spec_length>M:\n",
    "        start = tf.random.uniform(shape=[], minval=0, maxval=spec_length-M, dtype=tf.int32)\n",
    "        spectrogram = spectrogram[start:start+M]\n",
    "    else:\n",
    "        spectrogram = spectrogram\n",
    "    return spectrogram, label_id"
   ]
  },
  {
   "cell_type": "code",
   "execution_count": 65,
   "id": "baf28643",
   "metadata": {},
   "outputs": [
    {
     "name": "stdout",
     "output_type": "stream",
     "text": [
      "Количество вариантов step 6\n",
      "Количество вариантов num_frame 6\n",
      "Количество баз данных 36\n"
     ]
    }
   ],
   "source": [
    "step = list(map(int,[2048/32, 2048/16, 2048/8, 2048/4, 2048/2, 2048]))\n",
    "num_frame = [5,10,15,20,25,30]\n",
    "params_s_f = [] \n",
    "\n",
    "for s in step:\n",
    "    for f in num_frame:\n",
    "        params_s_f.append((s,f))\n",
    "print('Количество вариантов step', len(step))\n",
    "print('Количество вариантов num_frame', len(num_frame))\n",
    "print('Количество баз данных', len(params_s_f))"
   ]
  },
  {
   "cell_type": "code",
   "execution_count": 66,
   "id": "45f1a327",
   "metadata": {},
   "outputs": [
    {
     "data": {
      "text/plain": [
       "[(64, 5),\n",
       " (64, 10),\n",
       " (64, 15),\n",
       " (64, 20),\n",
       " (64, 25),\n",
       " (64, 30),\n",
       " (128, 5),\n",
       " (128, 10),\n",
       " (128, 15),\n",
       " (128, 20),\n",
       " (128, 25),\n",
       " (128, 30),\n",
       " (256, 5),\n",
       " (256, 10),\n",
       " (256, 15),\n",
       " (256, 20),\n",
       " (256, 25),\n",
       " (256, 30),\n",
       " (512, 5),\n",
       " (512, 10),\n",
       " (512, 15),\n",
       " (512, 20),\n",
       " (512, 25),\n",
       " (512, 30),\n",
       " (1024, 5),\n",
       " (1024, 10),\n",
       " (1024, 15),\n",
       " (1024, 20),\n",
       " (1024, 25),\n",
       " (1024, 30),\n",
       " (2048, 5),\n",
       " (2048, 10),\n",
       " (2048, 15),\n",
       " (2048, 20),\n",
       " (2048, 25),\n",
       " (2048, 30)]"
      ]
     },
     "execution_count": 66,
     "metadata": {},
     "output_type": "execute_result"
    }
   ],
   "source": [
    "params_s_f"
   ]
  },
  {
   "cell_type": "code",
   "execution_count": 95,
   "id": "912ffc12",
   "metadata": {},
   "outputs": [],
   "source": [
    "def preprocess_dataset(files,s,f):\n",
    "    files_ds = tf.data.Dataset.from_tensor_slices(files)\n",
    "    output_ds = files_ds.map(get_waveform_and_label, num_parallel_calls=AUTOTUNE)\n",
    "    output_ds = output_ds.filter(without_zero_len) \n",
    "    output_ds = output_ds.map(lambda x,y: get_spectrogram_and_label_id(x,y,s), num_parallel_calls=AUTOTUNE)\n",
    "    output_ds = output_ds.map(lambda x,y: get_spectrogram_and_label_id_lim(x,y,f))\n",
    "    return output_ds"
   ]
  },
  {
   "cell_type": "code",
   "execution_count": 96,
   "id": "858d270b",
   "metadata": {},
   "outputs": [],
   "source": [
    "def create_model(input_shape):\n",
    "    inputs = layers.Input(shape = input_shape, name = \"inputs\")\n",
    "    x = layers.Flatten()(inputs)\n",
    "    x = layers.Dense(512, activation = 'relu', name = \"relu_1\")(x)\n",
    "    x = layers.Dense(512, activation = 'relu', name = \"relu_2\")(x)\n",
    "    x = layers.Dense(512, activation = 'relu', name = \"relu_3\")(x)\n",
    "    outputs = layers.Dense(12,activation = 'softmax', name = \"dense_end\")(x)\n",
    "    model = tf.keras.Model(inputs = inputs, outputs = outputs)\n",
    "    model.compile(optimizer='adam',\n",
    "                  loss = 'sparse_categorical_crossentropy',\n",
    "                  metrics=['accuracy'])\n",
    "    return model"
   ]
  },
  {
   "cell_type": "code",
   "execution_count": 97,
   "id": "ca65e057",
   "metadata": {},
   "outputs": [],
   "source": [
    "import time\n",
    "EPOCHS = 100\n",
    "models = []\n",
    "histories = []"
   ]
  },
  {
   "cell_type": "code",
   "execution_count": 98,
   "id": "348873f2",
   "metadata": {},
   "outputs": [
    {
     "name": "stdout",
     "output_type": "stream",
     "text": [
      "---------------------------------------------------------------------\n",
      "Шаг: 64 , количество спектрограмм:  5\n",
      "input_shape (5, 40)\n",
      "--- 5.0 минут 53.64996552467346 секунд ---\n",
      "Шаг: 64 , количество спектрограмм:  5 , accuracy тестовой выборки:  71.21916338934572 %\n",
      "---------------------------------------------------------------------\n",
      "Шаг: 64 , количество спектрограмм:  10\n",
      "input_shape (10, 40)\n",
      "--- 6.0 минут 18.364998817443848 секунд ---\n",
      "Шаг: 64 , количество спектрограмм:  10 , accuracy тестовой выборки:  74.0793707543797 %\n",
      "---------------------------------------------------------------------\n",
      "Шаг: 64 , количество спектрограмм:  15\n",
      "input_shape (15, 40)\n",
      "--- 7.0 минут 53.74026608467102 секунд ---\n",
      "Шаг: 64 , количество спектрограмм:  15 , accuracy тестовой выборки:  73.32856632105828 %\n",
      "---------------------------------------------------------------------\n",
      "Шаг: 64 , количество спектрограмм:  20\n",
      "input_shape (20, 40)\n",
      "--- 8.0 минут 37.984944581985474 секунд ---\n",
      "Шаг: 64 , количество спектрограмм:  20 , accuracy тестовой выборки:  74.6871648194494 %\n",
      "---------------------------------------------------------------------\n",
      "Шаг: 64 , количество спектрограмм:  25\n",
      "input_shape (25, 40)\n",
      "--- 8.0 минут 10.263556957244873 секунд ---\n",
      "Шаг: 64 , количество спектрограмм:  25 , accuracy тестовой выборки:  76.97533071147659 %\n",
      "---------------------------------------------------------------------\n",
      "Шаг: 64 , количество спектрограмм:  30\n",
      "input_shape (30, 40)\n",
      "--- 8.0 минут 25.244048833847046 секунд ---\n",
      "Шаг: 64 , количество спектрограмм:  30 , accuracy тестовой выборки:  77.79764032892385 %\n",
      "---------------------------------------------------------------------\n",
      "Шаг: 128 , количество спектрограмм:  5\n",
      "input_shape (5, 40)\n",
      "--- 6.0 минут 1.885721206665039 секунд ---\n",
      "Шаг: 128 , количество спектрограмм:  5 , accuracy тестовой выборки:  71.25491598140866 %\n",
      "---------------------------------------------------------------------\n",
      "Шаг: 128 , количество спектрограмм:  10\n",
      "input_shape (10, 40)\n",
      "--- 7.0 минут 42.47044897079468 секунд ---\n",
      "Шаг: 128 , количество спектрограмм:  10 , accuracy тестовой выборки:  74.29388630675724 %\n",
      "---------------------------------------------------------------------\n",
      "Шаг: 128 , количество спектрограмм:  15\n",
      "input_shape (15, 40)\n",
      "--- 7.0 минут 36.35314655303955 секунд ---\n",
      "Шаг: 128 , количество спектрограмм:  15 , accuracy тестовой выборки:  75.6882373972113 %\n",
      "---------------------------------------------------------------------\n",
      "Шаг: 128 , количество спектрограмм:  20\n",
      "input_shape (20, 40)\n",
      "--- 8.0 минут 18.603142023086548 секунд ---\n",
      "Шаг: 128 , количество спектрограмм:  20 , accuracy тестовой выборки:  80.58634250983197 %\n",
      "---------------------------------------------------------------------\n",
      "Шаг: 128 , количество спектрограмм:  25\n",
      "input_shape (25, 40)\n",
      "--- 7.0 минут 50.569857358932495 секунд ---\n",
      "Шаг: 128 , количество спектрограмм:  25 , accuracy тестовой выборки:  80.19306399713979 %\n",
      "---------------------------------------------------------------------\n",
      "Шаг: 128 , количество спектрограмм:  30\n",
      "input_shape (30, 40)\n",
      "--- 8.0 минут 12.451682090759277 секунд ---\n",
      "Шаг: 128 , количество спектрограмм:  30 , accuracy тестовой выборки:  84.80514837325707 %\n",
      "---------------------------------------------------------------------\n",
      "Шаг: 256 , количество спектрограмм:  5\n",
      "input_shape (5, 40)\n",
      "--- 6.0 минут 6.761451959609985 секунд ---\n",
      "Шаг: 256 , количество спектрограмм:  5 , accuracy тестовой выборки:  71.68394708616374 %\n",
      "---------------------------------------------------------------------\n",
      "Шаг: 256 , количество спектрограмм:  10\n",
      "input_shape (10, 40)\n",
      "--- 7.0 минут 23.483213186264038 секунд ---\n",
      "Шаг: 256 , количество спектрограмм:  10 , accuracy тестовой выборки:  79.1919914193779 %\n",
      "---------------------------------------------------------------------\n",
      "Шаг: 256 , количество спектрограмм:  15\n",
      "input_shape (15, 40)\n",
      "--- 7.0 минут 52.060497522354126 секунд ---\n",
      "Шаг: 256 , количество спектрограмм:  15 , accuracy тестовой выборки:  82.15945656060065 %\n",
      "---------------------------------------------------------------------\n",
      "Шаг: 256 , количество спектрограмм:  20\n",
      "input_shape (20, 40)\n",
      "--- 8.0 минут 35.998342514038086 секунд ---\n",
      "Шаг: 256 , количество спектрограмм:  20 , accuracy тестовой выборки:  86.37826242402575 %\n",
      "---------------------------------------------------------------------\n",
      "Шаг: 256 , количество спектрограмм:  25\n",
      "input_shape (25, 40)\n",
      "--- 8.0 минут 5.2195885181427 секунд ---\n",
      "Шаг: 256 , количество спектрограмм:  25 , accuracy тестовой выборки:  88.73793350017877 %\n",
      "---------------------------------------------------------------------\n",
      "Шаг: 256 , количество спектрограмм:  30\n",
      "input_shape (30, 40)\n",
      "--- 8.0 минут 30.901248455047607 секунд ---\n",
      "Шаг: 256 , количество спектрограмм:  30 , accuracy тестовой выборки:  88.38040757954951 %\n",
      "---------------------------------------------------------------------\n",
      "Шаг: 512 , количество спектрограмм:  5\n",
      "input_shape (5, 40)\n",
      "--- 6.0 минут 27.195487022399902 секунд ---\n",
      "Шаг: 512 , количество спектрограмм:  5 , accuracy тестовой выборки:  79.72828030032177 %\n",
      "---------------------------------------------------------------------\n",
      "Шаг: 512 , количество спектрограмм:  10\n",
      "input_shape (10, 40)\n",
      "--- 7.0 минут 47.94128441810608 секунд ---\n",
      "Шаг: 512 , количество спектрограмм:  10 , accuracy тестовой выборки:  82.73149803360744 %\n",
      "---------------------------------------------------------------------\n",
      "Шаг: 512 , количество спектрограмм:  15\n",
      "input_shape (15, 40)\n",
      "--- 8.0 минут 3.992647647857666 секунд ---\n",
      "Шаг: 512 , количество спектрограмм:  15 , accuracy тестовой выборки:  89.6675008938148 %\n",
      "---------------------------------------------------------------------\n",
      "Шаг: 512 , количество спектрограмм:  20\n",
      "input_shape (20, 40)\n",
      "--- 8.0 минут 52.78252983093262 секунд ---\n",
      "Шаг: 512 , количество спектрограмм:  20 , accuracy тестовой выборки:  90.06077940650698 %\n",
      "---------------------------------------------------------------------\n",
      "Шаг: 512 , количество спектрограмм:  25\n",
      "input_shape (25, 40)\n",
      "--- 8.0 минут 21.406137228012085 секунд ---\n",
      "Шаг: 512 , количество спектрограмм:  25 , accuracy тестовой выборки:  90.77583124776545 %\n",
      "---------------------------------------------------------------------\n",
      "Шаг: 512 , количество спектрограмм:  30\n",
      "input_shape (30, 40)\n",
      "--- 8.0 минут 57.39058971405029 секунд ---\n",
      "Шаг: 512 , количество спектрограмм:  30 , accuracy тестовой выборки:  92.84948158741508 %\n",
      "---------------------------------------------------------------------\n",
      "Шаг: 1024 , количество спектрограмм:  5\n",
      "input_shape (5, 40)\n",
      "--- 6.0 минут 31.930216312408447 секунд ---\n",
      "Шаг: 1024 , количество спектрограмм:  5 , accuracy тестовой выборки:  85.59170539864141 %\n",
      "---------------------------------------------------------------------\n",
      "Шаг: 1024 , количество спектрограмм:  10\n",
      "input_shape (10, 40)\n",
      "--- 8.0 минут 5.420332908630371 секунд ---\n",
      "Шаг: 1024 , количество спектрограмм:  10 , accuracy тестовой выборки:  89.48873793350019 %\n",
      "---------------------------------------------------------------------\n",
      "Шаг: 1024 , количество спектрограмм:  15\n",
      "input_shape (15, 40)\n",
      "--- 8.0 минут 12.944897890090942 секунд ---\n",
      "Шаг: 1024 , количество спектрограмм:  15 , accuracy тестовой выборки:  88.66642831605292 %\n",
      "---------------------------------------------------------------------\n",
      "Шаг: 1024 , количество спектрограмм:  20\n",
      "input_shape (20, 40)\n",
      "--- 9.0 минут 17.903478384017944 секунд ---\n",
      "Шаг: 1024 , количество спектрограмм:  20 , accuracy тестовой выборки:  86.59277797640328 %\n",
      "---------------------------------------------------------------------\n",
      "Шаг: 1024 , количество спектрограмм:  25\n",
      "input_shape (25, 40)\n",
      "--- 8.0 минут 58.55865740776062 секунд ---\n",
      "Шаг: 1024 , количество спектрограмм:  25 , accuracy тестовой выборки:  91.13335716839471 %\n",
      "---------------------------------------------------------------------\n",
      "Шаг: 1024 , количество спектрограмм:  30\n",
      "input_shape (30, 40)\n",
      "--- 9.0 минут 15.182052850723267 секунд ---\n",
      "Шаг: 1024 , количество спектрограмм:  30 , accuracy тестовой выборки:  89.34572756524848 %\n",
      "---------------------------------------------------------------------\n",
      "Шаг: 2048 , количество спектрограмм:  5\n",
      "input_shape (5, 40)\n",
      "--- 6.0 минут 58.19962191581726 секунд ---\n",
      "Шаг: 2048 , количество спектрограмм:  5 , accuracy тестовой выборки:  91.31212012870932 %\n",
      "---------------------------------------------------------------------\n",
      "Шаг: 2048 , количество спектрограмм:  10\n"
     ]
    },
    {
     "name": "stdout",
     "output_type": "stream",
     "text": [
      "input_shape (10, 40)\n",
      "--- 8.0 минут 24.262557983398438 секунд ---\n",
      "Шаг: 2048 , количество спектрограмм:  10 , accuracy тестовой выборки:  92.17018233821952 %\n",
      "---------------------------------------------------------------------\n",
      "Шаг: 2048 , количество спектрограмм:  15\n",
      "input_shape (15, 40)\n",
      "--- 8.0 минут 18.71750497817993 секунд ---\n",
      "Шаг: 2048 , количество спектрограмм:  15 , accuracy тестовой выборки:  90.77583124776545 %\n",
      "---------------------------------------------------------------------\n",
      "Шаг: 2048 , количество спектрограмм:  20\n",
      "input_shape (20, 40)\n",
      "--- 9.0 минут 10.680687665939331 секунд ---\n",
      "Шаг: 2048 , количество спектрограмм:  20 , accuracy тестовой выборки:  89.27422238112264 %\n",
      "---------------------------------------------------------------------\n",
      "Шаг: 2048 , количество спектрограмм:  25\n",
      "input_shape (25, 40)\n",
      "--- 8.0 минут 37.91634750366211 секунд ---\n",
      "Шаг: 2048 , количество спектрограмм:  25 , accuracy тестовой выборки:  90.38255273507329 %\n",
      "---------------------------------------------------------------------\n",
      "Шаг: 2048 , количество спектрограмм:  30\n",
      "input_shape (30, 40)\n",
      "--- 8.0 минут 4.239782810211182 секунд ---\n",
      "Шаг: 2048 , количество спектрограмм:  30 , accuracy тестовой выборки:  86.9145513049696 %\n",
      "--- 49.0 минут 49.75252103805542 секунд ---\n"
     ]
    }
   ],
   "source": [
    "start_time0 = time.time()\n",
    "tests_acc = []\n",
    "for k in range(len(params_s_f)):\n",
    "    print('---------------------------------------------------------------------')\n",
    "    print('Шаг:', params_s_f[k][0], ', количество спектрограмм: ',params_s_f[k][1])\n",
    "    train_ds = []\n",
    "    val_ds = []\n",
    "    test_ds = []\n",
    "    spectrogram_ds = waveform_ds.map(lambda x,y: get_spectrogram_and_label_id(x,y,params_s_f[k][0]), num_parallel_calls=AUTOTUNE)\n",
    "    spectrogram_ds = spectrogram_ds.map(lambda x, y: get_spectrogram_and_label_id_lim(x,y,params_s_f[k][1]))\n",
    "    train_ds = spectrogram_ds\n",
    "    val_ds = preprocess_dataset(val_files,params_s_f[k][0],params_s_f[k][1])\n",
    "    test_ds = preprocess_dataset(test_files,params_s_f[k][0],params_s_f[k][1])\n",
    "    \n",
    "    batch_size = 64\n",
    "    train_ds = train_ds.batch(batch_size)\n",
    "    val_ds = val_ds.batch(batch_size)\n",
    "    train_ds = train_ds.cache().prefetch(AUTOTUNE)\n",
    "    val_ds = val_ds.cache().prefetch(AUTOTUNE)\n",
    "    \n",
    "    test_audio = []\n",
    "    test_labels = []\n",
    "\n",
    "    for audio, label in test_ds:\n",
    "        test_audio.append(audio.numpy())\n",
    "        test_labels.append(label.numpy())\n",
    "\n",
    "    test_audio = np.array(test_audio)\n",
    "    test_labels = np.array(test_labels)\n",
    "\n",
    "    for spectrogram, _ in spectrogram_ds.take(1):\n",
    "        input_shape = spectrogram.shape\n",
    "        print('input_shape',input_shape)\n",
    "    \n",
    "    \n",
    "    mymodel = create_model(input_shape)\n",
    "    \n",
    "    start_time = time.time()\n",
    "    myhistory = mymodel.fit(train_ds, validation_data=val_ds, epochs=EPOCHS, verbose=0)\n",
    "    minutes, seconds = ((time.time() - start_time) - 3600 * ((time.time() - start_time) // 3600)) // 60, (time.time() - start_time) % 60\n",
    "    print(f\"--- {minutes} минут {seconds} секунд ---\")\n",
    "    \n",
    "    metrics = myhistory.history\n",
    "    y_pred = np.argmax(mymodel.predict(test_audio), axis=1)\n",
    "    y_true = test_labels\n",
    "    test_acc = sum(y_pred == y_true) / len(y_true) * 100\n",
    "    tests_acc.append(test_acc)\n",
    "    print('Шаг:', params_s_f[k][0], ', количество спектрограмм: ',params_s_f[k][1], ', accuracy тестовой выборки: ', test_acc, '%')\n",
    "    models.append(mymodel)\n",
    "    histories.append(myhistory)\n",
    "    \n",
    "    \n",
    "minutes, seconds = ((time.time() - start_time0) - 3600 * ((time.time() - start_time0) // 3600)) // 60, (time.time() - start_time0) % 60    \n",
    "print(f\"--- {minutes} минут {seconds} секунд ---\")"
   ]
  },
  {
   "cell_type": "code",
   "execution_count": null,
   "id": "78fa69db",
   "metadata": {},
   "outputs": [],
   "source": [
    "for k in range(len(models)):\n",
    "    print(k, params_s_f[k][0])\n",
    "    models[k].summary()"
   ]
  },
  {
   "cell_type": "code",
   "execution_count": 99,
   "id": "83257fe2",
   "metadata": {},
   "outputs": [
    {
     "data": {
      "text/plain": [
       "array([71.21916339, 74.07937075, 73.32856632, 74.68716482, 76.97533071,\n",
       "       77.79764033, 71.25491598, 74.29388631, 75.6882374 , 80.58634251,\n",
       "       80.193064  , 84.80514837, 71.68394709, 79.19199142, 82.15945656,\n",
       "       86.37826242, 88.7379335 , 88.38040758, 79.7282803 , 82.73149803,\n",
       "       89.66750089, 90.06077941, 90.77583125, 92.84948159, 85.5917054 ,\n",
       "       89.48873793, 88.66642832, 86.59277798, 91.13335717, 89.34572757,\n",
       "       91.31212013, 92.17018234, 90.77583125, 89.27422238, 90.38255274,\n",
       "       86.9145513 ])"
      ]
     },
     "execution_count": 99,
     "metadata": {},
     "output_type": "execute_result"
    }
   ],
   "source": [
    "np.array(tests_acc)"
   ]
  },
  {
   "cell_type": "code",
   "execution_count": 100,
   "id": "d969fa5f",
   "metadata": {},
   "outputs": [
    {
     "data": {
      "text/plain": [
       "Text(51.0, 0.5, 'Шаг')"
      ]
     },
     "execution_count": 100,
     "metadata": {},
     "output_type": "execute_result"
    },
    {
     "data": {
      "image/png": "[encoded data removed]",
      "text/plain": [
       "<Figure size 576x720 with 2 Axes>"
      ]
     },
     "metadata": {
      "needs_background": "light"
     },
     "output_type": "display_data"
    }
   ],
   "source": [
    "test_acc_mtx = np.zeros((len(step),len(num_frame)))\n",
    "p = 0\n",
    "for s in range(len(step)):\n",
    "    for f in range(len(num_frame)):\n",
    "        test_acc_mtx[s][f] = tests_acc[p]\n",
    "        p+=1\n",
    "plt.figure(figsize=(8, 10))\n",
    "sns.heatmap(test_acc_mtx, xticklabels=num_frame, yticklabels=step, \n",
    "            annot=True, fmt='g')\n",
    "plt.title('Точность при изменении шага и количества спектрограмм')\n",
    "plt.xlabel('Количество спектрограмм')\n",
    "plt.ylabel('Шаг')"
   ]
  },
  {
   "cell_type": "markdown",
   "id": "793e997a",
   "metadata": {},
   "source": [
    "Лучшая точность $(92.8495 \\%)$ соответствует $30$ спектрограммам и шагу $512$."
   ]
  },
  {
   "cell_type": "code",
   "execution_count": 101,
   "id": "30f7bc2f",
   "metadata": {},
   "outputs": [
    {
     "name": "stdout",
     "output_type": "stream",
     "text": [
      "0 (64, 5) 71.21916338934572\n",
      "1 (64, 10) 74.0793707543797\n",
      "2 (64, 15) 73.32856632105828\n",
      "3 (64, 20) 74.6871648194494\n",
      "4 (64, 25) 76.97533071147659\n",
      "5 (64, 30) 77.79764032892385\n",
      "6 (128, 5) 71.25491598140866\n",
      "7 (128, 10) 74.29388630675724\n",
      "8 (128, 15) 75.6882373972113\n",
      "9 (128, 20) 80.58634250983197\n",
      "10 (128, 25) 80.19306399713979\n",
      "11 (128, 30) 84.80514837325707\n",
      "12 (256, 5) 71.68394708616374\n",
      "13 (256, 10) 79.1919914193779\n",
      "14 (256, 15) 82.15945656060065\n",
      "15 (256, 20) 86.37826242402575\n",
      "16 (256, 25) 88.73793350017877\n",
      "17 (256, 30) 88.38040757954951\n",
      "18 (512, 5) 79.72828030032177\n",
      "19 (512, 10) 82.73149803360744\n",
      "20 (512, 15) 89.6675008938148\n",
      "21 (512, 20) 90.06077940650698\n",
      "22 (512, 25) 90.77583124776545\n",
      "23 (512, 30) 92.84948158741508\n",
      "24 (1024, 5) 85.59170539864141\n",
      "25 (1024, 10) 89.48873793350019\n",
      "26 (1024, 15) 88.66642831605292\n",
      "27 (1024, 20) 86.59277797640328\n",
      "28 (1024, 25) 91.13335716839471\n",
      "29 (1024, 30) 89.34572756524848\n",
      "30 (2048, 5) 91.31212012870932\n",
      "31 (2048, 10) 92.17018233821952\n",
      "32 (2048, 15) 90.77583124776545\n",
      "33 (2048, 20) 89.27422238112264\n",
      "34 (2048, 25) 90.38255273507329\n",
      "35 (2048, 30) 86.9145513049696\n"
     ]
    }
   ],
   "source": [
    "for k in range(len(params_s_f)):\n",
    "    print(k, params_s_f[k],tests_acc[k])"
   ]
  },
  {
   "cell_type": "code",
   "execution_count": 102,
   "id": "9ef543b5",
   "metadata": {},
   "outputs": [
    {
     "data": {
      "text/plain": [
       "23"
      ]
     },
     "execution_count": 102,
     "metadata": {},
     "output_type": "execute_result"
    }
   ],
   "source": [
    "k_max = np.argmax(np.array(tests_acc))\n",
    "k_max"
   ]
  },
  {
   "cell_type": "code",
   "execution_count": 103,
   "id": "702ac724",
   "metadata": {},
   "outputs": [
    {
     "data": {
      "text/plain": [
       "(512, 30)"
      ]
     },
     "execution_count": 103,
     "metadata": {},
     "output_type": "execute_result"
    }
   ],
   "source": [
    "params_s_f[k_max][0],params_s_f[k_max][1]"
   ]
  },
  {
   "cell_type": "code",
   "execution_count": 108,
   "id": "7acebb1b",
   "metadata": {},
   "outputs": [],
   "source": [
    "train_ds = []\n",
    "val_ds = []\n",
    "test_ds = []\n",
    "\n",
    "spectrogram_ds = waveform_ds.map(lambda x,y: get_spectrogram_and_label_id(x,y,params_s_f[k_max][0]), num_parallel_calls=AUTOTUNE)\n",
    "spectrogram_ds = spectrogram_ds.map(lambda x, y: get_spectrogram_and_label_id_lim(x,y,params_s_f[k_max][1]))\n",
    "train_ds = spectrogram_ds\n",
    "val_ds = preprocess_dataset(val_files,params_s_f[k_max][0],params_s_f[k_max][1])\n",
    "test_ds = preprocess_dataset(test_files,params_s_f[k_max][0],params_s_f[k_max][1])\n",
    "\n",
    "batch_size = 64\n",
    "train_ds = train_ds.batch(batch_size)\n",
    "val_ds = val_ds.batch(batch_size)\n",
    "train_ds = train_ds.cache().prefetch(AUTOTUNE)\n",
    "val_ds = val_ds.cache().prefetch(AUTOTUNE)"
   ]
  },
  {
   "cell_type": "code",
   "execution_count": 109,
   "id": "c082608b",
   "metadata": {},
   "outputs": [],
   "source": [
    "test_audio = []\n",
    "test_labels = []\n",
    "for audio, label in test_ds:\n",
    "    test_audio.append(audio.numpy())\n",
    "    test_labels.append(label.numpy())\n",
    "\n",
    "test_audio = np.array(test_audio)\n",
    "test_labels = np.array(test_labels)"
   ]
  },
  {
   "cell_type": "code",
   "execution_count": 110,
   "id": "40d8a359",
   "metadata": {},
   "outputs": [
    {
     "data": {
      "text/plain": [
       "92.84948158741508"
      ]
     },
     "execution_count": 110,
     "metadata": {},
     "output_type": "execute_result"
    }
   ],
   "source": [
    "history_ = histories[k_max]\n",
    "model_ = models[k_max]\n",
    "metrics = history_.history\n",
    "\n",
    "y_pred = np.argmax(model_.predict(test_audio), axis=1)\n",
    "y_true = test_labels\n",
    "test_acc = sum(y_pred == y_true) / len(y_true) * 100\n",
    "test_acc"
   ]
  },
  {
   "cell_type": "code",
   "execution_count": 111,
   "id": "f4bc5757",
   "metadata": {},
   "outputs": [
    {
     "data": {
      "text/plain": [
       "[Text(0.5, 0, 'Номер эпохи'),\n",
       " Text(0, 0.5, 'Точность'),\n",
       " Text(0.5, 1.0, 'Точность тренировочная/проверочная')]"
      ]
     },
     "execution_count": 111,
     "metadata": {},
     "output_type": "execute_result"
    },
    {
     "data": {
      "image/png": "[encoded data removed]",
      "text/plain": [
       "<Figure size 432x432 with 2 Axes>"
      ]
     },
     "metadata": {
      "needs_background": "light"
     },
     "output_type": "display_data"
    }
   ],
   "source": [
    "fig, axes = plt.subplots(2, 1, figsize=(6, 6), constrained_layout=True)\n",
    "axes[0].plot(history_.epoch, metrics['loss'], metrics['val_loss'])\n",
    "axes[0].legend(['loss', 'val_loss'])\n",
    "axes[0].set(xlabel='Номер эпохи', ylabel='Функция штрафа', title=f'Штраф тренировочный/проверочный')\n",
    "\n",
    "axes[1].plot(history_.epoch, metrics['accuracy'], metrics['val_accuracy'])\n",
    "axes[1].legend(['accuracy', 'val_accuracy'])\n",
    "axes[1].set(xlabel='Номер эпохи', ylabel='Точность', title=f'Точность тренировочная/проверочная')"
   ]
  },
  {
   "cell_type": "markdown",
   "id": "9ab868d2",
   "metadata": {},
   "source": [
    "График val_loss постепенно идет вверх, поэтому переобучения есть."
   ]
  },
  {
   "cell_type": "code",
   "execution_count": null,
   "id": "42f8d53f",
   "metadata": {},
   "outputs": [],
   "source": [
    "y_pred = np.argmax(model_.predict(test_audio), axis=1)\n",
    "y_true = test_labels"
   ]
  },
  {
   "cell_type": "code",
   "execution_count": null,
   "id": "42629b29",
   "metadata": {},
   "outputs": [],
   "source": [
    "y_true.shape"
   ]
  },
  {
   "cell_type": "code",
   "execution_count": null,
   "id": "6f99da5d",
   "metadata": {},
   "outputs": [],
   "source": [
    "confusion_mtx = tf.math.confusion_matrix(y_true, y_pred) \n",
    "plt.figure(figsize=(10, 12))\n",
    "sns.heatmap(confusion_mtx, xticklabels=notes, yticklabels=notes, \n",
    "            annot=True, fmt='g')\n",
    "plt.xlabel('Предсказание')\n",
    "plt.ylabel('Метка')\n",
    "plt.title('Матрица ошибок')\n",
    "plt.show()"
   ]
  },
  {
   "cell_type": "code",
   "execution_count": null,
   "id": "439e5224",
   "metadata": {},
   "outputs": [],
   "source": [
    "sample_file = data_dir/'E/arpeg-CMaj-060BPM-leg_2.wav'\n",
    "print('Sample file:', sample_file)\n",
    "files_ds = tf.data.Dataset.from_tensor_slices([str(sample_file)])\n",
    "output_ds = files_ds.map(get_waveform_and_label, num_parallel_calls=AUTOTUNE)\n",
    "output_ds = output_ds.filter(without_zero_len) \n",
    "output_ds = output_ds.map(lambda x,y: get_spectrogram_and_label_id(x,y,params_s_f[k_max][0]), num_parallel_calls=AUTOTUNE)\n",
    "sample_ds = output_ds.map(lambda x,y: get_spectrogram_and_label_id_lim(x,y,params_s_f[k_max][1]))"
   ]
  },
  {
   "cell_type": "code",
   "execution_count": null,
   "id": "5e605bf0",
   "metadata": {},
   "outputs": [],
   "source": [
    "for spectrogram, label in sample_ds.batch(1):\n",
    "    prediction = model_(spectrogram)\n",
    "    plt.bar(notes, prediction[0])\n",
    "    t = 'Предсказание для ноты \"'+ notes[label[0]]+'\"'\n",
    "    plt.title(t)\n",
    "    plt.show()\n"
   ]
  },
  {
   "cell_type": "code",
   "execution_count": null,
   "id": "77407156",
   "metadata": {},
   "outputs": [],
   "source": [
    "# Сохраняем модель\n",
    "model_.save(r\"D:\\magistracy\\diplom\\model\\model_3.h5\")"
   ]
  },
  {
   "cell_type": "code",
   "execution_count": null,
   "id": "fef1b57e",
   "metadata": {},
   "outputs": [],
   "source": [
    "def get_spectrogram(params):\n",
    "    waveform = params[0]\n",
    "    S = tf.convert_to_tensor(params[1])\n",
    "    M = tf.convert_to_tensor(params[2])\n",
    "    NFFT = 2048\n",
    "    waveform = tf.cast(waveform, tf.float32)\n",
    "    spectrogram = tf.signal.stft(waveform, frame_length=NFFT, frame_step=S,pad_end=True)\n",
    "    spectrogram = tf.abs(spectrogram)\n",
    "    pow_frames = ((1.0 / NFFT) * ((spectrogram) ** 2))\n",
    "    filter_banks = tf.tensordot(pow_frames, fbank, axes = [[1], [0]])\n",
    "    filter_banks = tf.where(filter_banks == 0, tf.keras.backend.epsilon(), filter_banks)  # Численная стабильность \n",
    "    # tf.keras.backend.epsilon() - машинный ноль)\n",
    "    spectrogram = tf.math.log(filter_banks)  # Логарифмические энергии набора фильтров\n",
    "    \n",
    "    spec_length = len(spectrogram)\n",
    "    if spec_length<M:\n",
    "        for k in range(M-spec_length):\n",
    "            spect_last = spectrogram[spec_length-1]\n",
    "            spect_last = tf.expand_dims(spect_last, 0)\n",
    "            spectrogram = tf.concat([spectrogram, spect_last], 0)\n",
    "    elif spec_length>M:\n",
    "        start = tf.random.uniform(shape=[], minval=0, maxval=spec_length-M, dtype=tf.int32)\n",
    "        spectrogram = spectrogram[start:start+M]\n",
    "    else:\n",
    "        spectrogram = spectrogram\n",
    "        \n",
    "    return spectrogram"
   ]
  },
  {
   "cell_type": "code",
   "execution_count": null,
   "id": "9c44bfd1",
   "metadata": {},
   "outputs": [],
   "source": [
    "for waveform, label in waveform_ds.take(1):\n",
    "    label = label.numpy().decode('utf-8')\n",
    "    spectrogram = get_spectrogram((waveform,512,25))\n",
    "\n",
    "\n",
    "print('Label:', label)\n",
    "print('Waveform shape:', waveform.shape)\n",
    "print('Spectrogram shape:', spectrogram.shape)\n",
    "print('Audio playback')\n",
    "display.display(display.Audio(waveform, rate=44100))"
   ]
  },
  {
   "cell_type": "code",
   "execution_count": null,
   "id": "8e576ef2",
   "metadata": {},
   "outputs": [],
   "source": [
    "def plot_spectrogram(spectrogram, ax):\n",
    "    # Преобразуем в частоты для логарифмической шкалы и транспонируем так, чтобы время\n",
    "    # было представлено на оси x (столбцы). Эпсилон добавляется, чтобы избежать нуля.\n",
    "    height = spectrogram.shape[1]\n",
    "    width = spectrogram.shape[0]\n",
    "    #X = np.linspace(0, np.size(spectrogram), num=width, dtype=int)\n",
    "    X = np.array(range(width))\n",
    "    Y = np.array(range(height))\n",
    "    ax.pcolormesh(X, Y, spectrogram.T)"
   ]
  },
  {
   "cell_type": "code",
   "execution_count": null,
   "id": "27fbacbb",
   "metadata": {},
   "outputs": [],
   "source": [
    "rows = 3\n",
    "cols = 3\n",
    "n = rows*cols\n",
    "fig, axes = plt.subplots(rows, cols, figsize=(18, 18))\n",
    "for i, (spectrogram, label_id) in enumerate(spectrogram_ds.take(n)):\n",
    "    r = i // cols\n",
    "    c = i % cols\n",
    "    \n",
    "    plot_spectrogram(np.squeeze(spectrogram.numpy()), axes[r][c])\n",
    "    axes[r][c].set_title(notes[label_id.numpy()])\n",
    "    axes[r][c].set_xlabel('Номер спектрограммы')\n",
    "    axes[r][c].set_ylabel('Номер фильтра')\n",
    "\n",
    "\n",
    "plt.show()"
   ]
  },
  {
   "cell_type": "code",
   "execution_count": null,
   "id": "088e6d45",
   "metadata": {},
   "outputs": [],
   "source": []
  }
 ],
 "metadata": {
  "kernelspec": {
   "display_name": "Python 3 (ipykernel)",
   "language": "python",
   "name": "python3"
  },
  "language_info": {
   "codemirror_mode": {
    "name": "ipython",
    "version": 3
   },
   "file_extension": ".py",
   "mimetype": "text/x-python",
   "name": "python",
   "nbconvert_exporter": "python",
   "pygments_lexer": "ipython3",
   "version": "3.9.7"
  }
 },
 "nbformat": 4,
 "nbformat_minor": 5
}
