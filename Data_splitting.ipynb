{
 "cells": [
  {
   "cell_type": "code",
   "execution_count": 1,
   "id": "0d784311",
   "metadata": {},
   "outputs": [],
   "source": [
    "import os\n",
    "import pathlib\n",
    "\n",
    "import matplotlib.pyplot as plt\n",
    "import numpy as np\n",
    "import seaborn as sns\n",
    "import tensorflow as tf\n",
    "\n",
    "from tensorflow.keras.layers.experimental import preprocessing\n",
    "from tensorflow.keras import layers\n",
    "from tensorflow.keras import models\n",
    "from IPython import display\n",
    "\n",
    "import fnmatch\n",
    "\n",
    "# Set seed for experiment reproducibility\n",
    "seed = 42\n",
    "tf.random.set_seed(seed)\n",
    "np.random.seed(seed)"
   ]
  },
  {
   "cell_type": "markdown",
   "id": "defdc38c",
   "metadata": {},
   "source": [
    "### Ссылки на датасеты:\n",
    "- Датасет с флейтами: https://zenodo.org/record/1408985#.YkXlzupBxPZ\n",
    "- Датасет \"CSD\": https://zenodo.org/record/4785016#.YkYd-OpBxPZ"
   ]
  },
  {
   "cell_type": "markdown",
   "id": "b65cad1d",
   "metadata": {},
   "source": [
    "## Разбиение датасета с флейтами и датасета \"CSD\""
   ]
  },
  {
   "cell_type": "markdown",
   "id": "dccdc407",
   "metadata": {},
   "source": [
    "## Распределение нот по частотам\n",
    "- E\tМи пятой октавы\t5274.00\n",
    "- E\tМи четвёртой октавы\t2637.00\n",
    "- E\tМи третьей октавы\t1318.50\n",
    "- E\tМи второй октавы\t659.26\n",
    "- E\tМи первой октавы\t329.63\n",
    "- E\tМи малой октавы\t164.81\n",
    "- E\tМи большой октавы\t82.41\n",
    "- E\tМи контроктавы\t41.21\n",
    "- E\tМи субконтроктавы\t20.61\n",
    "- \n",
    "- \n",
    "- D#\tРе-диез пятой октавы\t4978.00\n",
    "- D#\tРе-диез четвёртой октавы\t2489.00\n",
    "- D#\tРе-диез третьей октавы\t1244.50\n",
    "- D#\tРе-диез второй октавы\t622.26\n",
    "- D#\tРе-диез первой октавы\t311.13\n",
    "- D#\tРе-диез малой октавы\t155.56\n",
    "- D#\tРе-диез большой октавы\t77.78\n",
    "- D#\tРе-диез контроктавы\t38.88\n",
    "- \n",
    "- \n",
    "- D\tРе пятой октавы\t4698.40\n",
    "- D\tРе четвёртой октавы\t2349.20\n",
    "- D\tРе третьей октавы\t1174.60\n",
    "- D\tРе второй октавы\t587.32\n",
    "- D\tРе первой октавы\t293.66\n",
    "- D\tРе малой октавы\t147.83\n",
    "- D\tРе большой октавы\t73.91\n",
    "- D\tРе контроктавы\t36.95\n",
    "- \n",
    "- \n",
    "- C#\tДо-диез пятой октавы\t4434.80\n",
    "- C#\tДо-диез четвёртой октавы\t2217.40\n",
    "- C#\tДо-диез третьей октавы\t1108.70\n",
    "- C#\tДо-диез второй октавы\t554.36\n",
    "- C#\tДо-диез первой октавы\t277.18\n",
    "- C#\tДо-диез малой октавы\t138.59\n",
    "- C#\tДо-диез большой октавы\t69.30\n",
    "- C#\tДо-диез контроктавы\t34.65\n",
    "- \n",
    "- \n",
    "- C\tДо пятой октавы\t4186.00\n",
    "- C\tДо четвёртой октавы\t2093.00\n",
    "- C\tДо третьей октавы\t1046.50\n",
    "- C\tДо второй октавы\t523.25\n",
    "- C\tДо первой октавы\t261.63\n",
    "- C\tДо малой октавы\t130.82\n",
    "- C\tДо большой октавы\t65.41\n",
    "- C\tДо контроктавы\t32.70\n",
    "- \n",
    "- \n",
    "- B\tСи четвёртой октавы\t3951.00\n",
    "- B\tСи третьей октавы\t1975.50\n",
    "- B\tСи второй октавы\t987.75\n",
    "- B\tСи первой октавы\t493.88\n",
    "- B\tСи малой октавы\t246.96\n",
    "- B\tСи большой октавы\t123.48\n",
    "- B\tСи контроктавы\t61.74\n",
    "- B\tСи субконтроктавы\t30.87\n",
    "- \n",
    "- \n",
    "- A#\tЛя-диез четвёртой октавы\t3729.20\n",
    "- A#\tЛя-диез третьей октавы\t1864.60\n",
    "- A#\tЛя-диез второй октавы\t932.32\n",
    "- A#\tЛя-диез первой октавы\t466.16\n",
    "- A#\tЛя-диез малой октавы\t233.08\n",
    "- A#\tЛя-диез большой октавы\t116.54\n",
    "- A#\tЛя-диез контроктавы\t58.26\n",
    "- A#\tЛя-диез субконтроктавы\t29.13\n",
    "- \n",
    "- \n",
    "- A\tЛя четвёртой октавы\t3440.00\n",
    "- A\tЛя третьей октавы\t1720.00\n",
    "- A\tЛя второй октавы\t880.00\n",
    "- A\tЛя первой октавы\t440.00\n",
    "- A\tЛя малой октавы\t220.00\n",
    "- A\tЛя большой октавы\t110.00\n",
    "- A\tЛя контроктавы\t55.00\n",
    "- A\tЛя субконтроктавы\t27.50\n",
    "- \n",
    "- \n",
    "- G#\tСоль-диез четвёртой октавы\t3332.40\n",
    "- G#\tСоль-диез третьей октавы\t1661.20\n",
    "- G#\tСоль-диез второй октавы\t830.60\n",
    "- G#\tСоль-диез первой октавы\t415.30\n",
    "- G#\tСоль-диез малой октавы\t207.00\n",
    "- G#\tСоль-диез большой октавы\t103.80\n",
    "- G#\tСоль-диез контроктавы\t51.90\n",
    "- G#\tСоль-диез субконтроктавы\t25.95\n",
    "- \n",
    "- \n",
    "- G\tСоль четвёртой октавы\t3136.00\n",
    "- G\tСоль третьей октавы\t1568.00\n",
    "- G\tСоль второй октавы\t784.00\n",
    "- G\tСоль первой октавы\t392.00\n",
    "- G\tСоль малой октавы\t196.00\n",
    "- G\tСоль большой октавы\t98.00\n",
    "- G\tСоль контроктавы\t49.00\n",
    "- G\tСоль субконтроктавы\t24.50\n",
    "- \n",
    "- \n",
    "- F#\tФа-диез четвёртой октавы\t2960.00\n",
    "- F#\tФа-диез третьей октавы\t1480.00\n",
    "- F#\tФа-диез второй октавы\t739.98\n",
    "- F#\tФа-диез первой октавы\t369.99\n",
    "- F#\tФа-диез малой октавы\t185.00\n",
    "- F#\tФа-диез большой октавы\t92.50\n",
    "- F#\tФа-диез контроктавы\t46.25\n",
    "- F#\tФа-диез субконтроктавы\t23.12\n",
    "- \n",
    "- \n",
    "- F\tФа четвёртой октавы\t2793.80\n",
    "- F\tФа третьей октавы\t1396.90\n",
    "- F\tФа второй октавы\t698.46\n",
    "- F\tФа первой октавы\t349.23\n",
    "- F\tФа малой октавы\t174.62\n",
    "- F\tФа большой октавы\t87.31\n",
    "- F\tФа контроктавы\t43.65\n",
    "- F\tФа субконтроктавы\t21.82\n"
   ]
  },
  {
   "cell_type": "code",
   "execution_count": 2,
   "id": "34d41ed3",
   "metadata": {},
   "outputs": [],
   "source": [
    "data_dir_audio1 = pathlib.Path(r\"D:\\magistracy\\diplom\\flute-audio-labelled-database-AMT\\Recordings\")"
   ]
  },
  {
   "cell_type": "code",
   "execution_count": 3,
   "id": "8135f775",
   "metadata": {},
   "outputs": [],
   "source": [
    "data_dir_audio2 = pathlib.Path(r\"D:\\magistracy\\diplom\\CSD\\english\\wav\")"
   ]
  },
  {
   "cell_type": "code",
   "execution_count": 4,
   "id": "87c49442",
   "metadata": {},
   "outputs": [],
   "source": [
    "data_dir_audio3 = pathlib.Path(r\"D:\\magistracy\\diplom\\CSD\\korean\\wav\")"
   ]
  },
  {
   "cell_type": "code",
   "execution_count": 5,
   "id": "65fdca65",
   "metadata": {},
   "outputs": [
    {
     "data": {
      "text/plain": [
       "['D:\\\\magistracy\\\\diplom\\\\flute-audio-labelled-database-AMT\\\\Recordings\\\\arpeg-AbMaj-060BPM-leg.wav',\n",
       " 'D:\\\\magistracy\\\\diplom\\\\flute-audio-labelled-database-AMT\\\\Recordings\\\\arpeg-AbMaj-090BPM-leg.wav',\n",
       " 'D:\\\\magistracy\\\\diplom\\\\flute-audio-labelled-database-AMT\\\\Recordings\\\\arpeg-AbMaj-120BPM-leg.wav']"
      ]
     },
     "execution_count": 5,
     "metadata": {},
     "output_type": "execute_result"
    }
   ],
   "source": [
    "filenames_audio1 = []\n",
    "filenames_audio2 = []\n",
    "\n",
    "for file in os.listdir(data_dir_audio1):\n",
    "    if fnmatch.fnmatch(file,'*leg*.wav'):\n",
    "        filenames_audio1.append(os.path.join(data_dir_audio1, file))\n",
    "for file in os.listdir(data_dir_audio2):\n",
    "    if fnmatch.fnmatch(file,'*.wav'):\n",
    "        filenames_audio2.append(os.path.join(data_dir_audio2, file))\n",
    "for file in os.listdir(data_dir_audio3):\n",
    "    if fnmatch.fnmatch(file,'*.wav'):\n",
    "        filenames_audio2.append(os.path.join(data_dir_audio3, file))\n",
    "filenames_audio1[0:3]"
   ]
  },
  {
   "cell_type": "code",
   "execution_count": 6,
   "id": "85f11cb6",
   "metadata": {},
   "outputs": [
    {
     "data": {
      "text/plain": [
       "['D:\\\\magistracy\\\\diplom\\\\CSD\\\\english\\\\wav\\\\en001a.wav',\n",
       " 'D:\\\\magistracy\\\\diplom\\\\CSD\\\\english\\\\wav\\\\en001b.wav',\n",
       " 'D:\\\\magistracy\\\\diplom\\\\CSD\\\\english\\\\wav\\\\en002a.wav']"
      ]
     },
     "execution_count": 6,
     "metadata": {},
     "output_type": "execute_result"
    }
   ],
   "source": [
    "filenames_audio2[0:3]"
   ]
  },
  {
   "cell_type": "code",
   "execution_count": 7,
   "id": "775f0103",
   "metadata": {},
   "outputs": [
    {
     "name": "stdout",
     "output_type": "stream",
     "text": [
      "Number of total examples: 241\n",
      "Example file tensor: D:\\magistracy\\diplom\\flute-audio-labelled-database-AMT\\Recordings\\arpeg-AbMaj-060BPM-leg.wav\n"
     ]
    }
   ],
   "source": [
    "num_samples = len(filenames_audio1)+len(filenames_audio2)\n",
    "print('Number of total examples:', num_samples)\n",
    "print('Example file tensor:', filenames_audio1[0])"
   ]
  },
  {
   "cell_type": "code",
   "execution_count": 8,
   "id": "f575f5af",
   "metadata": {},
   "outputs": [],
   "source": [
    "data_dir_txt = pathlib.Path(r\"D:\\magistracy\\diplom\\flute-audio-labelled-database-AMT\\Aligned_files\\text_files\")"
   ]
  },
  {
   "cell_type": "code",
   "execution_count": 9,
   "id": "e87f3ee6",
   "metadata": {},
   "outputs": [],
   "source": [
    "data_dir_csv1 = pathlib.Path(r\"D:\\magistracy\\diplom\\CSD\\english\\csv\")"
   ]
  },
  {
   "cell_type": "code",
   "execution_count": 10,
   "id": "6acf16e0",
   "metadata": {},
   "outputs": [],
   "source": [
    "data_dir_csv2 = pathlib.Path(r\"D:\\magistracy\\diplom\\CSD\\korean\\csv\")"
   ]
  },
  {
   "cell_type": "code",
   "execution_count": 11,
   "id": "e28bc354",
   "metadata": {},
   "outputs": [
    {
     "data": {
      "text/plain": [
       "['D:\\\\magistracy\\\\diplom\\\\flute-audio-labelled-database-AMT\\\\Aligned_files\\\\text_files\\\\arpeg-AbMaj-060BPM-leg-lined.txt',\n",
       " 'D:\\\\magistracy\\\\diplom\\\\flute-audio-labelled-database-AMT\\\\Aligned_files\\\\text_files\\\\arpeg-AbMaj-090BPM-leg-lined.txt',\n",
       " 'D:\\\\magistracy\\\\diplom\\\\flute-audio-labelled-database-AMT\\\\Aligned_files\\\\text_files\\\\arpeg-AbMaj-120BPM-leg-lined.txt']"
      ]
     },
     "execution_count": 11,
     "metadata": {},
     "output_type": "execute_result"
    }
   ],
   "source": [
    "filenames_txt = []\n",
    "\n",
    "for file in os.listdir(data_dir_txt):\n",
    "    #if file.endswith(r\".txt\") :\n",
    "    if fnmatch.fnmatch(file,'*leg*.txt'):\n",
    "        filenames_txt.append(os.path.join(data_dir_txt, file))\n",
    "filenames_txt[0:3]"
   ]
  },
  {
   "cell_type": "code",
   "execution_count": 12,
   "id": "d6246c28",
   "metadata": {},
   "outputs": [
    {
     "data": {
      "text/plain": [
       "['D:\\\\magistracy\\\\diplom\\\\CSD\\\\english\\\\csv\\\\en001a.csv',\n",
       " 'D:\\\\magistracy\\\\diplom\\\\CSD\\\\english\\\\csv\\\\en001b.csv',\n",
       " 'D:\\\\magistracy\\\\diplom\\\\CSD\\\\english\\\\csv\\\\en002a.csv']"
      ]
     },
     "execution_count": 12,
     "metadata": {},
     "output_type": "execute_result"
    }
   ],
   "source": [
    "filenames_csv = []\n",
    "\n",
    "for file in os.listdir(data_dir_csv1):\n",
    "    #if file.endswith(r\".txt\") :\n",
    "    if fnmatch.fnmatch(file,'*.csv'):\n",
    "        filenames_csv.append(os.path.join(data_dir_csv1, file))\n",
    "for file in os.listdir(data_dir_csv2):\n",
    "    #if file.endswith(r\".txt\") :\n",
    "    if fnmatch.fnmatch(file,'*.csv'):\n",
    "        filenames_csv.append(os.path.join(data_dir_csv2, file))\n",
    "filenames_csv[0:3]"
   ]
  },
  {
   "cell_type": "code",
   "execution_count": 13,
   "id": "789fab85",
   "metadata": {},
   "outputs": [
    {
     "name": "stdout",
     "output_type": "stream",
     "text": [
      "Number of total examples: 241\n",
      "Example file tensor (txt): D:\\magistracy\\diplom\\flute-audio-labelled-database-AMT\\Aligned_files\\text_files\\arpeg-AbMaj-060BPM-leg-lined.txt\n",
      "Example file tensor (csv): D:\\magistracy\\diplom\\CSD\\english\\csv\\en001a.csv\n"
     ]
    }
   ],
   "source": [
    "num_txt_csv = len(filenames_txt)+len(filenames_csv)\n",
    "print('Number of total examples:', num_txt_csv)\n",
    "print('Example file tensor (txt):', filenames_txt[0])\n",
    "print('Example file tensor (csv):', filenames_csv[0])"
   ]
  },
  {
   "cell_type": "markdown",
   "id": "f680388d",
   "metadata": {},
   "source": [
    "Математическая формула частоты для всего звукоряда имеет следующий вид:  \n",
    "$$\n",
    "  f(i)=f_0\\bullet2^{i/12},\\quad\\quad\\quad(1)\n",
    "$$  \n",
    "где $f_0$ - частота камертона (обычно соответствует ноте A и равна 440 Гц), $i$ - количество полутонов в интервале от исследуемого звука к эталону $f_0$.  \n",
    "Для нахождения количества полутонов, на которое заданная частота $f(i)$ отстает от частоты камертона $f_0$, используется формула, полученная из (1):  \n",
    "$$\n",
    "i = \\frac{\\ln{\\frac{f_0}{f(i)}}}{\\ln{2^{\\frac{1}{12}}}}.\\quad\\quad\\quad(2)\n",
    "$$  \n",
    "\n",
    "Для сведения всех нот к 12 основным, необходимо найти $z = round(i) \\% 12 = y \\% 12$. При этом, если $z<0$, то разворачиваем ноту так, чтобы она оказалась выше ноты A. Отсюда получаем:\n",
    "$$\n",
    "z=\n",
    "\\begin{cases}\n",
    "   y \\% 12, &\\text{ $z\\geq0$},\\\\\n",
    "   12 + y \\% 12, &\\text{ $z<0$}.\n",
    " \\end{cases}\n",
    "\\quad\\quad\\quad (3)\n",
    "$$  \n",
    "Нота, соответствующая заданной частоте без учета октав, определяется из значения $z$ по таблице:"
   ]
  },
  {
   "cell_type": "markdown",
   "id": "35884001",
   "metadata": {},
   "source": [
    "| z | Нота | z | Нота | z | Нота | z | Нота |\n",
    "| --- | --- | --- | --- | --- | --- | --- | --- |\n",
    "| 0 | A | 3 | F# | 6 | D# | 9 | C |\n",
    "| 1 | G# | 4 | F | 7 | D | 10 | B |\n",
    "| 2 | G | 5 | E | 8 | C# | 11 | A# |"
   ]
  },
  {
   "cell_type": "markdown",
   "id": "8f6292dd",
   "metadata": {},
   "source": [
    "Таким образом, зная разбиение мелодий по времени на ноты и соответствующие этим нотам частоты, можно разделить аудио на записи конкретных нот, распределив их по директориям, соответствующим названиям нот."
   ]
  },
  {
   "cell_type": "code",
   "execution_count": 14,
   "id": "e4d33dc4",
   "metadata": {},
   "outputs": [],
   "source": [
    "def freq_distrib(freq):\n",
    "    note = None\n",
    "    \n",
    "    y = np.log(440/freq)/np.log(2**(1/12))\n",
    "    z = round(y)%12\n",
    "    if z < 0:\n",
    "        z += 12 \n",
    "       \n",
    "    n = {0: 'A/',\n",
    "         1: 'G#/',\n",
    "         2: 'G/',\n",
    "         3: 'F#/',\n",
    "         4: 'F/',\n",
    "         5: 'E/',\n",
    "         6: 'D#/',\n",
    "         7: 'D/',\n",
    "         8: 'C#/',\n",
    "         9: 'C/',\n",
    "         10: 'B/',\n",
    "         11: 'A#/'}\n",
    "    note = n[z]\n",
    "\n",
    "    return note"
   ]
  },
  {
   "cell_type": "code",
   "execution_count": 15,
   "id": "97f13af2",
   "metadata": {},
   "outputs": [],
   "source": [
    "import shutil\n",
    "\n",
    "try:\n",
    "    shutil.rmtree(\"records_cut\")\n",
    "except OSError as e:\n",
    "    pass\n",
    "\n",
    "os.makedirs(\"records_cut\")\n",
    "os.makedirs(\"records_cut/A\")\n",
    "os.makedirs(\"records_cut/G#\")\n",
    "os.makedirs(\"records_cut/G\")\n",
    "os.makedirs(\"records_cut/F#\")\n",
    "os.makedirs(\"records_cut/F\")\n",
    "os.makedirs(\"records_cut/E\")\n",
    "os.makedirs(\"records_cut/D#\")\n",
    "os.makedirs(\"records_cut/D\")\n",
    "os.makedirs(\"records_cut/C#\")\n",
    "os.makedirs(\"records_cut/C\")\n",
    "os.makedirs(\"records_cut/B\")\n",
    "os.makedirs(\"records_cut/A#\")"
   ]
  },
  {
   "cell_type": "markdown",
   "id": "4db98aa2",
   "metadata": {},
   "source": [
    "В датасете \"CSD\" вместо частот заданы высоты тонов (pitches). Для перехода к частотам используем стандарт midi:  \n",
    "$$f = 440\\bullet2^{\\frac{p-69}{12}},\\quad\\quad\\quad (4)$$ \n",
    "где $f$ - частота в Гц, $p$ - высота тона.  \n",
    "  \n",
    "  Для удобства переведем секунды в отсчеты. Частота мелодий в датасете равна 44100 Гц, т.е. 44100 отсчетов в секунду. Значит, для перевода времени в отсчеты воспользуемся формулой (5):\n",
    "  $$n = round(t)\\bullet44100,\\quad\\quad\\quad (5)$$\n",
    "где $n$ - количество отсчетов, $t$ - время в секундах."
   ]
  },
  {
   "cell_type": "code",
   "execution_count": 16,
   "id": "df2c0e73",
   "metadata": {},
   "outputs": [
    {
     "name": "stderr",
     "output_type": "stream",
     "text": [
      "C:\\Users\\belas\\AppData\\Local\\Temp/ipykernel_9640/1727488073.py:53: WavFileWarning: Chunk (non-data) not understood, skipping it.\n",
      "  _ , data = wavfile.read(filenames_audio2[f_num])\n"
     ]
    }
   ],
   "source": [
    "from scipy.io import wavfile\n",
    "import scipy.io\n",
    "import csv\n",
    "\n",
    "for f_num in range(len(filenames_txt)):\n",
    "    f = open(filenames_txt[f_num], 'r')\n",
    "    l = [line.strip() for line in f]\n",
    "    l = l[4:len(l)-1]\n",
    "    time_start = []\n",
    "    time_end = []\n",
    "    frequency = []\n",
    "\n",
    "    for a in l:\n",
    "        start,length,freq = a.split(' ')\n",
    "        time_start.append(int(np.floor(float(start)*44100)))\n",
    "        time_end.append(int(np.ceil((float(start)+float(length))*44100)))\n",
    "        frequency.append(float(freq))\n",
    "    f.close()\n",
    "\n",
    "    _ , data = wavfile.read(filenames_audio1[f_num])\n",
    "    waveform = data\n",
    "    \n",
    "    for k in range(len(time_start)):\n",
    "        \n",
    "        note = freq_distrib(frequency[k])\n",
    "        \n",
    "        if note!=None:\n",
    "            file_name = 'records_cut/'+note+filenames_audio1[f_num][len(str(data_dir_audio1))+1:len(filenames_audio1[f_num])-4]+'_'+str(k+1)\n",
    "            scipy.io.wavfile.write(file_name+'.wav', 44100, waveform[time_start[k]:time_end[k]+1])\n",
    "\n",
    "for f_num in range(len(filenames_csv)):\n",
    "    #if f_num not in [58,59]:\n",
    "    time_start = []\n",
    "    time_end = []\n",
    "    frequency = []\n",
    "    pitch = []\n",
    "    with open(filenames_csv[f_num]) as f:\n",
    "        reader = csv.reader(f)\n",
    "        for row in reader:\n",
    "            time_start.append(row[0])\n",
    "            time_end.append(row[1])\n",
    "            frequency.append(row[2])\n",
    "            pitch.append(row[2])\n",
    "    time_start = list(map(float,time_start[1:len(time_start)+1]))\n",
    "    time_end = list(map(float,time_end[1:len(time_end)+1]))\n",
    "    frequency = list(map(float,frequency[1:len(frequency)+1]))\n",
    "    pitch = list(map(float,pitch[1:len(pitch)+1]))\n",
    "    for i in range(len(time_start)):\n",
    "        time_start[i] = int(np.floor(time_start[i]*44100))\n",
    "        time_end[i] = int(np.floor(time_end[i]*44100))\n",
    "        frequency[i] = 440*2**((frequency[i]-69)/12) # Перевод pitch в frequency\n",
    "\n",
    "    _ , data = wavfile.read(filenames_audio2[f_num])\n",
    "\n",
    "    if f_num not in [58,59]:\n",
    "        waveform = data[:,0]\n",
    "    else:\n",
    "        waveform = data\n",
    "\n",
    "\n",
    "    for k in range(len(time_start)):\n",
    "\n",
    "        note = freq_distrib(frequency[k])\n",
    "\n",
    "        if note!=None:\n",
    "            file_name = 'records_cut/'+note+filenames_audio2[f_num][len(filenames_audio2[f_num])-10:len(filenames_audio2[f_num])-4]+'_'+str(k+1)\n",
    "            scipy.io.wavfile.write(file_name+'.wav', 44100, waveform[time_start[k]:time_end[k]+1])\n"
   ]
  },
  {
   "cell_type": "code",
   "execution_count": null,
   "id": "1b6b9f6e",
   "metadata": {},
   "outputs": [],
   "source": []
  }
 ],
 "metadata": {
  "kernelspec": {
   "display_name": "Python 3 (ipykernel)",
   "language": "python",
   "name": "python3"
  },
  "language_info": {
   "codemirror_mode": {
    "name": "ipython",
    "version": 3
   },
   "file_extension": ".py",
   "mimetype": "text/x-python",
   "name": "python",
   "nbconvert_exporter": "python",
   "pygments_lexer": "ipython3",
   "version": "3.9.7"
  }
 },
 "nbformat": 4,
 "nbformat_minor": 5
}
