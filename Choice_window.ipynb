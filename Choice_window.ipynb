{
 "cells": [
  {
   "cell_type": "code",
   "execution_count": 1,
   "id": "0f4e13dc",
   "metadata": {},
   "outputs": [],
   "source": [
    "import os\n",
    "import pathlib\n",
    "\n",
    "import matplotlib.pyplot as plt\n",
    "import numpy as np\n",
    "import seaborn as sns\n",
    "import tensorflow as tf\n",
    "\n",
    "from tensorflow.keras.layers.experimental import preprocessing\n",
    "from tensorflow.keras import layers\n",
    "from tensorflow.keras import models\n",
    "from tensorflow import keras\n",
    "from IPython import display\n",
    "\n",
    "\n",
    "import fnmatch\n",
    "\n",
    "# Set seed for experiment reproducibility\n",
    "seed = 42\n",
    "tf.random.set_seed(seed)\n",
    "np.random.seed(seed)"
   ]
  },
  {
   "cell_type": "code",
   "execution_count": 2,
   "id": "e989517d",
   "metadata": {},
   "outputs": [],
   "source": [
    "data_dir = pathlib.Path(r\"D:\\magistracy\\diplom\\records_cut\")\n",
    "filenames = []\n",
    "for root, dirs, files in os.walk(data_dir):\n",
    "    for file in files:\n",
    "        if(file.endswith(\".wav\")):\n",
    "            filenames.append(os.path.join(root,file))"
   ]
  },
  {
   "cell_type": "code",
   "execution_count": 6,
   "id": "e99a42ed",
   "metadata": {},
   "outputs": [
    {
     "name": "stdout",
     "output_type": "stream",
     "text": [
      "Number of total examples: 30828\n"
     ]
    }
   ],
   "source": [
    "filenames = tf.random.shuffle(filenames)\n",
    "num_samples = len(filenames)\n",
    "print('Number of total examples:', num_samples)\n"
   ]
  },
  {
   "cell_type": "code",
   "execution_count": 7,
   "id": "a14e02f1",
   "metadata": {},
   "outputs": [],
   "source": [
    "def decode_audio(audio_binary):\n",
    "    audio, _ = tf.audio.decode_wav(audio_binary) # возвращает WAV-кодированные как Тензор и частотой дискретизации.\n",
    "    return tf.squeeze(audio, axis=-1)\n",
    "\n",
    "def get_label(file_path):\n",
    "    parts = tf.strings.split(file_path, os.path.sep)\n",
    "    # Примечание. Здесь будет использоваться индексирование вместо распаковки кортежей, \n",
    "    # чтобы это работало на графике TensorFlow.\n",
    "    return parts[-2]\n",
    "\n",
    "def get_waveform_and_label(file_path):\n",
    "    label = get_label(file_path)\n",
    "    audio_binary = tf.io.read_file(file_path)\n",
    "    waveform = decode_audio(audio_binary)\n",
    "    return waveform, label, file_path\n",
    "\n",
    "def without_zero_len(waveform, label, file_path):\n",
    "    if len(waveform)!=0:  \n",
    "        return True\n",
    "    return False"
   ]
  },
  {
   "cell_type": "code",
   "execution_count": 8,
   "id": "14699636",
   "metadata": {},
   "outputs": [],
   "source": [
    "AUTOTUNE = tf.data.experimental.AUTOTUNE"
   ]
  },
  {
   "cell_type": "code",
   "execution_count": 9,
   "id": "8047d59a",
   "metadata": {},
   "outputs": [],
   "source": [
    "files_ds = tf.data.Dataset.from_tensor_slices(filenames)\n",
    "output_ds = files_ds.map(get_waveform_and_label, num_parallel_calls=AUTOTUNE)\n",
    "output_ds = output_ds.filter(without_zero_len) "
   ]
  },
  {
   "cell_type": "code",
   "execution_count": 10,
   "id": "306e5843",
   "metadata": {},
   "outputs": [],
   "source": [
    "data = []\n",
    "lengths = []\n",
    "for a,b,c in output_ds:\n",
    "    data.append((a.shape[0],b,c))\n",
    "    lengths.append(a.shape[0])"
   ]
  },
  {
   "cell_type": "code",
   "execution_count": 11,
   "id": "6b02a83b",
   "metadata": {},
   "outputs": [
    {
     "data": {
      "text/plain": [
       "[(14580,\n",
       "  <tf.Tensor: shape=(), dtype=string, numpy=b'C'>,\n",
       "  <tf.Tensor: shape=(), dtype=string, numpy=b'D:\\\\magistracy\\\\diplom\\\\records_cut\\\\C\\\\kr042a_58.wav'>),\n",
       " (18898,\n",
       "  <tf.Tensor: shape=(), dtype=string, numpy=b'C'>,\n",
       "  <tf.Tensor: shape=(), dtype=string, numpy=b'D:\\\\magistracy\\\\diplom\\\\records_cut\\\\C\\\\en008b_28.wav'>),\n",
       " (54280,\n",
       "  <tf.Tensor: shape=(), dtype=string, numpy=b'G'>,\n",
       "  <tf.Tensor: shape=(), dtype=string, numpy=b'D:\\\\magistracy\\\\diplom\\\\records_cut\\\\G\\\\en039b_14.wav'>),\n",
       " (27480,\n",
       "  <tf.Tensor: shape=(), dtype=string, numpy=b'C'>,\n",
       "  <tf.Tensor: shape=(), dtype=string, numpy=b'D:\\\\magistracy\\\\diplom\\\\records_cut\\\\C\\\\en014b_24.wav'>),\n",
       " (6894,\n",
       "  <tf.Tensor: shape=(), dtype=string, numpy=b'B'>,\n",
       "  <tf.Tensor: shape=(), dtype=string, numpy=b'D:\\\\magistracy\\\\diplom\\\\records_cut\\\\B\\\\en021a_188.wav'>),\n",
       " (19943,\n",
       "  <tf.Tensor: shape=(), dtype=string, numpy=b'G#'>,\n",
       "  <tf.Tensor: shape=(), dtype=string, numpy=b'D:\\\\magistracy\\\\diplom\\\\records_cut\\\\G#\\\\en050a_98.wav'>),\n",
       " (31132,\n",
       "  <tf.Tensor: shape=(), dtype=string, numpy=b'G'>,\n",
       "  <tf.Tensor: shape=(), dtype=string, numpy=b'D:\\\\magistracy\\\\diplom\\\\records_cut\\\\G\\\\en028a_46.wav'>),\n",
       " (18091,\n",
       "  <tf.Tensor: shape=(), dtype=string, numpy=b'G'>,\n",
       "  <tf.Tensor: shape=(), dtype=string, numpy=b'D:\\\\magistracy\\\\diplom\\\\records_cut\\\\G\\\\en011a_77.wav'>),\n",
       " (10872,\n",
       "  <tf.Tensor: shape=(), dtype=string, numpy=b'C#'>,\n",
       "  <tf.Tensor: shape=(), dtype=string, numpy=b'D:\\\\magistracy\\\\diplom\\\\records_cut\\\\C#\\\\en048b_58.wav'>),\n",
       " (7670,\n",
       "  <tf.Tensor: shape=(), dtype=string, numpy=b'F'>,\n",
       "  <tf.Tensor: shape=(), dtype=string, numpy=b'D:\\\\magistracy\\\\diplom\\\\records_cut\\\\F\\\\kr018b_196.wav'>)]"
      ]
     },
     "execution_count": 11,
     "metadata": {},
     "output_type": "execute_result"
    }
   ],
   "source": [
    "data[0:10]"
   ]
  },
  {
   "cell_type": "code",
   "execution_count": 12,
   "id": "808b6a47",
   "metadata": {},
   "outputs": [
    {
     "data": {
      "text/plain": [
       "[0.035707329740959554,\n",
       " 0.8147763422709863,\n",
       " 11.348438615854056,\n",
       " 19.95715120431085,\n",
       " 41.543855093163664]"
      ]
     },
     "execution_count": 12,
     "metadata": {},
     "output_type": "execute_result"
    }
   ],
   "source": [
    "var_len = [2048, 4096, 8192, 10240, 12600]\n",
    "res = []\n",
    "for l in var_len:\n",
    "    count = 0\n",
    "    for a in lengths:\n",
    "        if a<l:\n",
    "            count+=1\n",
    "    res.append(count/len(lengths)*100)\n",
    "res    "
   ]
  },
  {
   "cell_type": "code",
   "execution_count": 13,
   "id": "c05f57e7",
   "metadata": {},
   "outputs": [
    {
     "name": "stdout",
     "output_type": "stream",
     "text": [
      "11.0\n",
      "251.00000000000003\n",
      "3496.0000000000005\n",
      "6148.0\n",
      "12797.999999999998\n"
     ]
    }
   ],
   "source": [
    "for r in res:\n",
    "    print(r/100*len(lengths))"
   ]
  },
  {
   "cell_type": "code",
   "execution_count": 14,
   "id": "3f056dc3",
   "metadata": {},
   "outputs": [
    {
     "data": {
      "text/plain": [
       "30806"
      ]
     },
     "execution_count": 14,
     "metadata": {},
     "output_type": "execute_result"
    }
   ],
   "source": [
    "len(lengths)"
   ]
  },
  {
   "cell_type": "code",
   "execution_count": 15,
   "id": "a1253f2e",
   "metadata": {},
   "outputs": [
    {
     "data": {
      "text/plain": [
       "array([4096, 4137, 4178, 4220, 4261, 4302, 4344, 4385, 4426, 4468, 4509,\n",
       "       4551, 4592, 4633, 4675, 4716, 4757, 4799, 4840, 4882, 4923, 4964,\n",
       "       5006, 5047, 5088, 5130, 5171, 5213, 5254, 5295, 5337, 5378, 5419,\n",
       "       5461, 5502, 5544, 5585, 5626, 5668, 5709, 5750, 5792, 5833, 5875,\n",
       "       5916, 5957, 5999, 6040, 6081, 6123, 6164, 6206, 6247, 6288, 6330,\n",
       "       6371, 6412, 6454, 6495, 6537, 6578, 6619, 6661, 6702, 6743, 6785,\n",
       "       6826, 6868, 6909, 6950, 6992, 7033, 7074, 7116, 7157, 7199, 7240,\n",
       "       7281, 7323, 7364, 7405, 7447, 7488, 7530, 7571, 7612, 7654, 7695,\n",
       "       7736, 7778, 7819, 7861, 7902, 7943, 7985, 8026, 8067, 8109, 8150,\n",
       "       8192])"
      ]
     },
     "execution_count": 15,
     "metadata": {},
     "output_type": "execute_result"
    }
   ],
   "source": [
    "var_len_st = 4096\n",
    "var_len_e = 8192\n",
    "var_len = np.linspace(var_len_st,var_len_e,num=100, dtype=np.int32)\n",
    "var_len"
   ]
  },
  {
   "cell_type": "code",
   "execution_count": 16,
   "id": "306b5ff9",
   "metadata": {},
   "outputs": [
    {
     "data": {
      "text/plain": [
       "[(4096, 0.8147763422709863),\n",
       " (4137, 0.8342530675842369),\n",
       " (4178, 0.8504836720119457),\n",
       " (4220, 0.8569759137830292),\n",
       " (4261, 0.8861910017529053),\n",
       " (4302, 0.8991754852950723),\n",
       " (4344, 0.934882815036032),\n",
       " (4385, 0.9446211776926573),\n",
       " (4426, 0.9770823865480751),\n",
       " (4468, 0.9998052327468676),\n",
       " (4509, 1.0030513536324093),\n",
       " (4551, 1.0062974745179512),\n",
       " (4592, 1.02252807894566),\n",
       " (4633, 1.0614815295721614),\n",
       " (4675, 1.1361423099396222),\n",
       " (4716, 1.1588651561384147),\n",
       " (4757, 1.1848341232227488),\n",
       " (4799, 1.2043108485359995),\n",
       " (4840, 1.210803090307083),\n",
       " (4882, 1.2205414529637084),\n",
       " (4923, 1.2335259365058755),\n",
       " (4964, 1.2724793871323767),\n",
       " (5006, 1.285463870674544),\n",
       " (5047, 1.3016944751022528),\n",
       " (5088, 1.340647925728754),\n",
       " (5130, 1.4704927611504253),\n",
       " (5171, 1.5905992339154709),\n",
       " (5213, 1.6003375965720963),\n",
       " (5254, 1.7042134649094332),\n",
       " (5295, 1.75290527819256),\n",
       " (5337, 1.7691358826202688),\n",
       " (5378, 1.7983509705901446),\n",
       " (5419, 1.8178276959033952),\n",
       " (5461, 1.8308121794455627),\n",
       " (5502, 1.8730117509576056),\n",
       " (5544, 3.129260533662274),\n",
       " (5585, 3.194182951373109),\n",
       " (5626, 3.226644160228527),\n",
       " (5668, 3.242874764656236),\n",
       " (5709, 3.275335973511653),\n",
       " (5750, 3.307797182367071),\n",
       " (5792, 3.590209699409206),\n",
       " (5833, 3.629163150035707),\n",
       " (5875, 3.6551321171200413),\n",
       " (5916, 3.9764980847886773),\n",
       " (5957, 3.989482568330845),\n",
       " (5999, 4.025189898071805),\n",
       " (6040, 4.236187755632019),\n",
       " (6081, 4.281633448029605),\n",
       " (6123, 4.297864052457314),\n",
       " (6164, 4.372524832824774),\n",
       " (6206, 4.4926313055898195),\n",
       " (6247, 4.52833863533078),\n",
       " (6288, 4.5510614815295725),\n",
       " (6330, 4.6906446796078685),\n",
       " (6371, 4.732844251119912),\n",
       " (6412, 4.755567097318704),\n",
       " (6454, 4.8139972732584555),\n",
       " (6495, 4.859442965656041),\n",
       " (6537, 4.963318833993378),\n",
       " (6578, 5.005518405505421),\n",
       " (6619, 5.115886515613841),\n",
       " (6661, 5.1515938453548005),\n",
       " (6702, 5.187301175095761),\n",
       " (6743, 5.206777900409011),\n",
       " (6785, 5.5800818022463154),\n",
       " (6826, 5.881971044601701),\n",
       " (6868, 5.930662857884828),\n",
       " (6909, 5.950139583198078),\n",
       " (6950, 6.002077517366747),\n",
       " (6992, 6.034538726222165),\n",
       " (7033, 6.057261572420957),\n",
       " (7074, 6.089722781276375),\n",
       " (7116, 6.414334869830553),\n",
       " (7157, 6.430565474258261),\n",
       " (7199, 6.492241771083555),\n",
       " (7240, 6.505226254625722),\n",
       " (7281, 6.547425826137765),\n",
       " (7323, 6.8298383431799),\n",
       " (7364, 7.229111212101539),\n",
       " (7405, 7.268064662728039),\n",
       " (7447, 7.381678893722002),\n",
       " (7488, 7.404401739920795),\n",
       " (7530, 7.427124586119587),\n",
       " (7571, 7.453093553203921),\n",
       " (7612, 7.50503148737259),\n",
       " (7654, 7.5602155424268),\n",
       " (7695, 9.063169512432644),\n",
       " (7736, 9.13133805102902),\n",
       " (7778, 9.173537622541064),\n",
       " (7819, 10.712198922287866),\n",
       " (7861, 10.790105823540868),\n",
       " (7902, 10.861520483022788),\n",
       " (7943, 10.903720054534832),\n",
       " (7985, 10.95890410958904),\n",
       " (8026, 11.189378692462508),\n",
       " (8067, 11.2121015386613),\n",
       " (8109, 11.260793351944425),\n",
       " (8150, 11.319223527884178),\n",
       " (8192, 11.348438615854056)]"
      ]
     },
     "execution_count": 16,
     "metadata": {},
     "output_type": "execute_result"
    }
   ],
   "source": [
    "res = []\n",
    "idxs = []\n",
    "for l in var_len:\n",
    "    count = 0\n",
    "    idx = []\n",
    "    for a in range(len(lengths)):\n",
    "        if lengths[a]<l:\n",
    "            count+=1\n",
    "            idx.append(a)\n",
    "    res.append((l,count/len(lengths)*100))\n",
    "    idxs.append(idx)\n",
    "res"
   ]
  },
  {
   "cell_type": "code",
   "execution_count": 18,
   "id": "5f216d59",
   "metadata": {},
   "outputs": [
    {
     "data": {
      "text/plain": [
       "<function matplotlib.pyplot.grid(b=None, which='major', axis='both', **kwargs)>"
      ]
     },
     "execution_count": 18,
     "metadata": {},
     "output_type": "execute_result"
    },
    {
     "data": {
      "image/png": "[encoded data removed]",
      "text/plain": [
       "<Figure size 432x288 with 1 Axes>"
      ]
     },
     "metadata": {
      "needs_background": "light"
     },
     "output_type": "display_data"
    }
   ],
   "source": [
    "plt.plot(var_len,[res[k][1] for k in range(len(res))])\n",
    "plt.xlabel('Размер окна, отсчеты')\n",
    "plt.ylabel('Выбрасываемые файлы, %')\n",
    "plt.title('Зависимость точности от размера окна')\n",
    "plt.grid"
   ]
  },
  {
   "cell_type": "markdown",
   "id": "beac2a03",
   "metadata": {},
   "source": [
    "Наблюдается квадратичный рост. Возьмем размер окна 8192."
   ]
  },
  {
   "cell_type": "code",
   "execution_count": 34,
   "id": "a7b53d4e",
   "metadata": {},
   "outputs": [
    {
     "data": {
      "text/plain": [
       "27310.0"
      ]
     },
     "execution_count": 34,
     "metadata": {},
     "output_type": "execute_result"
    }
   ],
   "source": [
    "len(lengths)-res[-1][1]/100*len(lengths) # Количество файлов, которые надо оставить на рассмотрение"
   ]
  },
  {
   "cell_type": "code",
   "execution_count": 47,
   "id": "a2b4b7fc",
   "metadata": {},
   "outputs": [
    {
     "data": {
      "text/plain": [
       "3496"
      ]
     },
     "execution_count": 47,
     "metadata": {},
     "output_type": "execute_result"
    }
   ],
   "source": [
    "len(idxs[-1]) # Количество файлов, которые нужно отбросить"
   ]
  },
  {
   "cell_type": "code",
   "execution_count": null,
   "id": "8a6c9adb",
   "metadata": {},
   "outputs": [],
   "source": []
  },
  {
   "cell_type": "code",
   "execution_count": null,
   "id": "ac859902",
   "metadata": {},
   "outputs": [],
   "source": []
  }
 ],
 "metadata": {
  "kernelspec": {
   "display_name": "Python 3 (ipykernel)",
   "language": "python",
   "name": "python3"
  },
  "language_info": {
   "codemirror_mode": {
    "name": "ipython",
    "version": 3
   },
   "file_extension": ".py",
   "mimetype": "text/x-python",
   "name": "python",
   "nbconvert_exporter": "python",
   "pygments_lexer": "ipython3",
   "version": "3.9.7"
  }
 },
 "nbformat": 4,
 "nbformat_minor": 5
}
